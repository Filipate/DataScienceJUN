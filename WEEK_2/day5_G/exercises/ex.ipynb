{
 "cells": [
  {
   "cell_type": "code",
   "execution_count": 7,
   "metadata": {
    "tags": []
   },
   "outputs": [
    {
     "output_type": "stream",
     "name": "stdout",
     "text": "La suma es 10\nLa resta es -2\nel produto es 24\nel cociente es 0\n"
    }
   ],
   "source": [
    "def sumar(a,b):\n",
    "    res = a + b\n",
    "    return res\n",
    "\n",
    "def restar(a,b):\n",
    "    res = a - b\n",
    "    return res\n",
    "\n",
    "def multiplicar(n1,n2):\n",
    "    res = n1*n2\n",
    "    return res\n",
    "\n",
    "def division(n1,n2):\n",
    "    res=n1//n2\n",
    "    return res                                       \n",
    "\n",
    "\n",
    "#PROGRAMA PRINCIPAL\n",
    "numero1 = int(input(\"Introduce un número: \"))\n",
    "numero2 = int(input(\"Introduce otro número: \"))\n",
    "res = sumar(numero1, numero2)\n",
    "print(\"La suma es\", res)\n",
    "res = restar(numero1, numero2)\n",
    "print(\"La resta es\", res)\n",
    "res = multiplicar(numero1, numero2)\n",
    "print(\"el produto es\", res)\n",
    "res= division(numero1,numero2)\n",
    "print(\"el cociente es\", res)"
   ]
  },
  {
   "cell_type": "code",
   "execution_count": 9,
   "metadata": {
    "tags": []
   },
   "outputs": [
    {
     "output_type": "stream",
     "name": "stdout",
     "text": "La suma es 7\nLa resta es -1\nel produto es 12\nel cociente es 0\n"
    }
   ],
   "source": [
    "def sumar(a,b):\n",
    "    return a + b\n",
    "\n",
    "def restar(a,b):\n",
    "    return a - b\n",
    "\n",
    "def multiplicar(n1,n2):\n",
    "    return n1 * n2\n",
    "\n",
    "def dividir(n1,n2):\n",
    "    return n1 // n2                                       \n",
    "\n",
    "\n",
    "#PROGRAMA PRINCIPAL\n",
    "numero1 = int(input(\"Introduce un número: \"))\n",
    "numero2 = int(input(\"Introduce otro número: \"))\n",
    "print(\"La suma es\", sumar(numero1, numero2))\n",
    "print(\"La resta es\", restar(numero1, numero2))\n",
    "res = multiplicar(numero1, numero2)\n",
    "print(\"el produto es\", multiplicar(numero1, numero2))\n",
    "print(\"el cociente es\", dividir(numero1,numero2))"
   ]
  },
  {
   "cell_type": "code",
   "execution_count": null,
   "metadata": {},
   "outputs": [],
   "source": [
    "numero1 = int(input(\"Introduce un número: \"))\n",
    "numero2 = int(input(\"Introduce otro número: \"))\n",
    "\n",
    "if numero1 > numero2:\n",
    "    print(\"El primero es mayor\")\n",
    "if numero1 < numero2:\n",
    "    print(\"El segundo es mayor\")\n",
    "if numero1 == numero2:\n",
    "    print(\"Son iguales\") "
   ]
  },
  {
   "cell_type": "code",
   "execution_count": 28,
   "metadata": {
    "tags": []
   },
   "outputs": [
    {
     "output_type": "stream",
     "name": "stdout",
     "text": "El primero es mayor\n"
    }
   ],
   "source": [
    "def compararNumeros(n1,n2):\n",
    "    if n1 > n2:\n",
    "        return \"El primero es mayor\"\n",
    "    elif n1 < n2:\n",
    "        return \"El segundo es mayor\"\n",
    "    else:\n",
    "        return \"Son iguales\" \n",
    "\n",
    "numero1 = int(input(\"Introduce un número: \"))\n",
    "numero2 = int(input(\"Introduce otro número: \"))\n",
    "print(compararNumeros(numero1, numero2))\n"
   ]
  },
  {
   "cell_type": "code",
   "execution_count": 29,
   "metadata": {
    "tags": []
   },
   "outputs": [
    {
     "output_type": "stream",
     "name": "stdout",
     "text": "El segundo es mayor\nNone\n"
    }
   ],
   "source": [
    "def compararNumeros(n1,n2):\n",
    "    if n1 > n2:\n",
    "        print(\"El primero es mayor\")\n",
    "    elif n1 < n2:\n",
    "        print(\"El segundo es mayor\")\n",
    "    else:\n",
    "        print(\"Son iguales\") \n",
    "\n",
    "numero1 = int(input(\"Introduce un número: \"))\n",
    "numero2 = int(input(\"Introduce otro número: \"))\n",
    "compararNumeros(numero1, numero2)"
   ]
  },
  {
   "cell_type": "code",
   "execution_count": 12,
   "metadata": {
    "tags": []
   },
   "outputs": [
    {
     "output_type": "stream",
     "name": "stdout",
     "text": "Son iguales\n"
    }
   ],
   "source": [
    "numero1 = int(input(\"Introduce un número: \"))\n",
    "numero2 = int(input(\"Introduce otro número: \"))\n",
    "\n",
    "if numero1 > numero2:\n",
    "    print(\"El primero es mayor\")\n",
    "elif numero1 < numero2:\n",
    "    print(\"El segundo es mayor\")\n",
    "else:\n",
    "    print(\"Son iguales\") "
   ]
  },
  {
   "cell_type": "code",
   "execution_count": 18,
   "metadata": {
    "tags": []
   },
   "outputs": [
    {
     "output_type": "stream",
     "name": "stdout",
     "text": "es cero\n"
    }
   ],
   "source": [
    "numero = int(input(\"Introduce un número: \"))\n",
    "if numero > 0:\n",
    "    print(\"es positivo\")\n",
    "elif numero < 0:\n",
    "    print(\"negativo\")\n",
    "else:\n",
    "    print(\"es cero\")"
   ]
  },
  {
   "cell_type": "code",
   "execution_count": 36,
   "metadata": {
    "tags": []
   },
   "outputs": [
    {
     "output_type": "execute_result",
     "data": {
      "text/plain": "'es positivo'"
     },
     "metadata": {},
     "execution_count": 36
    }
   ],
   "source": [
    "def calcular_numero (num):\n",
    "    if numero > 0:\n",
    "        return \"es positivo\"\n",
    "    elif numero < 0:\n",
    "        return \"negativo\"\n",
    "    else:\n",
    "        return \"es cero\"\n",
    "\n",
    "numero = int(input(\"Introduce un número: \"))\n",
    "print(calcular_numero(numero))"
   ]
  },
  {
   "cell_type": "code",
   "execution_count": 42,
   "metadata": {
    "tags": []
   },
   "outputs": [
    {
     "output_type": "stream",
     "name": "stdout",
     "text": "No son iguales\n"
    }
   ],
   "source": [
    "def son_iguales (a, b):\n",
    "    if num1 == num2:\n",
    "        return True\n",
    "    return False\n",
    "\n",
    "num1 = int(input(\"Introduce un número: \"))\n",
    "num2 = int(input(\"Introduce otro número: \"))\n",
    "if son_iguales(num1, num2): #son_iguales(num1,num2) == True \n",
    "    print(\"Son iguales\")\n",
    "else:\n",
    "    print(\"No son iguales\")"
   ]
  },
  {
   "cell_type": "code",
   "execution_count": 20,
   "metadata": {
    "tags": []
   },
   "outputs": [
    {
     "output_type": "stream",
     "name": "stdout",
     "text": "Aprobado\n"
    }
   ],
   "source": [
    "nota = float(input(\"intruce un decimal: \"))\n",
    "\n",
    "if nota >= 0 and nota < 5:\n",
    "    print(\"suspenso\")\n",
    "elif nota >=5 and nota < 7:\n",
    "    print(\"Aprobado\")\n",
    "elif nota >=7 and nota < 9:\n",
    "    print(\"Notable\")\n",
    "elif nota >=9 and nota <= 10:\n",
    "    print(\"Sobresaliente\")\n",
    "else:\n",
    "    print(\"nota erronea\")"
   ]
  },
  {
   "cell_type": "code",
   "execution_count": 25,
   "metadata": {
    "tags": []
   },
   "outputs": [
    {
     "output_type": "stream",
     "name": "stdout",
     "text": "Sobresaliente\n"
    }
   ],
   "source": [
    "nota = float(input(\"intruce un decimal: \"))\n",
    "\n",
    "if nota < 0 or nota > 10:\n",
    "    print(\"nota erronea\")\n",
    "elif nota >=0 and nota < 5:\n",
    "    print(\"Suspenso\")\n",
    "elif nota >= 5 and nota < 7:\n",
    "    print(\"Aprobado\")\n",
    "elif nota >=7 and nota < 9:\n",
    "    print(\"Notable\")\n",
    "else:\n",
    "    print(\"Sobresaliente\")"
   ]
  },
  {
   "cell_type": "code",
   "execution_count": null,
   "metadata": {},
   "outputs": [],
   "source": []
  }
 ],
 "metadata": {
  "language_info": {
   "codemirror_mode": {
    "name": "ipython",
    "version": 3
   },
   "file_extension": ".py",
   "mimetype": "text/x-python",
   "name": "python",
   "nbconvert_exporter": "python",
   "pygments_lexer": "ipython3",
   "version": "3.7.6-final"
  },
  "orig_nbformat": 2,
  "kernelspec": {
   "name": "python3",
   "display_name": "Python 3"
  }
 },
 "nbformat": 4,
 "nbformat_minor": 2
}