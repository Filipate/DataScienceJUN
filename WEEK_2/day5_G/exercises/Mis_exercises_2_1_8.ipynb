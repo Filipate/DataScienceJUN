{
 "cells": [
  {
   "cell_type": "code",
   "execution_count": 11,
   "metadata": {},
   "outputs": [],
   "source": [
    "# Ejercicio 3. Para este ejercicio se utilizará la lista lista_información. Lista a la que deberás añadir las siguientes variables utilizando el método append: - Un booleano que sea True si utilizas gafas. False para lo contrario. - Un entero que represente tu edad. - Un float que represente el dinero que te has gastado en tu última compra. - Un string que represente el nombre de uno de tus tí@s. Si no tienes, el nombre de uno de tus herman@s. Si no tienes, alguno de tus abuel@s. Si no tienes, el nombre de tu mejor amigo. Y, si no tienes, el nombre de tu psicólog@. - Una lista que tenga como tamaño 5. Cada una de las posiciones debe representar los números que más te gusten en el rango [0-100] dividido entre 10. Es decir, si eliges el 11, el número sería el 1.1. Si eliges el 100, sería el 10."
   ]
  },
  {
   "cell_type": "code",
   "execution_count": 2,
   "metadata": {},
   "outputs": [
    {
     "output_type": "execute_result",
     "data": {
      "text/plain": "[15, 'Recoletos', False, None, [15, 'Recoletos'], '5']"
     },
     "metadata": {},
     "execution_count": 2
    }
   ],
   "source": [
    "lista_informacion= [15, 'Recoletos', False, None, [15, 'Recoletos'], '5']\n",
    "lista_informacion"
   ]
  },
  {
   "cell_type": "code",
   "execution_count": 3,
   "metadata": {},
   "outputs": [
    {
     "output_type": "execute_result",
     "data": {
      "text/plain": "[15,\n 'Recoletos',\n False,\n None,\n [15, 'Recoletos'],\n '5',\n False,\n 34,\n 54.67,\n 'Luisa',\n [0.3, 1.2, 1.3, 0.7, 0.5]]"
     },
     "metadata": {},
     "execution_count": 3
    }
   ],
   "source": [
    "lista_informacion.append(False)\n",
    "lista_informacion.append(34)\n",
    "lista_informacion.append(54.67)\n",
    "lista_informacion.append(\"Luisa\")\n",
    "lista_informacion.append([0.3, 1.2, 1.3, 0.7, 0.5])\n",
    "lista_informacion"
   ]
  },
  {
   "cell_type": "code",
   "execution_count": null,
   "metadata": {},
   "outputs": [],
   "source": []
  }
 ],
 "metadata": {
  "language_info": {
   "codemirror_mode": {
    "name": "ipython",
    "version": 3
   },
   "file_extension": ".py",
   "mimetype": "text/x-python",
   "name": "python",
   "nbconvert_exporter": "python",
   "pygments_lexer": "ipython3",
   "version": "3.7.6-final"
  },
  "orig_nbformat": 2,
  "kernelspec": {
   "name": "python3",
   "display_name": "Python 3"
  }
 },
 "nbformat": 4,
 "nbformat_minor": 2
}