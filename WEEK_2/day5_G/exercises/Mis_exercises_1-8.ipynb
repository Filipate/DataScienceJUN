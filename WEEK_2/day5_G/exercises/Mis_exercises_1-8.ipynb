{
 "cells": [
  {
   "cell_type": "code",
   "execution_count": 6,
   "metadata": {},
   "outputs": [],
   "source": [
    "#Crea una variable llamada numero_bridge que tenga como valor 15. \n",
    "\n",
    "numero_bridge = 15"
   ]
  },
  {
   "cell_type": "code",
   "execution_count": 7,
   "metadata": {},
   "outputs": [],
   "source": [
    "#Crea una variable llamada nombre_calle que sea un string y sea Recoletos.\n",
    "\n",
    "nombre_calle = \"Recoletos\"\n"
   ]
  },
  {
   "cell_type": "code",
   "execution_count": 8,
   "metadata": {},
   "outputs": [],
   "source": [
    "#Crea una variable llamada gusto_personal que sea True si eres más de playa y False si eres más de montaña.\n",
    "\n",
    "gusto_personal= True"
   ]
  },
  {
   "cell_type": "code",
   "execution_count": 9,
   "metadata": {},
   "outputs": [],
   "source": [
    "#Crea una variable llamada nada de la siguiente forma: nada = None. None no representa ningún valor. Ha de tenerse en cuenta que si se hace if (nada):, nada actúa como un valor booleano False.\n",
    "\n",
    "nada= None"
   ]
  },
  {
   "cell_type": "code",
   "execution_count": 10,
   "metadata": {},
   "outputs": [],
   "source": [
    "#Crea una variable que llamada lista_direccion que sea una lista y que contenga 2 valores. El primer valor debe ser la variable numero_bridge y el segundo valor de la lista debe ser la variable nombre_calle.\n",
    "\n",
    "lista_direccion=[numero_bridge, nombre_calle]"
   ]
  },
  {
   "cell_type": "code",
   "execution_count": 11,
   "metadata": {},
   "outputs": [],
   "source": [
    "#Crea una variable llamada horas_sueno que almacene, en forma de String, las horas que has dormido hoy.\n",
    "\n",
    "horas_sueno = \"6\""
   ]
  },
  {
   "cell_type": "code",
   "execution_count": 12,
   "metadata": {},
   "outputs": [],
   "source": [
    "#Crea una lista llamada lista_informacion que tenga cada una de las variables creadas anteriormente en el orden en el que se han expuesto en el ejercicio. IMPORTANTE: A partir de este momento y para todos estos ejercicios, solo se van a utilizar los datos almacenados en lista_informacion. Debe contener 6 elementos.\n",
    "\n",
    "lista_informacion = [numero_bridge, nombre_calle, gusto_personal, nada, lista_direccion, horas_sueno]"
   ]
  },
  {
   "cell_type": "code",
   "execution_count": 13,
   "metadata": {},
   "outputs": [],
   "source": [
    "#Ejecuta esta celda para borrar todas las variables que has tenido que crear antes. El contenido de lista_informacion no cambiará. De esta forma, nos aseguraremos de que solo uses la información de lista_informacion.\n",
    "\n",
    "del numero_bridge\n",
    "del nombre_calle\n",
    "del gusto_personal\n",
    "del nada\n",
    "del lista_direccion\n",
    "del horas_sueno"
   ]
  },
  {
   "cell_type": "code",
   "execution_count": 14,
   "metadata": {},
   "outputs": [
    {
     "output_type": "execute_result",
     "data": {
      "text/plain": "[15, 'Recoletos', True, None, [15, 'Recoletos'], '6']"
     },
     "metadata": {},
     "execution_count": 14
    }
   ],
   "source": [
    "lista_informacion"
   ]
  },
  {
   "cell_type": "code",
   "execution_count": 15,
   "metadata": {
    "tags": []
   },
   "outputs": [
    {
     "output_type": "stream",
     "name": "stdout",
     "text": "15:Recoletos\n"
    }
   ],
   "source": [
    "#La concatenación del número de The Bridge, dos puntos y el nombre de la calle.\n",
    "\n",
    "print(str(lista_informacion[0]) + \":\" + (lista_informacion[1]))"
   ]
  },
  {
   "cell_type": "code",
   "execution_count": 16,
   "metadata": {
    "tags": []
   },
   "outputs": [
    {
     "output_type": "stream",
     "name": "stdout",
     "text": "21\n"
    }
   ],
   "source": [
    "#La suma del número de The Bridge y las horas que has dormido hoy.\n",
    "\n",
    "print(lista_informacion[0] + int(lista_informacion[-1]))"
   ]
  },
  {
   "cell_type": "code",
   "execution_count": 17,
   "metadata": {
    "tags": []
   },
   "outputs": [
    {
     "output_type": "stream",
     "name": "stdout",
     "text": "15:Recoletos:True:6\n"
    }
   ],
   "source": [
    "#La concatenación del número de The Bridge, el nombre de la calle, tu gusto personal y las horas de sueño. Cada uno debe estar separado por lo siguiente: \" : \"\n",
    "\n",
    "print(str(lista_informacion[0]) + \":\" + lista_informacion[1] + \":\" + str(lista_informacion[2]) + \":\" + (lista_informacion[-1]))\n",
    "\n"
   ]
  },
  {
   "cell_type": "code",
   "execution_count": null,
   "metadata": {},
   "outputs": [],
   "source": [
    "#Accediendo a la lista que ocupa la cuarta posición de lista_informacion, muestra por pantalla la suma de lo siguiente. Si en la cuarta posición de tu lista_informacion no encuentras una lista, preguntanos: - La concatenación de los dos elementos. -La multiplicación del tamaño de la lista y el tamaño del número de caracteres que tiene el nombre de la calle.\n"
   ]
  },
  {
   "cell_type": "code",
   "execution_count": 18,
   "metadata": {},
   "outputs": [
    {
     "output_type": "execute_result",
     "data": {
      "text/plain": "[15, 'Recoletos', True, None, [15, 'Recoletos'], '6']"
     },
     "metadata": {},
     "execution_count": 18
    }
   ],
   "source": [
    "lista_informacion"
   ]
  },
  {
   "cell_type": "code",
   "execution_count": 21,
   "metadata": {
    "tags": []
   },
   "outputs": [
    {
     "output_type": "stream",
     "name": "stdout",
     "text": "15Recoletos\n"
    }
   ],
   "source": [
    "print(str(lista_informacion[4][0]) + (lista_informacion[4][1]))"
   ]
  },
  {
   "cell_type": "code",
   "execution_count": 22,
   "metadata": {
    "tags": []
   },
   "outputs": [
    {
     "output_type": "stream",
     "name": "stdout",
     "text": "54\n"
    }
   ],
   "source": [
    "print(len(lista_informacion) * len(lista_informacion[1]))"
   ]
  },
  {
   "cell_type": "code",
   "execution_count": 27,
   "metadata": {},
   "outputs": [],
   "source": [
    "#Para resolver los siguientes ejercicios será necesario que definas una función para cada apartado, tú eliges el nombre salvo que se especifique, pero asegúrate de que defines un único argumento/parámetro lista, que al llamar a la función se corresponderá con la variable lista_información.\n",
    "\n",
    "def f(lista):\n",
    "\n",
    "f(lista=lista_informacion)"
   ]
  },
  {
   "cell_type": "code",
   "execution_count": 28,
   "metadata": {
    "tags": []
   },
   "outputs": [
    {
     "output_type": "stream",
     "name": "stdout",
     "text": "Me gusta ver las carnes al aire libre\n"
    }
   ],
   "source": [
    "#Mostrar por pantalla \"Me gusta la tranquilidad\" si te gusta más la montaña y \"Me gusta ver las carnes al aire libre\" si te gusta más la playa.\n",
    "\n",
    "def f_gustos(lista):\n",
    "    if lista[2] == True:\n",
    "        print(\"Me gusta ver las carnes al aire libre\")\n",
    "    elif lista[2] == False:\n",
    "        print(\"Me gusta la tranquilidad\")\n",
    "\n",
    "f_gustos(lista=lista_informacion)\n"
   ]
  },
  {
   "cell_type": "code",
   "execution_count": 29,
   "metadata": {},
   "outputs": [
    {
     "output_type": "execute_result",
     "data": {
      "text/plain": "[15, 'Recoletos', True, None, [15, 'Recoletos'], '6']"
     },
     "metadata": {},
     "execution_count": 29
    }
   ],
   "source": [
    "#Mostrar por pantalla \"Hoy estoy cansado\" si has dormido menos de 7 horas y \"Hoy me como el mundo\" si has dormido más de 7 horas.\n",
    "lista_informacion\n"
   ]
  },
  {
   "cell_type": "code",
   "execution_count": 30,
   "metadata": {
    "tags": []
   },
   "outputs": [
    {
     "output_type": "stream",
     "name": "stdout",
     "text": "hoy estoy cansado\n"
    }
   ],
   "source": [
    "def f_1 (lista):\n",
    "    horas_sueño = int(lista[-1])\n",
    "    if horas_sueño > 7:\n",
    "        print(\"Hoy me como el mundo\")\n",
    "    elif horas_sueño < 7:\n",
    "        print(\"hoy estoy cansado\")\n",
    "\n",
    "f_1(lista=lista_informacion)"
   ]
  },
  {
   "cell_type": "code",
   "execution_count": null,
   "metadata": {},
   "outputs": [],
   "source": []
  }
 ],
 "metadata": {
  "language_info": {
   "codemirror_mode": {
    "name": "ipython",
    "version": 3
   },
   "file_extension": ".py",
   "mimetype": "text/x-python",
   "name": "python",
   "nbconvert_exporter": "python",
   "pygments_lexer": "ipython3",
   "version": "3.7.6-final"
  },
  "orig_nbformat": 2,
  "kernelspec": {
   "name": "python3",
   "display_name": "Python 3"
  }
 },
 "nbformat": 4,
 "nbformat_minor": 2
}