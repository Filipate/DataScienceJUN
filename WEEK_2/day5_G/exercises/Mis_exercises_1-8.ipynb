{
 "cells": [
  {
   "cell_type": "code",
   "execution_count": 141,
   "metadata": {},
   "outputs": [],
   "source": [
    "#1.Crea una variable llamada numero_bridge que tenga como valor 15. \n",
    "\n",
    "numero_bridge = 15"
   ]
  },
  {
   "cell_type": "code",
   "execution_count": 142,
   "metadata": {},
   "outputs": [],
   "source": [
    "#2.Crea una variable llamada nombre_calle que sea un string y sea Recoletos.\n",
    "\n",
    "nombre_calle = \"Recoletos\"\n"
   ]
  },
  {
   "cell_type": "code",
   "execution_count": 143,
   "metadata": {},
   "outputs": [],
   "source": [
    "#3.Crea una variable llamada gusto_personal que sea True si eres más de playa y False si eres más de montaña.\n",
    "\n",
    "gusto_personal= True"
   ]
  },
  {
   "cell_type": "code",
   "execution_count": 144,
   "metadata": {},
   "outputs": [],
   "source": [
    "#4.Crea una variable llamada nada de la siguiente forma: nada = None. None no representa ningún valor. Ha de tenerse en cuenta que si se hace if (nada):, nada actúa como un valor booleano False.\n",
    "\n",
    "nada= None"
   ]
  },
  {
   "cell_type": "code",
   "execution_count": 145,
   "metadata": {},
   "outputs": [],
   "source": [
    "#5.Crea una variable que llamada lista_direccion que sea una lista y que contenga 2 valores. El primer valor debe ser la variable numero_bridge y el segundo valor de la lista debe ser la variable nombre_calle.\n",
    "\n",
    "lista_direccion=[numero_bridge, nombre_calle]"
   ]
  },
  {
   "cell_type": "code",
   "execution_count": 146,
   "metadata": {},
   "outputs": [],
   "source": [
    "#6.Crea una variable llamada horas_sueno que almacene, en forma de String, las horas que has dormido hoy.\n",
    "\n",
    "horas_sueno = \"6\""
   ]
  },
  {
   "cell_type": "code",
   "execution_count": 147,
   "metadata": {},
   "outputs": [],
   "source": [
    "#7.Crea una lista llamada lista_informacion que tenga cada una de las variables creadas anteriormente en el orden en el que se han expuesto en el ejercicio. IMPORTANTE: A partir de este momento y para todos estos ejercicios, solo se van a utilizar los datos almacenados en lista_informacion. Debe contener 6 elementos.\n",
    "\n",
    "lista_informacion = [numero_bridge, nombre_calle, gusto_personal, nada, lista_direccion, horas_sueno]"
   ]
  },
  {
   "cell_type": "code",
   "execution_count": 148,
   "metadata": {},
   "outputs": [],
   "source": [
    "#8.Ejecuta esta celda para borrar todas las variables que has tenido que crear antes. El contenido de lista_informacion no cambiará. De esta forma, nos aseguraremos de que solo uses la información de lista_informacion.\n",
    "\n",
    "del numero_bridge\n",
    "del nombre_calle\n",
    "del gusto_personal\n",
    "del nada\n",
    "del lista_direccion\n",
    "del horas_sueno"
   ]
  },
  {
   "cell_type": "code",
   "execution_count": 149,
   "metadata": {},
   "outputs": [
    {
     "output_type": "execute_result",
     "data": {
      "text/plain": "[15, 'Recoletos', True, None, [15, 'Recoletos'], '6']"
     },
     "metadata": {},
     "execution_count": 149
    }
   ],
   "source": [
    "lista_informacion"
   ]
  },
  {
   "cell_type": "code",
   "execution_count": 150,
   "metadata": {
    "tags": []
   },
   "outputs": [
    {
     "output_type": "stream",
     "name": "stdout",
     "text": "15:Recoletos\n"
    }
   ],
   "source": [
    "#1.0.La concatenación del número de The Bridge, dos puntos y el nombre de la calle.\n",
    "\n",
    "print(str(lista_informacion[0]) + \":\" + (lista_informacion[1]))"
   ]
  },
  {
   "cell_type": "code",
   "execution_count": 151,
   "metadata": {
    "tags": []
   },
   "outputs": [
    {
     "output_type": "stream",
     "name": "stdout",
     "text": "21\n"
    }
   ],
   "source": [
    "#1.1.La suma del número de The Bridge y las horas que has dormido hoy.\n",
    "\n",
    "print(lista_informacion[0] + int(lista_informacion[-1]))"
   ]
  },
  {
   "cell_type": "code",
   "execution_count": 152,
   "metadata": {
    "tags": []
   },
   "outputs": [
    {
     "output_type": "stream",
     "name": "stdout",
     "text": "15:Recoletos:True:6\n"
    }
   ],
   "source": [
    "#1.2.La concatenación del número de The Bridge, el nombre de la calle, tu gusto personal y las horas de sueño. Cada uno debe estar separado por lo siguiente: \" : \"\n",
    "\n",
    "print(str(lista_informacion[0]) + \":\" + lista_informacion[1] + \":\" + str(lista_informacion[2]) + \":\" + (lista_informacion[-1]))\n",
    "\n"
   ]
  },
  {
   "cell_type": "code",
   "execution_count": 153,
   "metadata": {},
   "outputs": [],
   "source": [
    "#1.3.Accediendo a la lista que ocupa la cuarta posición de lista_informacion, muestra por pantalla la suma de lo siguiente. Si en la cuarta posición de tu lista_informacion no encuentras una lista, preguntanos: - La concatenación de los dos elementos. -La multiplicación del tamaño de la lista y el tamaño del número de caracteres que tiene el nombre de la calle.\n"
   ]
  },
  {
   "cell_type": "code",
   "execution_count": 154,
   "metadata": {},
   "outputs": [
    {
     "output_type": "execute_result",
     "data": {
      "text/plain": "[15, 'Recoletos', True, None, [15, 'Recoletos'], '6']"
     },
     "metadata": {},
     "execution_count": 154
    }
   ],
   "source": [
    "lista_informacion"
   ]
  },
  {
   "cell_type": "code",
   "execution_count": 155,
   "metadata": {
    "tags": []
   },
   "outputs": [
    {
     "output_type": "stream",
     "name": "stdout",
     "text": "15Recoletos\n"
    }
   ],
   "source": [
    "print(str(lista_informacion[4][0]) + (lista_informacion[4][1]))"
   ]
  },
  {
   "cell_type": "code",
   "execution_count": 156,
   "metadata": {
    "tags": []
   },
   "outputs": [
    {
     "output_type": "stream",
     "name": "stdout",
     "text": "54\n"
    }
   ],
   "source": [
    "print(len(lista_informacion) * len(lista_informacion[1]))"
   ]
  },
  {
   "cell_type": "code",
   "execution_count": 157,
   "metadata": {},
   "outputs": [],
   "source": [
    "#2.4.Para resolver los siguientes ejercicios será necesario que definas una función para cada apartado, tú eliges el nombre salvo que se especifique, pero asegúrate de que defines un único argumento/parámetro lista, que al llamar a la función se corresponderá con la variable lista_información.\n",
    "def f(lista):\n",
    "    pass\n",
    "f(lista=lista_informacion)"
   ]
  },
  {
   "cell_type": "code",
   "execution_count": 158,
   "metadata": {
    "tags": []
   },
   "outputs": [
    {
     "output_type": "stream",
     "name": "stdout",
     "text": "Me gusta ver las carnes al aire libre\n"
    }
   ],
   "source": [
    "#2.5.Mostrar por pantalla \"Me gusta la tranquilidad\" si te gusta más la montaña y \"Me gusta ver las carnes al aire libre\" si te gusta más la playa.\n",
    "\n",
    "def f_gustos(lista):\n",
    "    if lista[2] == True:\n",
    "        print(\"Me gusta ver las carnes al aire libre\")\n",
    "    elif lista[2] == False:\n",
    "        print(\"Me gusta la tranquilidad\")\n",
    "\n",
    "f_gustos(lista=lista_informacion)\n"
   ]
  },
  {
   "cell_type": "code",
   "execution_count": 159,
   "metadata": {},
   "outputs": [
    {
     "output_type": "execute_result",
     "data": {
      "text/plain": "[15, 'Recoletos', True, None, [15, 'Recoletos'], '6']"
     },
     "metadata": {},
     "execution_count": 159
    }
   ],
   "source": [
    "#2.6.Mostrar por pantalla \"Hoy estoy cansado\" si has dormido menos de 7 horas y \"Hoy me como el mundo\" si has dormido más de 7 horas.\n",
    "lista_informacion\n"
   ]
  },
  {
   "cell_type": "code",
   "execution_count": 160,
   "metadata": {
    "tags": []
   },
   "outputs": [
    {
     "output_type": "stream",
     "name": "stdout",
     "text": "hoy estoy cansado\n"
    }
   ],
   "source": [
    "def f_1 (lista):\n",
    "    horas_sueño = int(lista[-1])\n",
    "    if horas_sueño > 7:\n",
    "        print(\"Hoy me como el mundo\")\n",
    "    elif horas_sueño < 7:\n",
    "        print(\"hoy estoy cansado\")\n",
    "\n",
    "f_1(lista=lista_informacion)"
   ]
  },
  {
   "cell_type": "code",
   "execution_count": 161,
   "metadata": {
    "tags": []
   },
   "outputs": [
    {
     "output_type": "stream",
     "name": "stdout",
     "text": "15\nRecoletos\nTrue\nNone\n[15, 'Recoletos']\n6\n"
    }
   ],
   "source": [
    "#2.7.Recorrer lista para mostrar todos los elementos que contiene.\n",
    "\n",
    "def f_2 (lista):\n",
    "    for elem in lista:\n",
    "        print(elem)\n",
    "\n",
    "f_2(lista=lista_informacion)\n"
   ]
  },
  {
   "cell_type": "code",
   "execution_count": 162,
   "metadata": {
    "tags": []
   },
   "outputs": [
    {
     "output_type": "stream",
     "name": "stdout",
     "text": "15--> OK\nRecoletos--> OK\nTrue--> OK\nNone--> OK\n[15, 'Recoletos']--> OK\n6--> OK\n"
    }
   ],
   "source": [
    "#2.8.Recorrer lista para mostrar todos los elementos que contiene concatenados con el string \"--> OK\"\n",
    "\n",
    "def f_2 (lista):\n",
    "    for elem in lista:\n",
    "        print(str(elem) + \"--> OK\")\n",
    "\n",
    "f_2(lista=lista_informacion)"
   ]
  },
  {
   "cell_type": "code",
   "execution_count": 163,
   "metadata": {},
   "outputs": [
    {
     "output_type": "execute_result",
     "data": {
      "text/plain": "[15, 'Recoletos', True, None, [15, 'Recoletos'], '6']"
     },
     "metadata": {},
     "execution_count": 163
    }
   ],
   "source": [
    "lista_informacion"
   ]
  },
  {
   "cell_type": "code",
   "execution_count": 164,
   "metadata": {
    "tags": []
   },
   "outputs": [
    {
     "output_type": "stream",
     "name": "stdout",
     "text": "Recoletos\nTrue\nNone\n[15, 'Recoletos']\n6\n"
    }
   ],
   "source": [
    "#2.9.Recorrer lista para mostrar todos los elementos que contiene excepto el primero.\n",
    "\n",
    "def f_2 (lista):\n",
    "    pos = 0\n",
    "    for elem in lista:\n",
    "        if pos != 0:\n",
    "            print(elem)\n",
    "        pos= pos +1\n",
    "    \n",
    "f_2(lista=lista_informacion)"
   ]
  },
  {
   "cell_type": "code",
   "execution_count": 165,
   "metadata": {
    "tags": []
   },
   "outputs": [
    {
     "output_type": "stream",
     "name": "stdout",
     "text": "Recoletos\nTrue\nNone\n[15, 'Recoletos']\n6\n"
    }
   ],
   "source": [
    "for elem in lista_informacion[1:]:\n",
    "    print(elem)"
   ]
  },
  {
   "cell_type": "code",
   "execution_count": 166,
   "metadata": {},
   "outputs": [
    {
     "output_type": "execute_result",
     "data": {
      "text/plain": "[15, 'Recoletos', True, None, [15, 'Recoletos'], '6']"
     },
     "metadata": {},
     "execution_count": 166
    }
   ],
   "source": [
    "lista_informacion"
   ]
  },
  {
   "cell_type": "code",
   "execution_count": 167,
   "metadata": {
    "tags": []
   },
   "outputs": [
    {
     "output_type": "stream",
     "name": "stdout",
     "text": "15\nRecoletos\nTrue\nNone\n[15, 'Recoletos']\n"
    }
   ],
   "source": [
    "#2.10.Recorrer lista para mostrar todos los elementos que contiene excepto el último.\n",
    "\n",
    "for elem in lista_informacion[:-1]:\n",
    "    print(elem)"
   ]
  },
  {
   "cell_type": "code",
   "execution_count": 168,
   "metadata": {
    "tags": []
   },
   "outputs": [
    {
     "output_type": "stream",
     "name": "stdout",
     "text": "15\nRecoletos\nTrue\nNone\n[15, 'Recoletos']\n"
    }
   ],
   "source": [
    "def f_2 (lista):\n",
    "    pos = 0\n",
    "    for elem in lista:\n",
    "        if pos != 5:\n",
    "            print(elem)\n",
    "        pos= pos + 1\n",
    "    \n",
    "f_2(lista=lista_informacion)"
   ]
  },
  {
   "cell_type": "code",
   "execution_count": 169,
   "metadata": {
    "tags": []
   },
   "outputs": [
    {
     "output_type": "stream",
     "name": "stdout",
     "text": "Recoletos\nTrue\nNone\n[15, 'Recoletos']\n"
    }
   ],
   "source": [
    "#2.11.Recorrer lista para mostrar todos los elementos que contiene excepto el número de la calle y las horas que has dormido.\n",
    "\n",
    "def f_2 (lista):\n",
    "    for elem in lista_informacion[1:-1]:\n",
    "        print(elem)\n",
    "\n",
    "f_2(lista=lista_informacion)"
   ]
  },
  {
   "cell_type": "code",
   "execution_count": 170,
   "metadata": {
    "tags": []
   },
   "outputs": [
    {
     "output_type": "stream",
     "name": "stdout",
     "text": "15\nRecoletos\nTrue\nNone\nRecoletos\n6\n"
    }
   ],
   "source": [
    "#2.12.Recorrer lista para mostrar todos los elementos que contiene excepto el primer elemento de la lista que se encuentra en quinta posición.\n",
    "\n",
    "def f_2 (lista):\n",
    "    pos=0\n",
    "    for elem in lista:\n",
    "        if pos!=4:\n",
    "            print(elem)\n",
    "        elif pos ==4:\n",
    "            print(elem[1])\n",
    "        pos = pos +1\n",
    "\n",
    "f_2(lista=lista_informacion)\n",
    "\n"
   ]
  },
  {
   "cell_type": "code",
   "execution_count": 171,
   "metadata": {
    "tags": []
   },
   "outputs": [
    {
     "output_type": "stream",
     "name": "stdout",
     "text": "15\nRecoletos\nTrue\nNone\nRecoletos\n6\n"
    }
   ],
   "source": [
    "def f_2 (lista):\n",
    "    for pos, elem in enumerate(lista):\n",
    "        if pos!=4:\n",
    "            print(elem)\n",
    "        elif pos == 4:\n",
    "            print(elem[1])\n",
    "f_2(lista=lista_informacion)"
   ]
  },
  {
   "cell_type": "code",
   "execution_count": 172,
   "metadata": {},
   "outputs": [
    {
     "output_type": "execute_result",
     "data": {
      "text/plain": "[15, 'Recoletos', True, None, [15, 'Recoletos'], '6']"
     },
     "metadata": {},
     "execution_count": 172
    }
   ],
   "source": [
    "lista_informacion"
   ]
  },
  {
   "cell_type": "code",
   "execution_count": 173,
   "metadata": {
    "tags": []
   },
   "outputs": [
    {
     "output_type": "stream",
     "name": "stdout",
     "text": "Hola\nHola\nHola\nHola\n"
    }
   ],
   "source": [
    "print(\"Hola\")\n",
    "print(\"Hola\")\n",
    "print(\"Hola\")\n",
    "print(\"Hola\")"
   ]
  },
  {
   "cell_type": "code",
   "execution_count": 174,
   "metadata": {
    "tags": []
   },
   "outputs": [
    {
     "output_type": "stream",
     "name": "stdout",
     "text": "15\nRecoletos\nNone\n[15, 'Recoletos']\n6\n"
    }
   ],
   "source": [
    "#2.13.Recorrer lista para mostrar todos los elementos que contiene excepto el que contiene la información sobre si os gusta la montaña o la playa\n",
    "\n",
    "def f_2 (lista):\n",
    "    for elem in lista:\n",
    "        if elem == True:\n",
    "            continue\n",
    "        elif elem == False:\n",
    "            continue\n",
    "        print(elem)\n",
    "\n",
    "f_2(lista=lista_informacion)"
   ]
  },
  {
   "cell_type": "code",
   "execution_count": 175,
   "metadata": {
    "tags": []
   },
   "outputs": [
    {
     "output_type": "stream",
     "name": "stdout",
     "text": "15\nRecoletos\nNone\n[15, 'Recoletos']\n6\n"
    }
   ],
   "source": [
    "def f_2 (lista):\n",
    "    for elem in lista:\n",
    "        if elem == True or elem == False:\n",
    "            continue\n",
    "        print(elem)\n",
    "\n",
    "f_2(lista=lista_informacion)"
   ]
  },
  {
   "cell_type": "code",
   "execution_count": 176,
   "metadata": {},
   "outputs": [
    {
     "output_type": "execute_result",
     "data": {
      "text/plain": "[15, 'Recoletos', True, None, [15, 'Recoletos'], '6']"
     },
     "metadata": {},
     "execution_count": 176
    }
   ],
   "source": [
    "lista_informacion"
   ]
  },
  {
   "cell_type": "code",
   "execution_count": 177,
   "metadata": {
    "tags": []
   },
   "outputs": [
    {
     "output_type": "stream",
     "name": "stdout",
     "text": "15\nRecoletos\nTrue\nNone\nRecoletos\n6\n"
    }
   ],
   "source": [
    "def f(lista):\n",
    "    for elem in lista:\n",
    "        if elem == lista[4]:\n",
    "            print(elem[1])\n",
    "        else:\n",
    "            print(elem)\n",
    "            \n",
    "f(lista=lista_informacion)"
   ]
  },
  {
   "cell_type": "code",
   "execution_count": 178,
   "metadata": {},
   "outputs": [
    {
     "output_type": "execute_result",
     "data": {
      "text/plain": "[15, 'Recoletos', True, None, [15, 'Recoletos'], '6']"
     },
     "metadata": {},
     "execution_count": 178
    }
   ],
   "source": [
    "#2.14. Recorrer lista para mostrar el último elemento.\n",
    "\n",
    "lista_informacion\n"
   ]
  },
  {
   "cell_type": "code",
   "execution_count": 179,
   "metadata": {
    "tags": []
   },
   "outputs": [
    {
     "output_type": "stream",
     "name": "stdout",
     "text": "6\n"
    }
   ],
   "source": [
    "for elem in lista_informacion:\n",
    "    if elem == \"6\":\n",
    "\n",
    "        print(elem)\n"
   ]
  },
  {
   "cell_type": "code",
   "execution_count": 180,
   "metadata": {
    "tags": []
   },
   "outputs": [
    {
     "output_type": "stream",
     "name": "stdout",
     "text": "6\n"
    }
   ],
   "source": [
    "#si me piden para mostrar el ultimo elemento, aún que trabaje con posiciones, siempre tengo que pedir que me imprima el elemento.\n",
    "\n",
    "#el enumerate es un ejemplo para trabajar con posiciones, que me mostra por pantalla el el elem.\n",
    "\n",
    "for pos, elem in enumerate(lista_informacion):\n",
    "    if pos == len(lista_informacion)-1:  \n",
    "        print(elem)"
   ]
  },
  {
   "cell_type": "code",
   "execution_count": 181,
   "metadata": {},
   "outputs": [
    {
     "output_type": "execute_result",
     "data": {
      "text/plain": "[15, 'Recoletos', True, None, [15, 'Recoletos'], '6']"
     },
     "metadata": {},
     "execution_count": 181
    }
   ],
   "source": [
    "lista_informacion"
   ]
  },
  {
   "cell_type": "code",
   "execution_count": 182,
   "metadata": {
    "tags": []
   },
   "outputs": [
    {
     "output_type": "stream",
     "name": "stdout",
     "text": "6\n"
    }
   ],
   "source": [
    "#aqui estoy accedendo a la ultima posición a través de la de la posición. pero a la hora de mostrar por pantalla, tengo que pedir que me imprima \"lista\" y \"pos\", porque \"pos\" es igual a la ultima posición de la lista.\n",
    "def f (lista):\n",
    "    for pos in range(len(lista)):\n",
    "        if pos == len(lista)-1:\n",
    "            print(lista[pos])\n",
    "\n",
    "f(lista=lista_informacion)"
   ]
  },
  {
   "cell_type": "code",
   "execution_count": 183,
   "metadata": {
    "tags": []
   },
   "outputs": [
    {
     "output_type": "stream",
     "name": "stdout",
     "text": "6\n"
    }
   ],
   "source": [
    "#el acum/pos es otra forma de trabajar con posiciones cuando el eunciado nos pide que devolvamos el valor(elem) que está en determinada posición.\n",
    "\n",
    "def f_9 (lista):\n",
    "    acum=0\n",
    "    for elem in lista:\n",
    "        if acum == len(lista)-1:\n",
    "            print(elem)\n",
    "        acum = acum +1\n",
    "\n",
    "f_9(lista=lista_informacion)"
   ]
  },
  {
   "cell_type": "code",
   "execution_count": 184,
   "metadata": {},
   "outputs": [
    {
     "output_type": "execute_result",
     "data": {
      "text/plain": "[0, 1, 2, 3, 4]"
     },
     "metadata": {},
     "execution_count": 184
    }
   ],
   "source": [
    "list(range(5))\n"
   ]
  },
  {
   "cell_type": "code",
   "execution_count": 185,
   "metadata": {},
   "outputs": [
    {
     "output_type": "execute_result",
     "data": {
      "text/plain": "2"
     },
     "metadata": {},
     "execution_count": 185
    }
   ],
   "source": [
    "range(5)[2]"
   ]
  },
  {
   "cell_type": "code",
   "execution_count": 186,
   "metadata": {
    "tags": []
   },
   "outputs": [
    {
     "output_type": "stream",
     "name": "stdout",
     "text": "c\n"
    }
   ],
   "source": [
    "lista = [\"a\", \"b\", \"c\", \"d\"]\n",
    "\n",
    "for pos, elem in enumerate(lista):\n",
    "    if pos == 2:\n",
    "        print(elem)\n"
   ]
  },
  {
   "cell_type": "code",
   "execution_count": 187,
   "metadata": {},
   "outputs": [
    {
     "output_type": "execute_result",
     "data": {
      "text/plain": "[15, 'Recoletos', True, None, [15, 'Recoletos'], '6']"
     },
     "metadata": {},
     "execution_count": 187
    }
   ],
   "source": [
    "lista_informacion"
   ]
  },
  {
   "cell_type": "code",
   "execution_count": 188,
   "metadata": {
    "tags": []
   },
   "outputs": [
    {
     "output_type": "stream",
     "name": "stdout",
     "text": "False\n"
    }
   ],
   "source": [
    "#2.15 Crear una variable llamada zona y darle el valor de None. Recorrer lista y actualizar zona a True si y solo si has dormido más de 7 horas, te gusta la playa y la suma de las horas que has dormido más el número de The Bridge es menor a 24. Para cualquier otro caso, zona será False. Retornar el valor de zona. Esta función se llamará funcion_zona.\n",
    "\n",
    "def funcion_zona (lista):\n",
    "    zona = None\n",
    "    cond1 = int(lista[-1]) >7\n",
    "    cond2 = lista[2] == True\n",
    "    cond3 = int(lista[-1]) +lista[0] < 24\n",
    "    if cond1 and cond2 and cond3:\n",
    "        zona =True\n",
    "    else:\n",
    "        zona = False\n",
    "    return zona\n",
    "\n",
    "a = funcion_zona(lista=lista_informacion)\n",
    "print(a)"
   ]
  },
  {
   "cell_type": "code",
   "execution_count": 189,
   "metadata": {},
   "outputs": [
    {
     "output_type": "execute_result",
     "data": {
      "text/plain": "False"
     },
     "metadata": {},
     "execution_count": 189
    }
   ],
   "source": [
    "def funcion_zona1 (lista):\n",
    "    zona = None\n",
    "    if int(lista[-1]) > 7 and lista[2] and int(lista[-1]) + lista[0] <24:\n",
    "        zona = True\n",
    "    else:\n",
    "        zona = False\n",
    "    return zona\n",
    "\n",
    "funcion_zona1(lista_informacion)"
   ]
  },
  {
   "cell_type": "code",
   "execution_count": 202,
   "metadata": {},
   "outputs": [
    {
     "output_type": "execute_result",
     "data": {
      "text/plain": "False"
     },
     "metadata": {},
     "execution_count": 202
    }
   ],
   "source": [
    "#2.16 Define una función llamada funcion_comprobacion que recibe solo un parámetro llamado valor_zona que cuando llames a la función será el valor que devuelve la función funcion_zona, y que devuelva el valor de valor_zona si es True.\n",
    "\n",
    "def funcion_comprabacion (valor_zona):\n",
    " \n",
    "        if valor_zona == True:\n",
    "            return valor_zona\n",
    "\n",
    "\n",
    "\n",
    "\n",
    "x =funcion_zona(lista=lista_informacion)\n",
    "funcion_comprabacion(valor_zona=x)\n",
    "x"
   ]
  },
  {
   "cell_type": "code",
   "execution_count": 191,
   "metadata": {
    "tags": []
   },
   "outputs": [
    {
     "output_type": "stream",
     "name": "stdout",
     "text": "adulto\n"
    }
   ],
   "source": [
    "def f_edad (age):\n",
    "    if age < 18:\n",
    "        print(\"menor de edad\")\n",
    "    elif age < 30:\n",
    "        print(\"joven\")\n",
    "    else:\n",
    "        print(\"adulto\")\n",
    "\n",
    "f_edad(200)"
   ]
  },
  {
   "cell_type": "code",
   "execution_count": 192,
   "metadata": {},
   "outputs": [],
   "source": [
    "#2.17 Define una función con el nombre que más te guste que utilice la función enumerate con un bucle for utilizando la lista de alturas y la lista de alumnos creada en días anteriores. Las listas han de estar ordenadas para mostrar la altura acompañada del nombre del alumno al que pertenece.\n",
    "\n",
    "lista_alumnos = [[\"Jalex\", 6, 47, 1.80], [\"Tomas\", 5, 31, 1.80], [\"David\", 6, 39, 1.81], [\"Natalio\", 2, 29, 1.73], [\"Monica\", 3, 47, 1.73], [\"Roxanna\", 4,24,1.75], [\"Filipa\", 5,34,1.64], [\"Elsa\", 4, 36, 1.89], [\"Cristina\", 3, 46, 1.70], [\"Clara\", 6, 29, 1.67], [\"Alba\", 3, 29, 1.68], [\"Valeria\",1, 40, 1.60], [\"Jose Luis\", 4, 47, 1.69], [\"Gabriel\", 1, 28, 1.76], [\"Rochi\", 2, 38, 1.60], [\"Jose Maria\", 5, 51, 1.75]]\n",
    "\n"
   ]
  },
  {
   "cell_type": "code",
   "execution_count": 193,
   "metadata": {},
   "outputs": [
    {
     "output_type": "execute_result",
     "data": {
      "text/plain": "['Jalex',\n 'Tomas',\n 'David',\n 'Natalio',\n 'Monica',\n 'Roxanna',\n 'Filipa',\n 'Elsa',\n 'Cristina',\n 'Clara',\n 'Alba',\n 'Valeria',\n 'Jose Luis',\n 'Gabriel',\n 'Rochi',\n 'Jose Maria']"
     },
     "metadata": {},
     "execution_count": 193
    }
   ],
   "source": [
    "nombres_alumnos=[]\n",
    "\n",
    "for elem in lista_alumnos:\n",
    "    nombres_alumnos.append(elem[0])\n",
    "\n",
    "nombres_alumnos\n",
    "\n"
   ]
  },
  {
   "cell_type": "code",
   "execution_count": 194,
   "metadata": {},
   "outputs": [
    {
     "output_type": "execute_result",
     "data": {
      "text/plain": "[1.8,\n 1.8,\n 1.81,\n 1.73,\n 1.73,\n 1.75,\n 1.64,\n 1.89,\n 1.7,\n 1.67,\n 1.68,\n 1.6,\n 1.69,\n 1.76,\n 1.6,\n 1.75]"
     },
     "metadata": {},
     "execution_count": 194
    }
   ],
   "source": [
    "alturas = []\n",
    "\n",
    "for elem in lista_alumnos:\n",
    "    alturas.append(elem[-1])\n",
    "\n",
    "alturas"
   ]
  },
  {
   "cell_type": "code",
   "execution_count": 195,
   "metadata": {
    "tags": []
   },
   "outputs": [
    {
     "output_type": "stream",
     "name": "stdout",
     "text": "['Jalex', 1.8]\n['Tomas', 1.8]\n['David', 1.81]\n['Natalio', 1.73]\n['Monica', 1.73]\n['Roxanna', 1.75]\n['Filipa', 1.64]\n['Elsa', 1.89]\n['Cristina', 1.7]\n['Clara', 1.67]\n['Alba', 1.68]\n['Valeria', 1.6]\n['Jose Luis', 1.69]\n['Gabriel', 1.76]\n['Rochi', 1.6]\n['Jose Maria', 1.75]\n"
    }
   ],
   "source": [
    "def alunmos (lista_nombres, lista_alturas):\n",
    "    for pos, elem in enumerate(lista_nombres):\n",
    "        x = [elem, lista_alturas[pos]] \n",
    "        print(x) \n",
    "\n",
    "\n",
    "\n",
    "alunmos(lista_nombres=nombres_alumnos, lista_alturas=alturas) "
   ]
  },
  {
   "cell_type": "code",
   "execution_count": 196,
   "metadata": {
    "tags": []
   },
   "outputs": [
    {
     "output_type": "stream",
     "name": "stdout",
     "text": "['Jalex', 1.8]\n['Tomas', 1.8]\n['David', 1.81]\n['Natalio', 1.73]\n['Monica', 1.73]\n['Roxanna', 1.75]\n['Filipa', 1.64]\n['Elsa', 1.89]\n['Cristina', 1.7]\n['Clara', 1.67]\n['Alba', 1.68]\n['Valeria', 1.6]\n['Jose Luis', 1.69]\n['Gabriel', 1.76]\n['Rochi', 1.6]\n['Jose Maria', 1.75]\n"
    }
   ],
   "source": [
    "def alunmos (lista_nombres, lista_alturas):\n",
    "    for pos, elem in enumerate(lista_nombres):\n",
    "        x = [elem, lista_alturas[pos]] \n",
    "        print(x) \n",
    "\n",
    "\n",
    "\n",
    "alunmos(lista_nombres=nombres_alumnos, lista_alturas=alturas) "
   ]
  },
  {
   "cell_type": "code",
   "execution_count": 197,
   "metadata": {
    "tags": []
   },
   "outputs": [
    {
     "output_type": "stream",
     "name": "stdout",
     "text": "('Jalex', 1.8)\n('Tomas', 1.8)\n('David', 1.81)\n('Natalio', 1.73)\n('Monica', 1.73)\n('Roxanna', 1.75)\n('Filipa', 1.64)\n('Elsa', 1.89)\n('Cristina', 1.7)\n('Clara', 1.67)\n('Alba', 1.68)\n('Valeria', 1.6)\n('Jose Luis', 1.69)\n('Gabriel', 1.76)\n('Rochi', 1.6)\n('Jose Maria', 1.75)\n"
    }
   ],
   "source": [
    "for x in list(zip(nombres_alumnos, alturas)):\n",
    "    print(x)\n"
   ]
  },
  {
   "cell_type": "code",
   "execution_count": 198,
   "metadata": {
    "tags": []
   },
   "outputs": [
    {
     "output_type": "stream",
     "name": "stdout",
     "text": "Jalex : 1.8\nTomas : 1.8\nDavid : 1.81\nNatalio : 1.73\nMonica : 1.73\nRoxanna : 1.75\nFilipa : 1.64\nElsa : 1.89\nCristina : 1.7\nClara : 1.67\nAlba : 1.68\nValeria : 1.6\nJose Luis : 1.69\nGabriel : 1.76\nRochi : 1.6\nJose Maria : 1.75\n"
    }
   ],
   "source": [
    "for pos, elem in enumerate (lista_alumnos):\n",
    "    print(elem[0] + \" : \" + str(elem[-1]))"
   ]
  },
  {
   "cell_type": "code",
   "execution_count": 199,
   "metadata": {},
   "outputs": [],
   "source": [
    "# 2.18 Hacer un programa que pregunte al usuario si le gusta la montaña y, si es que no, llame a la función funcion_zona.\n",
    "\n"
   ]
  },
  {
   "cell_type": "code",
   "execution_count": 209,
   "metadata": {},
   "outputs": [],
   "source": [
    "def f_10 ():\n",
    "    x = input(\"¿te gusta la montaña [yes/no]\")\n",
    "    if x == \"yes\": \n",
    "        pass\n",
    "    elif x == \"no\":\n",
    "        funcion_zona(lista_informacion)\n",
    "f_10()\n"
   ]
  },
  {
   "cell_type": "code",
   "execution_count": 210,
   "metadata": {},
   "outputs": [
    {
     "output_type": "execute_result",
     "data": {
      "text/plain": "[15, 'Recoletos', True, None, [15, 'Recoletos'], '6']"
     },
     "metadata": {},
     "execution_count": 210
    }
   ],
   "source": [
    "lista_informacion   "
   ]
  },
  {
   "cell_type": "code",
   "execution_count": 213,
   "metadata": {
    "tags": []
   },
   "outputs": [
    {
     "output_type": "stream",
     "name": "stdout",
     "text": "nada\nnada15\nTrue\n"
    },
    {
     "output_type": "execute_result",
     "data": {
      "text/plain": "True"
     },
     "metadata": {},
     "execution_count": 213
    }
   ],
   "source": [
    "#2.19 Definir una función que guarde en una variable el valor de \"nada\" y lo devuelva por pantalla. Además concatenar su valor con el número de The Bridge y mostrarlo por pantalla. Además, mostrar por pantalla un booleano True si el tamaño de la palabra concatenada es 6. Sino, será False. La función debe retornar el valor True o False. El nombre de la función será f_s.\n",
    "\n",
    "def f_s(lista):\n",
    "    nada=\"nada\"\n",
    "    print(nada)\n",
    "    concatenar=nada +str(lista[0])\n",
    "    print(concatenar)\n",
    "    if len(concatenar) == 6:\n",
    "        print(True)\n",
    "        return True\n",
    "    else:\n",
    "        print(False)\n",
    "        return False\n",
    "f_s(lista=lista_informacion)"
   ]
  },
  {
   "cell_type": "code",
   "execution_count": 219,
   "metadata": {
    "tags": []
   },
   "outputs": [
    {
     "output_type": "stream",
     "name": "stdout",
     "text": "nada\nnada15\nTrue\n"
    },
    {
     "output_type": "execute_result",
     "data": {
      "text/plain": "[]"
     },
     "metadata": {},
     "execution_count": 219
    }
   ],
   "source": [
    "#2.20 Crear una lista lista_aux con 7 elementos, los que queráis. Después, crear una función funcion_usa_f_s que reciba como parámetros f_s y lista. Si el valor de f_s es True, entonces borrar un elemento de lista. Si lista tiene algún elemento, entonces repetir el proceso hasta que no tenga elementos. El argumento para lista ha de ser lista_aux y para f_s será la función f_s del punto anterior.\n",
    "\n",
    "\n",
    "lista_aux =[\"sol\", \"mar\", \"tierra\", \"viento\", \"nieve\", \"agua\", \"sierra\"]\n",
    "\n",
    "def funcion_usa_f_s (f_s, lista):\n",
    "    if f_s == True:\n",
    "        lista.pop()\n",
    "        if len(lista)>0:\n",
    "                funcion_usa_f_s(f_s=f_s, lista= lista)\n",
    "funcion_usa_f_s(f_s=f_s(lista=lista_informacion), lista=lista_aux)\n",
    "lista_aux\n"
   ]
  },
  {
   "cell_type": "code",
   "execution_count": null,
   "metadata": {},
   "outputs": [],
   "source": [
    "# 2.21Definir una función numeros_pares que tenga un parámetro de entrada arg1, tipo integer. La función debe retornar una lista de números de tamaño arg1 siendo todos ellos números pares, mostrando dicha lista por pantalla."
   ]
  },
  {
   "cell_type": "code",
   "execution_count": null,
   "metadata": {},
   "outputs": [],
   "source": []
  },
  {
   "cell_type": "code",
   "execution_count": null,
   "metadata": {},
   "outputs": [],
   "source": [
    "#2.22Crear una función que tenga una variable de entrada arg1, que será la lista de números pares del apartado anterior, y que elimine elementos de la lista, uno a uno, si arg1 tiene un tamaño divisible entre 2 y, si no lo tiene, añade, solo una vez, el valor de la función f_s."
   ]
  },
  {
   "cell_type": "code",
   "execution_count": null,
   "metadata": {},
   "outputs": [],
   "source": []
  }
 ],
 "metadata": {
  "language_info": {
   "codemirror_mode": {
    "name": "ipython",
    "version": 3
   },
   "file_extension": ".py",
   "mimetype": "text/x-python",
   "name": "python",
   "nbconvert_exporter": "python",
   "pygments_lexer": "ipython3",
   "version": "3.7.6-final"
  },
  "orig_nbformat": 2,
  "kernelspec": {
   "name": "python3",
   "display_name": "Python 3"
  }
 },
 "nbformat": 4,
 "nbformat_minor": 2
}