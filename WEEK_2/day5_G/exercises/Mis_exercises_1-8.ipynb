{
 "cells": [
  {
   "cell_type": "code",
   "execution_count": 133,
   "metadata": {},
   "outputs": [],
   "source": [
    "#Crea una variable llamada numero_bridge que tenga como valor 15. \n",
    "\n",
    "numero_bridge = 15"
   ]
  },
  {
   "cell_type": "code",
   "execution_count": 134,
   "metadata": {},
   "outputs": [],
   "source": [
    "#Crea una variable llamada nombre_calle que sea un string y sea Recoletos.\n",
    "\n",
    "nombre_calle = \"Recoletos\"\n"
   ]
  },
  {
   "cell_type": "code",
   "execution_count": 135,
   "metadata": {},
   "outputs": [],
   "source": [
    "#Crea una variable llamada gusto_personal que sea True si eres más de playa y False si eres más de montaña.\n",
    "\n",
    "gusto_personal= True"
   ]
  },
  {
   "cell_type": "code",
   "execution_count": 136,
   "metadata": {},
   "outputs": [],
   "source": [
    "#Crea una variable llamada nada de la siguiente forma: nada = None. None no representa ningún valor. Ha de tenerse en cuenta que si se hace if (nada):, nada actúa como un valor booleano False.\n",
    "\n",
    "nada= None"
   ]
  },
  {
   "cell_type": "code",
   "execution_count": 137,
   "metadata": {},
   "outputs": [],
   "source": [
    "#Crea una variable que llamada lista_direccion que sea una lista y que contenga 2 valores. El primer valor debe ser la variable numero_bridge y el segundo valor de la lista debe ser la variable nombre_calle.\n",
    "\n",
    "lista_direccion=[numero_bridge, nombre_calle]"
   ]
  },
  {
   "cell_type": "code",
   "execution_count": 138,
   "metadata": {},
   "outputs": [],
   "source": [
    "#Crea una variable llamada horas_sueno que almacene, en forma de String, las horas que has dormido hoy.\n",
    "\n",
    "horas_sueno = \"6\""
   ]
  },
  {
   "cell_type": "code",
   "execution_count": 139,
   "metadata": {},
   "outputs": [],
   "source": [
    "#Crea una lista llamada lista_informacion que tenga cada una de las variables creadas anteriormente en el orden en el que se han expuesto en el ejercicio. IMPORTANTE: A partir de este momento y para todos estos ejercicios, solo se van a utilizar los datos almacenados en lista_informacion. Debe contener 6 elementos.\n",
    "\n",
    "lista_informacion = [numero_bridge, nombre_calle, gusto_personal, nada, lista_direccion, horas_sueno]"
   ]
  },
  {
   "cell_type": "code",
   "execution_count": 140,
   "metadata": {},
   "outputs": [],
   "source": [
    "#Ejecuta esta celda para borrar todas las variables que has tenido que crear antes. El contenido de lista_informacion no cambiará. De esta forma, nos aseguraremos de que solo uses la información de lista_informacion.\n",
    "\n",
    "del numero_bridge\n",
    "del nombre_calle\n",
    "del gusto_personal\n",
    "del nada\n",
    "del lista_direccion\n",
    "del horas_sueno"
   ]
  },
  {
   "cell_type": "code",
   "execution_count": 141,
   "metadata": {},
   "outputs": [
    {
     "output_type": "execute_result",
     "data": {
      "text/plain": "[15, 'Recoletos', True, None, [15, 'Recoletos'], '6']"
     },
     "metadata": {},
     "execution_count": 141
    }
   ],
   "source": [
    "lista_informacion"
   ]
  },
  {
   "cell_type": "code",
   "execution_count": 142,
   "metadata": {
    "tags": []
   },
   "outputs": [
    {
     "output_type": "stream",
     "name": "stdout",
     "text": "15:Recoletos\n"
    }
   ],
   "source": [
    "#La concatenación del número de The Bridge, dos puntos y el nombre de la calle.\n",
    "\n",
    "print(str(lista_informacion[0]) + \":\" + (lista_informacion[1]))"
   ]
  },
  {
   "cell_type": "code",
   "execution_count": 143,
   "metadata": {
    "tags": []
   },
   "outputs": [
    {
     "output_type": "stream",
     "name": "stdout",
     "text": "21\n"
    }
   ],
   "source": [
    "#La suma del número de The Bridge y las horas que has dormido hoy.\n",
    "\n",
    "print(lista_informacion[0] + int(lista_informacion[-1]))"
   ]
  },
  {
   "cell_type": "code",
   "execution_count": 144,
   "metadata": {
    "tags": []
   },
   "outputs": [
    {
     "output_type": "stream",
     "name": "stdout",
     "text": "15:Recoletos:True:6\n"
    }
   ],
   "source": [
    "#La concatenación del número de The Bridge, el nombre de la calle, tu gusto personal y las horas de sueño. Cada uno debe estar separado por lo siguiente: \" : \"\n",
    "\n",
    "print(str(lista_informacion[0]) + \":\" + lista_informacion[1] + \":\" + str(lista_informacion[2]) + \":\" + (lista_informacion[-1]))\n",
    "\n"
   ]
  },
  {
   "cell_type": "code",
   "execution_count": 145,
   "metadata": {},
   "outputs": [],
   "source": [
    "#Accediendo a la lista que ocupa la cuarta posición de lista_informacion, muestra por pantalla la suma de lo siguiente. Si en la cuarta posición de tu lista_informacion no encuentras una lista, preguntanos: - La concatenación de los dos elementos. -La multiplicación del tamaño de la lista y el tamaño del número de caracteres que tiene el nombre de la calle.\n"
   ]
  },
  {
   "cell_type": "code",
   "execution_count": 146,
   "metadata": {},
   "outputs": [
    {
     "output_type": "execute_result",
     "data": {
      "text/plain": "[15, 'Recoletos', True, None, [15, 'Recoletos'], '6']"
     },
     "metadata": {},
     "execution_count": 146
    }
   ],
   "source": [
    "lista_informacion"
   ]
  },
  {
   "cell_type": "code",
   "execution_count": 147,
   "metadata": {
    "tags": []
   },
   "outputs": [
    {
     "output_type": "stream",
     "name": "stdout",
     "text": "15Recoletos\n"
    }
   ],
   "source": [
    "print(str(lista_informacion[4][0]) + (lista_informacion[4][1]))"
   ]
  },
  {
   "cell_type": "code",
   "execution_count": 148,
   "metadata": {
    "tags": []
   },
   "outputs": [
    {
     "output_type": "stream",
     "name": "stdout",
     "text": "54\n"
    }
   ],
   "source": [
    "print(len(lista_informacion) * len(lista_informacion[1]))"
   ]
  },
  {
   "cell_type": "code",
   "execution_count": 149,
   "metadata": {},
   "outputs": [
    {
     "output_type": "error",
     "ename": "IndentationError",
     "evalue": "expected an indented block (<ipython-input-149-d4dfaa253d44>, line 5)",
     "traceback": [
      "\u001b[0;36m  File \u001b[0;32m\"<ipython-input-149-d4dfaa253d44>\"\u001b[0;36m, line \u001b[0;32m5\u001b[0m\n\u001b[0;31m    f(lista=lista_informacion)\u001b[0m\n\u001b[0m    ^\u001b[0m\n\u001b[0;31mIndentationError\u001b[0m\u001b[0;31m:\u001b[0m expected an indented block\n"
     ]
    }
   ],
   "source": [
    "#Para resolver los siguientes ejercicios será necesario que definas una función para cada apartado, tú eliges el nombre salvo que se especifique, pero asegúrate de que defines un único argumento/parámetro lista, que al llamar a la función se corresponderá con la variable lista_información.\n",
    "\n",
    "def f(lista):\n",
    "\n",
    "f(lista=lista_informacion)"
   ]
  },
  {
   "cell_type": "code",
   "execution_count": 150,
   "metadata": {
    "tags": []
   },
   "outputs": [
    {
     "output_type": "stream",
     "name": "stdout",
     "text": "Me gusta ver las carnes al aire libre\n"
    }
   ],
   "source": [
    "#Mostrar por pantalla \"Me gusta la tranquilidad\" si te gusta más la montaña y \"Me gusta ver las carnes al aire libre\" si te gusta más la playa.\n",
    "\n",
    "def f_gustos(lista):\n",
    "    if lista[2] == True:\n",
    "        print(\"Me gusta ver las carnes al aire libre\")\n",
    "    elif lista[2] == False:\n",
    "        print(\"Me gusta la tranquilidad\")\n",
    "\n",
    "f_gustos(lista=lista_informacion)\n"
   ]
  },
  {
   "cell_type": "code",
   "execution_count": 151,
   "metadata": {},
   "outputs": [
    {
     "output_type": "execute_result",
     "data": {
      "text/plain": "[15, 'Recoletos', True, None, [15, 'Recoletos'], '6']"
     },
     "metadata": {},
     "execution_count": 151
    }
   ],
   "source": [
    "#Mostrar por pantalla \"Hoy estoy cansado\" si has dormido menos de 7 horas y \"Hoy me como el mundo\" si has dormido más de 7 horas.\n",
    "lista_informacion\n"
   ]
  },
  {
   "cell_type": "code",
   "execution_count": 152,
   "metadata": {
    "tags": []
   },
   "outputs": [
    {
     "output_type": "stream",
     "name": "stdout",
     "text": "hoy estoy cansado\n"
    }
   ],
   "source": [
    "def f_1 (lista):\n",
    "    horas_sueño = int(lista[-1])\n",
    "    if horas_sueño > 7:\n",
    "        print(\"Hoy me como el mundo\")\n",
    "    elif horas_sueño < 7:\n",
    "        print(\"hoy estoy cansado\")\n",
    "\n",
    "f_1(lista=lista_informacion)"
   ]
  },
  {
   "cell_type": "code",
   "execution_count": 153,
   "metadata": {
    "tags": []
   },
   "outputs": [
    {
     "output_type": "stream",
     "name": "stdout",
     "text": "15\nRecoletos\nTrue\nNone\n[15, 'Recoletos']\n6\n"
    }
   ],
   "source": [
    "#Recorrer lista para mostrar todos los elementos que contiene.\n",
    "\n",
    "def f_2 (lista):\n",
    "    for elem in lista:\n",
    "        print(elem)\n",
    "\n",
    "f_2(lista=lista_informacion)\n"
   ]
  },
  {
   "cell_type": "code",
   "execution_count": 154,
   "metadata": {
    "tags": []
   },
   "outputs": [
    {
     "output_type": "stream",
     "name": "stdout",
     "text": "15--> OK\nRecoletos--> OK\nTrue--> OK\nNone--> OK\n[15, 'Recoletos']--> OK\n6--> OK\n"
    }
   ],
   "source": [
    "#Recorrer lista para mostrar todos los elementos que contiene concatenados con el string \"--> OK\"\n",
    "\n",
    "def f_2 (lista):\n",
    "    for elem in lista:\n",
    "        print(str(elem) + \"--> OK\")\n",
    "\n",
    "f_2(lista=lista_informacion)"
   ]
  },
  {
   "cell_type": "code",
   "execution_count": 155,
   "metadata": {},
   "outputs": [
    {
     "output_type": "execute_result",
     "data": {
      "text/plain": "[15, 'Recoletos', True, None, [15, 'Recoletos'], '6']"
     },
     "metadata": {},
     "execution_count": 155
    }
   ],
   "source": [
    "lista_informacion"
   ]
  },
  {
   "cell_type": "code",
   "execution_count": 156,
   "metadata": {
    "tags": []
   },
   "outputs": [
    {
     "output_type": "stream",
     "name": "stdout",
     "text": "Recoletos\nTrue\nNone\n[15, 'Recoletos']\n6\n"
    }
   ],
   "source": [
    "#Recorrer lista para mostrar todos los elementos que contiene excepto el primero.\n",
    "\n",
    "def f_2 (lista):\n",
    "    pos = 0\n",
    "    for elem in lista:\n",
    "        if pos != 0:\n",
    "            print(elem)\n",
    "        pos= pos +1\n",
    "    \n",
    "f_2(lista=lista_informacion)"
   ]
  },
  {
   "cell_type": "code",
   "execution_count": 157,
   "metadata": {
    "tags": []
   },
   "outputs": [
    {
     "output_type": "stream",
     "name": "stdout",
     "text": "Recoletos\nTrue\nNone\n[15, 'Recoletos']\n6\n"
    }
   ],
   "source": [
    "for elem in lista_informacion[1:]:\n",
    "    print(elem)"
   ]
  },
  {
   "cell_type": "code",
   "execution_count": 158,
   "metadata": {},
   "outputs": [
    {
     "output_type": "execute_result",
     "data": {
      "text/plain": "[15, 'Recoletos', True, None, [15, 'Recoletos'], '6']"
     },
     "metadata": {},
     "execution_count": 158
    }
   ],
   "source": [
    "lista_informacion"
   ]
  },
  {
   "cell_type": "code",
   "execution_count": 161,
   "metadata": {
    "tags": []
   },
   "outputs": [
    {
     "output_type": "stream",
     "name": "stdout",
     "text": "15\nRecoletos\nTrue\nNone\n[15, 'Recoletos']\n"
    }
   ],
   "source": [
    "#Recorrer lista para mostrar todos los elementos que contiene excepto el último.\n",
    "\n",
    "for elem in lista_informacion[:-1]:\n",
    "    print(elem)"
   ]
  },
  {
   "cell_type": "code",
   "execution_count": 170,
   "metadata": {
    "tags": []
   },
   "outputs": [
    {
     "output_type": "stream",
     "name": "stdout",
     "text": "15\nRecoletos\nTrue\nNone\n[15, 'Recoletos']\n"
    }
   ],
   "source": [
    "def f_2 (lista):\n",
    "    pos = 0\n",
    "    for elem in lista:\n",
    "        if pos != 5:\n",
    "            print(elem)\n",
    "        pos= pos + 1\n",
    "    \n",
    "f_2(lista=lista_informacion)"
   ]
  },
  {
   "cell_type": "code",
   "execution_count": 168,
   "metadata": {
    "tags": []
   },
   "outputs": [
    {
     "output_type": "stream",
     "name": "stdout",
     "text": "Recoletos\nTrue\nNone\n[15, 'Recoletos']\n"
    }
   ],
   "source": [
    "#Recorrer lista para mostrar todos los elementos que contiene excepto el número de la calle y las horas que has dormido.\n",
    "\n",
    "def f_2 (lista):\n",
    "    for elem in lista_informacion[1:-1]:\n",
    "        print(elem)\n",
    "\n",
    "f_2(lista=lista_informacion)"
   ]
  },
  {
   "cell_type": "code",
   "execution_count": 174,
   "metadata": {
    "tags": []
   },
   "outputs": [
    {
     "output_type": "stream",
     "name": "stdout",
     "text": "15\nRecoletos\nTrue\nNone\nRecoletos\n6\n"
    }
   ],
   "source": [
    "# Recorrer lista para mostrar todos los elementos que contiene excepto el primer elemento de la lista que se encuentra en quinta posición.\n",
    "\n",
    "def f_2 (lista):\n",
    "    pos=0\n",
    "    for elem in lista:\n",
    "        if pos!=4:\n",
    "            print(elem)\n",
    "        elif pos ==4:\n",
    "            print(elem[1])\n",
    "        pos = pos +1\n",
    "\n",
    "f_2(lista=lista_informacion)\n",
    "\n"
   ]
  },
  {
   "cell_type": "code",
   "execution_count": 177,
   "metadata": {
    "tags": []
   },
   "outputs": [
    {
     "output_type": "stream",
     "name": "stdout",
     "text": "15\nRecoletos\nTrue\nNone\nRecoletos\n6\n"
    }
   ],
   "source": [
    "def f_2 (lista):\n",
    "    for pos, elem in enumerate(lista):\n",
    "        if pos!=4:\n",
    "            print(elem)\n",
    "        elif pos == 4:\n",
    "            print(elem[1])\n",
    "f_2(lista=lista_informacion)"
   ]
  },
  {
   "cell_type": "code",
   "execution_count": 181,
   "metadata": {
    "tags": []
   },
   "outputs": [
    {
     "output_type": "stream",
     "name": "stdout",
     "text": "15\nRecoletos\nNone\n[15, 'Recoletos']\n6\n"
    }
   ],
   "source": [
    "#Recorrer lista para mostrar todos los elementos que contiene excepto el que contiene la información sobre si os gusta la montaña o la playa\n",
    "\n",
    "def f_2 (lista):\n",
    "    for elem in lista:\n",
    "        if elem == True:\n",
    "            continue\n",
    "        elif elem == False:\n",
    "           continue\n",
    "        print(elem)\n",
    "\n",
    "f_2(lista=lista_informacion)"
   ]
  },
  {
   "cell_type": "code",
   "execution_count": null,
   "metadata": {},
   "outputs": [],
   "source": []
  }
 ],
 "metadata": {
  "language_info": {
   "codemirror_mode": {
    "name": "ipython",
    "version": 3
   },
   "file_extension": ".py",
   "mimetype": "text/x-python",
   "name": "python",
   "nbconvert_exporter": "python",
   "pygments_lexer": "ipython3",
   "version": "3.7.6-final"
  },
  "orig_nbformat": 2,
  "kernelspec": {
   "name": "python3",
   "display_name": "Python 3"
  }
 },
 "nbformat": 4,
 "nbformat_minor": 2
}