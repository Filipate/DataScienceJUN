{
 "cells": [
  {
   "cell_type": "markdown",
   "metadata": {},
   "source": [
    "# Data Science Bootcamp - The Bridge \n",
    "## Precurso\n",
    "En este notebook vamos a ver, uno a uno, los conceptos básicos de Python. Constarán de ejercicios prácticos acompañados de una explicación teórica dada por el profesor.\n",
    "\n",
    "Los siguientes enlaces están recomendados para el alumno para profundizar y reforzar conceptos a partir de  ejercicios y ejemplos:\n",
    "\n",
    "- https://facundoq.github.io/courses/aa2018/res/02_python.html\n",
    "\n",
    "- https://www.w3resource.com/python-exercises/\n",
    "\n",
    "- https://www.practicepython.org/\n",
    "\n",
    "- https://es.slideshare.net/egutierrezru/python-paraprincipiantes\n",
    "\n",
    "- https://www.sololearn.com/Play/Python#\n",
    "\n",
    "- https://github.com/mhkmcp/Python-Bootcamp-from-Basic-to-Advanced\n",
    "\n",
    "Ejercicios avanzados:\n",
    "\n",
    "- https://github.com/darkprinx/100-plus-Python-programming-exercises-extended/tree/master/Status (++)\n",
    "\n",
    "- https://github.com/mahtab04/Python-Programming-Practice (++)\n",
    "\n",
    "- https://github.com/whojayantkumar/Python_Programs (+++)\n",
    "\n",
    "- https://www.w3resource.com/python-exercises/ (++++)\n",
    "\n",
    "- https://github.com/fupus/notebooks-ejercicios (+++++)\n",
    "\n",
    "Tutor de ayuda PythonTutor:\n",
    "\n",
    "- http://pythontutor.com/\n"
   ]
  },
  {
   "cell_type": "markdown",
   "metadata": {},
   "source": [
    "## 1. Variables y tipos\n",
    "\n",
    "### Cadenas"
   ]
  },
  {
   "cell_type": "code",
   "execution_count": 19,
   "metadata": {},
   "outputs": [
    {
     "output_type": "stream",
     "name": "stdout",
     "text": "2\n"
    }
   ],
   "source": [
    "x=2\n",
    "\n",
    "print(2)"
   ]
  },
  {
   "cell_type": "code",
   "execution_count": 24,
   "metadata": {},
   "outputs": [
    {
     "output_type": "stream",
     "name": "stdout",
     "text": "2\n"
    }
   ],
   "source": [
    "x=2\n",
    "\n",
    "print(2)"
   ]
  },
  {
   "cell_type": "code",
   "execution_count": 6,
   "metadata": {},
   "outputs": [
    {
     "output_type": "stream",
     "name": "stdout",
     "text": "companero\n"
    }
   ],
   "source": [
    "print(\"companero\")"
   ]
  },
  {
   "cell_type": "code",
   "execution_count": 28,
   "metadata": {},
   "outputs": [
    {
     "output_type": "stream",
     "name": "stdout",
     "text": "Hello Python world!\nNombre de compañero\n"
    }
   ],
   "source": [
    "print(\"Hello Python world!\")\n",
    "print(\"Nombre de compañero\")\n",
    "\n",
    "\n"
   ]
  },
  {
   "cell_type": "code",
   "execution_count": 73,
   "metadata": {},
   "outputs": [
    {
     "output_type": "stream",
     "name": "stdout",
     "text": "Hello Python world!\nNombre de compañero\n<class 'str'>\n"
    }
   ],
   "source": [
    "print(\"Hello Python world!\")\n",
    "print(\"Nombre de compañero\")\n",
    "print(type(\"Hello Python world!\"))"
   ]
  },
  {
   "cell_type": "code",
   "execution_count": 29,
   "metadata": {},
   "outputs": [
    {
     "output_type": "stream",
     "name": "stdout",
     "text": "2333\n"
    }
   ],
   "source": [
    "string2 = \"33\"\n",
    "suma2 = string_ + string2\n",
    "print(suma2)"
   ]
  },
  {
   "cell_type": "code",
   "execution_count": 103,
   "metadata": {},
   "outputs": [
    {
     "output_type": "stream",
     "name": "stdout",
     "text": "filipafilipa\n"
    }
   ],
   "source": [
    "string_= \"filipa\"\n",
    "string2= \"fernando\"\n",
    "multiplicación=string_*2\n",
    "print(multiplicación)"
   ]
  },
  {
   "cell_type": "code",
   "execution_count": 82,
   "metadata": {},
   "outputs": [
    {
     "output_type": "stream",
     "name": "stdout",
     "text": "filipa12filipa12\n<class 'str'>\n[1, 2, 3, 4]\n<class 'list'>\n"
    }
   ],
   "source": [
    "a = \"filipa12\"\n",
    "b = \"filipa12\"\n",
    "c = [1, 2, 3, 4]\n",
    "suma2 = a + b\n",
    "print(suma2)\n",
    "print(type(a))\n",
    "print(c)\n",
    "print(type(c))\n",
    "\n",
    "\n"
   ]
  },
  {
   "cell_type": "code",
   "execution_count": 51,
   "metadata": {},
   "outputs": [
    {
     "output_type": "stream",
     "name": "stdout",
     "text": "3333\n"
    }
   ],
   "source": [
    "string2 = \"33\"\n",
    "suma2 = string2 + string2\n",
    "print(suma2)"
   ]
  },
  {
   "cell_type": "code",
   "execution_count": 83,
   "metadata": {},
   "outputs": [
    {
     "output_type": "stream",
     "name": "stdout",
     "text": "<class 'int'>\n<class 'str'>\n"
    }
   ],
   "source": [
    "# String, Integer, Float, List, None (NaN)\n",
    "# str, int, float, list, \n",
    "\n",
    "string_ = \"33\"\n",
    "numero = 23\n",
    "\n",
    "#print(type(string_))\n",
    "print(type(numero))\n",
    "print(type(string_))\n"
   ]
  },
  {
   "cell_type": "code",
   "execution_count": 92,
   "metadata": {},
   "outputs": [
    {
     "output_type": "stream",
     "name": "stdout",
     "text": "2333\n<class 'int'>\n45\n"
    }
   ],
   "source": [
    "string_ = \"23\"\n",
    "string2 = \"33\"\n",
    "suma = string_ + string2\n",
    "print(suma)\n",
    "\n",
    "print(type(numero))\n",
    "\n",
    "string_= \"4\"\n",
    "string2= \"5\"\n",
    "suma=string_+string2\n",
    "print(suma) \n",
    "\n",
    "\n"
   ]
  },
  {
   "cell_type": "code",
   "execution_count": 57,
   "metadata": {},
   "outputs": [
    {
     "output_type": "stream",
     "name": "stdout",
     "text": "33\n"
    }
   ],
   "source": [
    "numero2 = 10\n",
    "suma = numero + numero2\n",
    "print(suma)"
   ]
  },
  {
   "cell_type": "code",
   "execution_count": 54,
   "metadata": {},
   "outputs": [
    {
     "output_type": "stream",
     "name": "stdout",
     "text": "33\n"
    }
   ],
   "source": [
    "numero2 = 10\n",
    "suma = numero2 + numero\n",
    "print(suma)"
   ]
  },
  {
   "cell_type": "code",
   "execution_count": 9,
   "metadata": {},
   "outputs": [
    {
     "output_type": "stream",
     "name": "stdout",
     "text": "10\n10\n<class 'int'>\n<class 'str'>\n"
    }
   ],
   "source": [
    "string3 = \"10\"\n",
    "numero_a_partir_de_string = int(string3)\n",
    "print(numero_a_partir_de_string)\n",
    "print(string3)\n",
    "\n",
    "print(type(numero_a_partir_de_string))\n",
    "print(type(string3))"
   ]
  },
  {
   "cell_type": "code",
   "execution_count": 86,
   "metadata": {},
   "outputs": [
    {
     "output_type": "stream",
     "name": "stdout",
     "text": "42\n"
    }
   ],
   "source": [
    "a=7\n",
    "b=6\n",
    "multiplicacion =a*b\n",
    "print(multiplicacion)"
   ]
  },
  {
   "cell_type": "code",
   "execution_count": 64,
   "metadata": {},
   "outputs": [
    {
     "output_type": "stream",
     "name": "stdout",
     "text": "15\n9\n36\n4.0\n<class 'int'>\n<class 'int'>\n<class 'float'>\nGabriel Vazquez\n"
    }
   ],
   "source": [
    "num1 = 12\n",
    "num2 = 3\n",
    "\n",
    "suma = num1 + num2\n",
    "resta = num1 - num2\n",
    "multiplicacion = num1 * num2 \n",
    "division = num1 / num2\n",
    "\n",
    "gabriel_vazquez = \"Gabriel Vazquez\"\n",
    "\n",
    "print(suma)\n",
    "print(resta)\n",
    "print(multiplicacion)\n",
    "print(division)\n",
    "print(type(suma))\n",
    "print(type(resta))\n",
    "print(type(division))\n",
    "print(gabriel_vazquez)\n"
   ]
  },
  {
   "cell_type": "code",
   "execution_count": 66,
   "metadata": {},
   "outputs": [],
   "source": [
    "# Soy un comentario\n",
    "# print(\"Hello Python world!\")"
   ]
  },
  {
   "cell_type": "code",
   "execution_count": 67,
   "metadata": {},
   "outputs": [
    {
     "output_type": "stream",
     "name": "stdout",
     "text": "One of Python's strengths is its diverse community.\n"
    }
   ],
   "source": [
    "message2 = \"One of Python's strengths is its diverse community.\" \n",
    "print(message2)"
   ]
  },
  {
   "cell_type": "markdown",
   "metadata": {},
   "source": [
    "## Ejercicio: \n",
    "### Crear una nueva celda.\n",
    "### Declarar tres variables: \n",
    "- Una con el nombre \"edad\" con valor vuestra edad\n",
    "- Otra \"edad_compañero_der\" que contengan la edad de tipo entero de vuestro compañero de la derecha\n",
    "- Otra \"suma_anterior\" que contenga la suma de las dos variables anteriormente declaradas\n",
    "\n",
    " Mostrar por pantalla la variable \"suma_anterior\"\n",
    "\n"
   ]
  },
  {
   "cell_type": "code",
   "execution_count": 68,
   "metadata": {},
   "outputs": [
    {
     "output_type": "stream",
     "name": "stdout",
     "text": "74\n"
    }
   ],
   "source": [
    "edad = 34\n",
    "\n",
    "edad_companero_de = 40\n",
    "\n",
    "suma = edad + edad_companero_de\n",
    "\n",
    "print(suma)\n"
   ]
  },
  {
   "cell_type": "code",
   "execution_count": 111,
   "metadata": {},
   "outputs": [
    {
     "output_type": "stream",
     "name": "stdout",
     "text": "ADA LOVELACE\nada lovelace\n"
    }
   ],
   "source": [
    "name = \"Ada Lovelace\"\n",
    "x = 2\n",
    "print(name.upper())\n",
    "print(name.lower())"
   ]
  },
  {
   "cell_type": "code",
   "execution_count": 114,
   "metadata": {},
   "outputs": [
    {
     "output_type": "stream",
     "name": "stdout",
     "text": "LOVE LEARNING\n"
    }
   ],
   "source": [
    "x = \"love learning\"\n",
    "print(x.upper())"
   ]
  },
  {
   "cell_type": "markdown",
   "metadata": {},
   "source": [
    "## 2. Números y operadores"
   ]
  },
  {
   "cell_type": "code",
   "execution_count": 15,
   "metadata": {},
   "outputs": [
    {
     "output_type": "stream",
     "name": "stdout",
     "text": "- Tipo de x:\n<class 'int'>\n- Valor de x:\n3\n- x+1:\n4\n- x-1:\n2\n- x*2:\n6\n- x^2:\n9\n- x modificado:\n4\n- x modificado:\n8\n- Varias cosas en una línea:\n1 2 8 10\n"
    }
   ],
   "source": [
    "### Enteros ###\n",
    "\n",
    "x = 3 \n",
    "\n",
    "print(\"- Tipo de x:\")\n",
    "print(type(x)) # Imprime el tipo (o `clase`) de x\n",
    "print(\"- Valor de x:\")\n",
    "print(x)       # Imprimir un valor\n",
    "print(\"- x+1:\")\n",
    "print(x + 1)   # Suma: imprime \"4\"\n",
    "print(\"- x-1:\")\n",
    "print(x - 1)   # Resta; imprime \"2\"\n",
    "print(\"- x*2:\")\n",
    "print(x * 2)   # Multiplicación; imprime \"6\"\n",
    "print(\"- x^2:\")\n",
    "print(x ** 2)  # Exponenciación; imprime \"9\"\n",
    "# Modificación de x\n",
    "x += 1 \n",
    "print(\"- x modificado:\")\n",
    "print(x)  # Imprime \"4\"\n",
    "\n",
    "x *= 2\n",
    "print(\"- x modificado:\")\n",
    "print(x)  # Imprime \"8\"\n",
    "\n",
    "print(\"- Varias cosas en una línea:\")\n",
    "print(1,2,x,5*2) # imprime varias cosas a la vez"
   ]
  },
  {
   "cell_type": "code",
   "execution_count": 70,
   "metadata": {},
   "outputs": [
    {
     "output_type": "stream",
     "name": "stdout",
     "text": "- Tipo de y:\n<class 'float'>\n- Varios valores en punto flotante:\n2.5 3.5 6.25 6.25\n"
    }
   ],
   "source": [
    "y = 2.5 \n",
    "print(\"- Tipo de y:\")\n",
    "print(type(y)) # Imprime el tipo de y\n",
    "print(\"- Varios valores en punto flotante:\")\n",
    "print(y, y + 1, y * 2.5, y ** 2) # Imprime varios números en punto flotante"
   ]
  },
  {
   "cell_type": "code",
   "execution_count": 110,
   "metadata": {},
   "outputs": [
    {
     "output_type": "stream",
     "name": "stdout",
     "text": "3\n6\n4\n4 5 8 16\n"
    }
   ],
   "source": [
    "f =2\n",
    "print(f +1)\n",
    "print(f*3)\n",
    "\n",
    "f *=2\n",
    "print(f)\n",
    "print(f, f+1, f*2, f**2)"
   ]
  },
  {
   "cell_type": "markdown",
   "metadata": {},
   "source": [
    "## 3. Tipo None"
   ]
  },
  {
   "cell_type": "code",
   "execution_count": null,
   "metadata": {},
   "outputs": [],
   "source": [
    "x = None"
   ]
  },
  {
   "cell_type": "markdown",
   "metadata": {},
   "source": [
    "## 4. Listas y colecciones "
   ]
  },
  {
   "cell_type": "code",
   "execution_count": null,
   "metadata": {},
   "outputs": [],
   "source": [
    "bicycles = ['trek', 'cannondale', 'redline', 'specialized']\n",
    "message = \"My first bicycle was a \" + bicycles[0]\n",
    "\n",
    "print(bicycles)\n",
    "print(message)"
   ]
  },
  {
   "cell_type": "code",
   "execution_count": null,
   "metadata": {},
   "outputs": [],
   "source": [
    "cars = ['bmw', 'audi', 'toyota', 'subaru']\n",
    "print(cars)\n",
    "\n",
    "cars.reverse()\n",
    "print(cars)"
   ]
  },
  {
   "cell_type": "code",
   "execution_count": null,
   "metadata": {},
   "outputs": [],
   "source": [
    "motorcycles = ['honda', 'yamaha', 'suzuki', 'ducati'] \n",
    "print(motorcycles)\n",
    "\n",
    "too_expensive = 'ducati'\n",
    "motorcycles.remove(too_expensive)\n",
    "print(motorcycles)\n",
    "print(too_expensive + \" is too expensive for me.\")"
   ]
  },
  {
   "cell_type": "markdown",
   "metadata": {},
   "source": [
    "## 4. Iteraciones, For"
   ]
  },
  {
   "cell_type": "code",
   "execution_count": null,
   "metadata": {},
   "outputs": [],
   "source": [
    "players = ['charles', 'martina', 'michael', 'florence', 'eli'] \n",
    "\n",
    "print(\"Here are the first three players on my team:\")\n",
    "for player in players[:3]:\n",
    "    print(player.title())\n",
    "\n",
    "\n",
    "#for player in players[0:3]:"
   ]
  },
  {
   "cell_type": "code",
   "execution_count": null,
   "metadata": {},
   "outputs": [],
   "source": [
    "dimensions = (200, 50)\n",
    "for dimension in dimensions:\n",
    "    print(dimension)"
   ]
  },
  {
   "cell_type": "markdown",
   "metadata": {},
   "source": [
    "## 5. Condiciones: if, elif, else"
   ]
  },
  {
   "cell_type": "code",
   "execution_count": null,
   "metadata": {},
   "outputs": [],
   "source": [
    "if 1 != 1:\n",
    "    print(\"Son iguales\")\n",
    "else:\n",
    "    print(\"No entra en if\")"
   ]
  },
  {
   "cell_type": "code",
   "execution_count": null,
   "metadata": {},
   "outputs": [],
   "source": [
    "if 1>3:\n",
    "    print(\"Es mayor\")\n",
    "elif 2==2:\n",
    "    print(\"Es igual\")\n",
    "else:\n",
    "    print(\"Ninguna de las anteriores\")"
   ]
  },
  {
   "cell_type": "code",
   "execution_count": null,
   "metadata": {},
   "outputs": [],
   "source": [
    "if 2>3:\n",
    "    print(1)\n",
    "else:\n",
    "    print(\"Primer else\")\n",
    "if 2==2:\n",
    "    print(2)\n",
    "else:\n",
    "    print(\"Segundo else\")\n"
   ]
  },
  {
   "cell_type": "code",
   "execution_count": null,
   "metadata": {},
   "outputs": [],
   "source": [
    "def funcion_condicion():\n",
    "    if y > 4:\n",
    "        print(\"Es mayor a 4\")\n",
    "    else:\n",
    "        print(\"No es mayor a 4\")\n",
    "\n",
    "funcion_condicion(y=4)"
   ]
  },
  {
   "cell_type": "code",
   "execution_count": null,
   "metadata": {},
   "outputs": [],
   "source": [
    "def funcion_primera(x):\n",
    "    if x == 4:\n",
    "        print(\"Es igual a 4\")\n",
    "    else:\n",
    "        funcion_condicion(y=x)\n",
    "\n",
    "funcion_primera(x=5)"
   ]
  },
  {
   "cell_type": "code",
   "execution_count": null,
   "metadata": {},
   "outputs": [],
   "source": [
    "def funcion_final(apellido):\n",
    "    if len(apellido) > 5:\n",
    "        print(\"Cumple condición\")\n",
    "    else:\n",
    "        print(\"No cumpole condición\")\n",
    "\n",
    "funcion_final(apellido=\"Vazquez\")"
   ]
  },
  {
   "cell_type": "markdown",
   "metadata": {},
   "source": []
  },
  {
   "cell_type": "markdown",
   "metadata": {},
   "source": [
    "# Bucles For, While"
   ]
  },
  {
   "cell_type": "code",
   "execution_count": null,
   "metadata": {},
   "outputs": [],
   "source": [
    "lista = [1, \"dos\", 3, \"Pepito\"] \n",
    "\n",
    "print(lista[0])\n",
    "print(lista[1])\n",
    "print(lista[2])\n",
    "print(lista[3])"
   ]
  },
  {
   "cell_type": "code",
   "execution_count": null,
   "metadata": {},
   "outputs": [],
   "source": [
    "for p in lista:\n",
    "    print(p)\n"
   ]
  },
  {
   "cell_type": "code",
   "execution_count": null,
   "metadata": {},
   "outputs": [],
   "source": [
    "altura1 = [1.78, 1.63, 1.75, 1.68]\n",
    "altura2 = [2.00, 1.82]\n",
    "altura3 = [1.65, 1.73, 1.75]\n",
    "altura4 = [1.72, 1.71, 1.71, 1.62]\n",
    "\n",
    "lista_alturas = [altura1, altura2, altura3, altura4]\n",
    "\n",
    "print(lista_alturas[0][1])\n",
    "\n",
    "for x in lista_alturas:\n",
    "    print(x[3])"
   ]
  },
  {
   "cell_type": "code",
   "execution_count": null,
   "metadata": {},
   "outputs": [],
   "source": [
    "def mostrar_cada_elemento_de_lista(lista):\n",
    "    for x in lista:\n",
    "        print(x)\n",
    "\n",
    "mostrar_cada_elemento_de_lista(lista=lista_alturas)"
   ]
  },
  {
   "cell_type": "code",
   "execution_count": null,
   "metadata": {},
   "outputs": [],
   "source": [
    "mostrar_cada_elemento_de_lista(lista=lista)"
   ]
  },
  {
   "cell_type": "code",
   "execution_count": null,
   "metadata": {},
   "outputs": [],
   "source": [
    "for x in lista_alturas:\n",
    "    if len(x) > 2:\n",
    "        print(x[2])\n",
    "    else:\n",
    "        print(x[1])"
   ]
  },
  {
   "cell_type": "code",
   "execution_count": null,
   "metadata": {},
   "outputs": [],
   "source": []
  }
 ],
 "metadata": {
  "language_info": {
   "name": "python",
   "codemirror_mode": {
    "name": "ipython",
    "version": 3
   },
   "version": "3.7.6-final"
  },
  "orig_nbformat": 2,
  "file_extension": ".py",
  "mimetype": "text/x-python",
  "name": "python",
  "npconvert_exporter": "python",
  "pygments_lexer": "ipython3",
  "version": 3,
  "kernelspec": {
   "name": "python3",
   "display_name": "Python 3"
  }
 },
 "nbformat": 4,
 "nbformat_minor": 2
}