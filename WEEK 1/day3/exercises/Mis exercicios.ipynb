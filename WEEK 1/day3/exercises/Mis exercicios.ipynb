{
 "cells": [
  {
   "cell_type": "code",
   "execution_count": 1,
   "metadata": {
    "tags": []
   },
   "outputs": [
    {
     "output_type": "stream",
     "name": "stdout",
     "text": "¡Hola mudon!\n"
    }
   ],
   "source": [
    "# Mostrar por pantalla la cadena \"¡Hola mundo!\"\n",
    "print(\"¡Hola mudon!\")\n"
   ]
  },
  {
   "cell_type": "code",
   "execution_count": 2,
   "metadata": {
    "tags": []
   },
   "outputs": [
    {
     "output_type": "stream",
     "name": "stdout",
     "text": "¡Hola mundo!\n"
    }
   ],
   "source": [
    "# Guardar la cadena \"¡Hola mundo!\" en la variable a\n",
    "a = \"¡Hola mundo!\"\n",
    "print(a) "
   ]
  },
  {
   "cell_type": "code",
   "execution_count": 14,
   "metadata": {
    "tags": []
   },
   "outputs": [
    {
     "output_type": "stream",
     "name": "stdout",
     "text": "Hola Filipa\n"
    }
   ],
   "source": [
    "# Preguntar el nombre del usuario y guardarlo en la variable nombre\n",
    "a = input(\"¿cual es tu nombre?: \")\n",
    "# Mostrar por pantalla el saludo con el nombre\n",
    "\n",
    "print(\"Hola\", a)"
   ]
  },
  {
   "cell_type": "code",
   "execution_count": null,
   "metadata": {},
   "outputs": [],
   "source": []
  }
 ],
 "metadata": {
  "language_info": {
   "codemirror_mode": {
    "name": "ipython",
    "version": 3
   },
   "file_extension": ".py",
   "mimetype": "text/x-python",
   "name": "python",
   "nbconvert_exporter": "python",
   "pygments_lexer": "ipython3",
   "version": "3.7.6-final"
  },
  "orig_nbformat": 2,
  "kernelspec": {
   "name": "python3",
   "display_name": "Python 3"
  }
 },
 "nbformat": 4,
 "nbformat_minor": 2
}