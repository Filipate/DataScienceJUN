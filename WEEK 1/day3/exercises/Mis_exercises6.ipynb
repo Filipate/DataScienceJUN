{
 "cells": [
  {
   "cell_type": "code",
   "execution_count": 118,
   "metadata": {},
   "outputs": [],
   "source": [
    "libros = [\"El mal de Corcira\", \"Un mundo feliz\", \"Lolita\", \"Crimen y castigo\", \"Python from for to pro\",\\\n",
    "          \"El señor de los anillos\", \"Cien años de soledad\", \"Harry Potter\", \"Lectura Fácil\", \"Seda\",\\\n",
    "          \"La chica de nieve\", \"El día que se perdió la cordura\", \"Data Science\"]"
   ]
  },
  {
   "cell_type": "code",
   "execution_count": 119,
   "metadata": {},
   "outputs": [],
   "source": [
    "biblioteca = [(\"El mal de Corcira\",4),(\"Un mundo feliz\", 2),(\"Lolita\", 5),\\\n",
    "              (\"Crimen y castigo\",2),(\"Python from for to pro\", 0),(\"El señor de los anillos\", 6),\\\n",
    "              (\"Cien años de soledad\", 5),(\"Harry Potter\", 9),(\"Lectura Fácil\", 4),(\"Seda\", 2),\\\n",
    "              (\"La chica de nieve\", 6),(\"El día que se perdió la cordura\", 3), (\"Data Science\", 0)]"
   ]
  },
  {
   "cell_type": "code",
   "execution_count": 120,
   "metadata": {
    "tags": []
   },
   "outputs": [
    {
     "output_type": "stream",
     "name": "stdout",
     "text": "13\n"
    }
   ],
   "source": [
    "#¿Cuántos títulos diferentes tienen en esta biblioteca?\n",
    "\n",
    "a = len(libros)\n",
    "print(a)"
   ]
  },
  {
   "cell_type": "code",
   "execution_count": 121,
   "metadata": {},
   "outputs": [
    {
     "output_type": "execute_result",
     "data": {
      "text/plain": "4"
     },
     "metadata": {},
     "execution_count": 121
    }
   ],
   "source": [
    "# ¿Cuántas letras componen la palabra Seda?\n",
    "\n",
    "a = len(\"seda\")\n",
    "a"
   ]
  },
  {
   "cell_type": "code",
   "execution_count": 122,
   "metadata": {
    "tags": []
   },
   "outputs": [
    {
     "output_type": "stream",
     "name": "stdout",
     "text": "4\n"
    }
   ],
   "source": [
    "print(len(biblioteca[9][0]))"
   ]
  },
  {
   "cell_type": "code",
   "execution_count": 123,
   "metadata": {
    "tags": []
   },
   "outputs": [
    {
     "output_type": "stream",
     "name": "stdout",
     "text": "('El mal de Corcira', 4)\n('Un mundo feliz', 2)\n('Lolita', 5)\n('Crimen y castigo', 2)\n('Python from for to pro', 0)\n('El señor de los anillos', 6)\n('Cien años de soledad', 5)\n('Harry Potter', 9)\n('Lectura Fácil', 4)\n('Seda', 2)\n('La chica de nieve', 6)\n('El día que se perdió la cordura', 3)\n('Data Science', 0)\n"
    }
   ],
   "source": [
    "for elem in biblioteca:\n",
    "    print(elem)"
   ]
  },
  {
   "cell_type": "code",
   "execution_count": 124,
   "metadata": {
    "tags": []
   },
   "outputs": [
    {
     "output_type": "stream",
     "name": "stdout",
     "text": "2\n"
    }
   ],
   "source": [
    "for elem in biblioteca:\n",
    "    if elem[0] == \"Seda\":\n",
    "        print(elem[1])"
   ]
  },
  {
   "cell_type": "code",
   "execution_count": 125,
   "metadata": {
    "tags": []
   },
   "outputs": [
    {
     "output_type": "stream",
     "name": "stdout",
     "text": "['El mal de Corcira', 'Un mundo feliz', 'Lolita', 'Crimen y castigo', 'Python from for to pro', 'El señor de los anillos', 'Cien años de soledad', 'Harry Potter', 'Lectura Fácil', 'Seda', 'La chica de nieve', 'El día que se perdió la cordura', 'Data Science', '1984']\n"
    }
   ],
   "source": [
    "#Quien registraba los libros antes de ti dejo pendiente de añadir a la lista libros la variable pendiente, además debió confundir el famoso libro de George Orwell 1984, con un número, asignándolo como un integer. ¿Puedes cambiarlo y pasar a string este elemento y añadirlo a libros?\n",
    "\n",
    "pendiente=str(1984)\n",
    "libros.append(pendiente)\n",
    "\n",
    "print(libros)"
   ]
  },
  {
   "cell_type": "code",
   "execution_count": 126,
   "metadata": {
    "tags": []
   },
   "outputs": [
    {
     "output_type": "execute_result",
     "data": {
      "text/plain": "['El mal de Corcira',\n 'Un mundo feliz',\n 'Lolita',\n 'Crimen y castigo',\n 'Python from for to pro',\n 'El señor de los anillos',\n 'Cien años de soledad',\n 'Harry Potter',\n 'Lectura Fácil',\n 'Seda',\n 'La chica de nieve',\n 'El día que se perdió la cordura',\n 'Data Science',\n '1984',\n 'Balada de pájaros cantores y serpientes']"
     },
     "metadata": {},
     "execution_count": 126
    }
   ],
   "source": [
    "#Te piden que añadas a esta lista el nuevo libro de Los Juegos del hambre que se titula Balada de pájaros cantores y serpientes. Has contado las unidades y han llegado 10.\n",
    "\n",
    "#a. Crea una variable con el título del libro, que se llame libro_1. Añade este elemento a la lista libros.\n",
    "\n",
    "#b. Crea una variable con el número de unidades, que se llame uds_1.\n",
    "\n",
    "#c. Crea una variable que sea una lista llamada nuevo_libro en el que su primer elemento sea libro_1 y el segundo uds_1.\n",
    "\n",
    "#d. Convierte a nuevo_libro a tupla. (muestra qué tipo es ahora esta variable)\n",
    "\n",
    "#e. Añade nuevo_libro a la lista bibliotecaTe piden que añadas a esta lista el nuevo libro de Los Juegos del hambre que se titula Balada de pájaros cantores y serpientes. Has contado las unidades y han llegado 10.\n",
    "\n",
    "libro_1 = (\"Balada de pájaros cantores y serpientes\")\n",
    "libros.append(libro_1)\n",
    "libros\n",
    "\n",
    "\n"
   ]
  },
  {
   "cell_type": "code",
   "execution_count": 127,
   "metadata": {
    "tags": []
   },
   "outputs": [
    {
     "output_type": "stream",
     "name": "stdout",
     "text": "<class 'tuple'>\n"
    }
   ],
   "source": [
    "uds_1=10\n",
    "nuevo_libro =[libro_1, uds_1]\n",
    "nuevo_libro=tuple(nuevo_libro)\n",
    "print(type(nuevo_libro))"
   ]
  },
  {
   "cell_type": "code",
   "execution_count": 128,
   "metadata": {
    "tags": []
   },
   "outputs": [
    {
     "output_type": "execute_result",
     "data": {
      "text/plain": "[('El mal de Corcira', 4),\n ('Un mundo feliz', 2),\n ('Lolita', 5),\n ('Crimen y castigo', 2),\n ('Python from for to pro', 0),\n ('El señor de los anillos', 6),\n ('Cien años de soledad', 5),\n ('Harry Potter', 9),\n ('Lectura Fácil', 4),\n ('Seda', 2),\n ('La chica de nieve', 6),\n ('El día que se perdió la cordura', 3),\n ('Data Science', 0),\n ('Balada de pájaros cantores y serpientes', 10)]"
     },
     "metadata": {},
     "execution_count": 128
    }
   ],
   "source": [
    "biblioteca.append(nuevo_libro)\n",
    "biblioteca"
   ]
  },
  {
   "cell_type": "code",
   "execution_count": 129,
   "metadata": {},
   "outputs": [
    {
     "output_type": "execute_result",
     "data": {
      "text/plain": "[('El mal de Corcira', 4),\n ('Un mundo feliz', 2),\n ('Lolita', 5),\n ('Crimen y castigo', 2),\n ('Python from for to pro', 0),\n ('El señor de los anillos', 6),\n ('Cien años de soledad', 5),\n ('Harry Potter', 9),\n ('Lectura Fácil', 4),\n ('Seda', 2),\n ('La chica de nieve', 6),\n ('El día que se perdió la cordura', 3),\n ('Data Science', 0),\n ('Balada de pájaros cantores y serpientes', 10)]"
     },
     "metadata": {},
     "execution_count": 129
    }
   ],
   "source": [
    "#Acaban de traer una unidad más de El mal de Corcira, añade una unidad más al segundo elemento del primer elemento de la lista biblioteca.\n",
    "\n",
    "biblioteca\n"
   ]
  },
  {
   "cell_type": "code",
   "execution_count": 130,
   "metadata": {},
   "outputs": [
    {
     "output_type": "execute_result",
     "data": {
      "text/plain": "['El mal de Corcira', 4]"
     },
     "metadata": {},
     "execution_count": 130
    }
   ],
   "source": [
    "a = list(biblioteca[0])\n",
    "a"
   ]
  },
  {
   "cell_type": "code",
   "execution_count": 131,
   "metadata": {},
   "outputs": [
    {
     "output_type": "execute_result",
     "data": {
      "text/plain": "['El mal de Corcira', 5]"
     },
     "metadata": {},
     "execution_count": 131
    }
   ],
   "source": [
    "a[1]= a[1] +1\n",
    "a"
   ]
  },
  {
   "cell_type": "code",
   "execution_count": 132,
   "metadata": {},
   "outputs": [
    {
     "output_type": "execute_result",
     "data": {
      "text/plain": "('El mal de Corcira', 5)"
     },
     "metadata": {},
     "execution_count": 132
    }
   ],
   "source": [
    "a = tuple(a)\n",
    "a"
   ]
  },
  {
   "cell_type": "code",
   "execution_count": 133,
   "metadata": {},
   "outputs": [
    {
     "output_type": "execute_result",
     "data": {
      "text/plain": "[('El mal de Corcira', 5),\n ('Un mundo feliz', 2),\n ('Lolita', 5),\n ('Crimen y castigo', 2),\n ('Python from for to pro', 0),\n ('El señor de los anillos', 6),\n ('Cien años de soledad', 5),\n ('Harry Potter', 9),\n ('Lectura Fácil', 4),\n ('Seda', 2),\n ('La chica de nieve', 6),\n ('El día que se perdió la cordura', 3),\n ('Data Science', 0),\n ('Balada de pájaros cantores y serpientes', 10)]"
     },
     "metadata": {},
     "execution_count": 133
    }
   ],
   "source": [
    "biblioteca[0] =a\n",
    "biblioteca"
   ]
  },
  {
   "cell_type": "code",
   "execution_count": null,
   "metadata": {},
   "outputs": [],
   "source": []
  }
 ],
 "metadata": {
  "language_info": {
   "codemirror_mode": {
    "name": "ipython",
    "version": 3
   },
   "file_extension": ".py",
   "mimetype": "text/x-python",
   "name": "python",
   "nbconvert_exporter": "python",
   "pygments_lexer": "ipython3",
   "version": "3.7.6-final"
  },
  "orig_nbformat": 2,
  "kernelspec": {
   "name": "python3",
   "display_name": "Python 3"
  }
 },
 "nbformat": 4,
 "nbformat_minor": 2
}