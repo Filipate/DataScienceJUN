{
 "cells": [
  {
   "cell_type": "code",
   "execution_count": 1,
   "metadata": {
    "tags": []
   },
   "outputs": [
    {
     "output_type": "stream",
     "name": "stdout",
     "text": "['Matemáticas, Lenguas, Gemometria, Historia del Arte, Fisica, Quimica']\n"
    }
   ],
   "source": [
    "#Escribir un programa que almacene las asignaturas de un curso (por ejemplo Matemáticas, Física, Química, Historia y Lengua) en una lista y la muestre por pantalla.\n",
    "subjects = [\"Matemáticas, Lenguas, Gemometria, Historia del Arte, Fisica, Quimica\"]\n",
    "print(subjects)\n"
   ]
  },
  {
   "cell_type": "code",
   "execution_count": 4,
   "metadata": {
    "tags": []
   },
   "outputs": [
    {
     "output_type": "stream",
     "name": "stdout",
     "text": "Yo estudio ['Matemáticas, Lenguas, Gemometria, Historia del Arte, Fisica, Quimica']\n"
    }
   ],
   "source": [
    "#Escribir un programa que almacene las asignaturas de un curso (por ejemplo Matemáticas, Física, Química, Historia y Lengua) en una lista y la muestre por pantalla el mensaje Yo estudio <asignatura>, donde <asignatura> es cada una de las asignaturas de la lista\n",
    "subjects = [\"Matemáticas, Lenguas, Gemometria, Historia del Arte, Fisica, Quimica\"]\n",
    "print(\"Yo estudio \" + str(subjects))"
   ]
  },
  {
   "cell_type": "code",
   "execution_count": 21,
   "metadata": {
    "tags": []
   },
   "outputs": [
    {
     "output_type": "stream",
     "name": "stdout",
     "text": "Yo estudio Matemáticas\nYo estudio Lenguas\nYo estudio Gemometria\nYo estudio Historia del Arte\nYo estudio Fisica\nYo estudio Quimica\n"
    }
   ],
   "source": [
    "subjects = [\"Matemáticas\", \"Lenguas\", \"Gemometria\", \"Historia del Arte\", \"Fisica\", \"Quimica\"]\n",
    "for subject in subjects:\n",
    "    print(\"Yo estudio \" + subject)"
   ]
  },
  {
   "cell_type": "code",
   "execution_count": 23,
   "metadata": {
    "tags": []
   },
   "outputs": [
    {
     "output_type": "stream",
     "name": "stdout",
     "text": "En Matemáticas has sacado 4\nEn Lenguas has sacado 5\nEn Gemometria has sacado 6\nEn Historia del Arte has sacado 7\nEn Fisica has sacado 5\nEn Quimica has sacado 6\n"
    }
   ],
   "source": [
    "#Escribir un programa que almacene las asignaturas de un curso (por ejemplo Matemáticas, Física, Química, Historia y Lengua) en una lista, pregunte al usuario la nota que ha sacado en cada asignatura, y después las muestre por pantalla con el mensaje En <asignatura> has sacado <nota> donde <asignatura> es cada una des las asignaturas de la lista y <nota> cada una de las correspondientes notas introducidas por el usuario.\n",
    "\n",
    "subjects = [\"Matemáticas\", \"Lenguas\", \"Gemometria\", \"Historia del Arte\", \"Fisica\", \"Quimica\"]\n",
    "notas =[]\n",
    "for elem in subjects:\n",
    "    score = input(\"¿Qué nota has sacado en \" + elem + \"?\")\n",
    "    notas.append(score)\n",
    "for elem1 in range(len(subjects)):\n",
    "    print(\"En \" + str(subjects[elem1]) + \" has sacado \" + notas[elem1])\n",
    "\n"
   ]
  },
  {
   "cell_type": "code",
   "execution_count": 34,
   "metadata": {
    "tags": []
   },
   "outputs": [
    {
     "output_type": "stream",
     "name": "stdout",
     "text": "los números ganadores son [3, 6, 12, 13, 34, 45]\n"
    }
   ],
   "source": [
    "#Escribir un programa que pregunte al usuario los números ganadores de la lotería primitiva, los almacene en una lista y los muestre por pantalla ordenados de menor a mayor.\n",
    "\n",
    "\n",
    "numeros =[]\n",
    "for elem in range(6):\n",
    "    numeros.append(int(input(\"Introduce un numero ganador: \")))\n",
    "numeros.sort()\n",
    "print(\"los números ganadores son \" + str(numeros))\n"
   ]
  },
  {
   "cell_type": "code",
   "execution_count": 78,
   "metadata": {
    "tags": []
   },
   "outputs": [
    {
     "output_type": "stream",
     "name": "stdout",
     "text": "10, 9, 8, 7, 6, 5, 4, 3, 2, 1,"
    }
   ],
   "source": [
    "#Escribir un programa que almacene en una lista los números del 1 al 10 y los muestre por pantalla en orden inverso separados por comas.\n",
    "\n",
    "a =[1, 2, 3, 4, 5, 6, 7, 8, 9, 10]\n",
    "for i in range(1, 11):\n",
    "    print(a[-i], end=\", \")\n"
   ]
  },
  {
   "cell_type": "code",
   "execution_count": 92,
   "metadata": {
    "tags": []
   },
   "outputs": [
    {
     "output_type": "stream",
     "name": "stdout",
     "text": "Tienes que repetir ['Química', 'Historia']\n"
    }
   ],
   "source": [
    "#Escribir un programa que almacene las asignaturas de un curso (por ejemplo Matemáticas, Física, Química, Historia y Lengua) en una lista, pregunte al usuario la nota que ha sacado en cada asignatura y elimine de la lista las asignaturas aprobadas. Al final el programa debe mostrar por pantalla las asignaturas que el usuario tiene que repetir.\n",
    "\n",
    "asignatura=[\"Matemáticas\", \"Física\", \"Química\", \"Historia\", \"Lengua\"]\n",
    "aprovado=[]\n",
    "for elem in asignatura:\n",
    "    notas=float(input(\"¿Qué notas has sacado en \" + elem + \"?\"))\n",
    "    if notas >=10:\n",
    "        aprovado.append(elem)\n",
    "for elem in aprovado:\n",
    "    asignatura.remove(elem)\n",
    "print(\"Tienes que repetir \" + str(asignatura))"
   ]
  },
  {
   "cell_type": "code",
   "execution_count": 102,
   "metadata": {
    "tags": []
   },
   "outputs": [
    {
     "output_type": "stream",
     "name": "stdout",
     "text": "['a', 'b', 'd', 'e', 'g', 'h', 'j', 'k', 'm', 'n']\n"
    }
   ],
   "source": [
    "#Escribir un programa que almacene el abecedario en una lista, elimine de la lista las letras que ocupen posiciones múltiplos de 3, y muestre por pantalla la lista resultante.\n",
    "\n",
    "abecedario = [\"a\", \"b\", \"c\", \"d\", \"e\", \"f\", \"g\", \"h\", \"i\", \"j\", \"k\", \"l\", \"m\", \"n\" , \"o\"]\n",
    "for elem in range(len(abecedario), 1, -1):\n",
    "    if elem % 3 == 0:\n",
    "        abecedario.pop(elem-1)\n",
    "print(abecedario)\n"
   ]
  },
  {
   "cell_type": "code",
   "execution_count": 106,
   "metadata": {
    "tags": []
   },
   "outputs": [
    {
     "output_type": "stream",
     "name": "stdout",
     "text": "la vocal a aparece 0 veces \nla vocal e aparece 4 veces \nla vocal i aparece 1 veces \nla vocal o aparece 3 veces \nla vocal u aparece 0 veces \n"
    }
   ],
   "source": [
    "#Escribir un programa que pida al usuario una palabra y muestre por pantalla el número de veces que contiene cada vocal\n",
    "\n",
    "word=input(\"Escribe una palabra?\")\n",
    "vocales = [\"a\", \"e\", \"i\", \"o\", \"u\" ]\n",
    "for elem in vocales:\n",
    "    times =0\n",
    "    for elem2 in word:\n",
    "        if elem2 == elem:\n",
    "            times += 1\n",
    "    print(\"la vocal \" + elem + \" aparece \" + str(times) + \" veces \")\n"
   ]
  },
  {
   "cell_type": "code",
   "execution_count": 124,
   "metadata": {
    "tags": []
   },
   "outputs": [
    {
     "output_type": "stream",
     "name": "stdout",
     "text": "El mínimo es 8\n El maxímo es 80\n"
    }
   ],
   "source": [
    "#Escribir un programa que almacene en una lista los siguientes precios, 50, 75, 46, 22, 80, 65, 8, y muestre por pantalla el menor y el mayor de los precios.\n",
    "\n",
    "numeros=[50, 75, 46, 22, 80, 65, 8]\n",
    "min = max = numeros[0]\n",
    "for elem in numeros:\n",
    "    if elem < min:\n",
    "        min = elem\n",
    "    elif elem > max:\n",
    "        max = elem\n",
    "print(\"El mínimo es \" + str(min))\n",
    "print(\" El maxímo es \" + str(max))"
   ]
  },
  {
   "cell_type": "code",
   "execution_count": null,
   "metadata": {},
   "outputs": [],
   "source": [
    "#Escribir un programa que almacene las matrices en una tupla y muestre por pantalla su producto. Nota: Para representar matrices mediante tuplas usar tuplas anidadas, representando cada vector fila en una tupla\n",
    "\n"
   ]
  }
 ],
 "metadata": {
  "language_info": {
   "codemirror_mode": {
    "name": "ipython",
    "version": 3
   },
   "file_extension": ".py",
   "mimetype": "text/x-python",
   "name": "python",
   "nbconvert_exporter": "python",
   "pygments_lexer": "ipython3",
   "version": "3.7.6-final"
  },
  "orig_nbformat": 2,
  "kernelspec": {
   "name": "python3",
   "display_name": "Python 3"
  }
 },
 "nbformat": 4,
 "nbformat_minor": 2
}