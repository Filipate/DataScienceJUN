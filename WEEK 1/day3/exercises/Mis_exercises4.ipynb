{
 "cells": [
  {
   "cell_type": "code",
   "execution_count": 1,
   "metadata": {
    "tags": []
   },
   "outputs": [
    {
     "output_type": "stream",
     "name": "stdout",
     "text": "['Matemáticas, Lenguas, Gemometria, Historia del Arte, Fisica, Quimica']\n"
    }
   ],
   "source": [
    "#Escribir un programa que almacene las asignaturas de un curso (por ejemplo Matemáticas, Física, Química, Historia y Lengua) en una lista y la muestre por pantalla.\n",
    "subjects = [\"Matemáticas, Lenguas, Gemometria, Historia del Arte, Fisica, Quimica\"]\n",
    "print(subjects)\n"
   ]
  },
  {
   "cell_type": "code",
   "execution_count": 4,
   "metadata": {
    "tags": []
   },
   "outputs": [
    {
     "output_type": "stream",
     "name": "stdout",
     "text": "Yo estudio ['Matemáticas, Lenguas, Gemometria, Historia del Arte, Fisica, Quimica']\n"
    }
   ],
   "source": [
    "#Escribir un programa que almacene las asignaturas de un curso (por ejemplo Matemáticas, Física, Química, Historia y Lengua) en una lista y la muestre por pantalla el mensaje Yo estudio <asignatura>, donde <asignatura> es cada una de las asignaturas de la lista\n",
    "subjects = [\"Matemáticas, Lenguas, Gemometria, Historia del Arte, Fisica, Quimica\"]\n",
    "print(\"Yo estudio \" + str(subjects))"
   ]
  },
  {
   "cell_type": "code",
   "execution_count": 21,
   "metadata": {
    "tags": []
   },
   "outputs": [
    {
     "output_type": "stream",
     "name": "stdout",
     "text": "Yo estudio Matemáticas\nYo estudio Lenguas\nYo estudio Gemometria\nYo estudio Historia del Arte\nYo estudio Fisica\nYo estudio Quimica\n"
    }
   ],
   "source": [
    "subjects = [\"Matemáticas\", \"Lenguas\", \"Gemometria\", \"Historia del Arte\", \"Fisica\", \"Quimica\"]\n",
    "for subject in subjects:\n",
    "    print(\"Yo estudio \" + subject)"
   ]
  },
  {
   "cell_type": "code",
   "execution_count": 23,
   "metadata": {
    "tags": []
   },
   "outputs": [
    {
     "output_type": "stream",
     "name": "stdout",
     "text": "En Matemáticas has sacado 4\nEn Lenguas has sacado 5\nEn Gemometria has sacado 6\nEn Historia del Arte has sacado 7\nEn Fisica has sacado 5\nEn Quimica has sacado 6\n"
    }
   ],
   "source": [
    "#Escribir un programa que almacene las asignaturas de un curso (por ejemplo Matemáticas, Física, Química, Historia y Lengua) en una lista, pregunte al usuario la nota que ha sacado en cada asignatura, y después las muestre por pantalla con el mensaje En <asignatura> has sacado <nota> donde <asignatura> es cada una des las asignaturas de la lista y <nota> cada una de las correspondientes notas introducidas por el usuario.\n",
    "\n",
    "subjects = [\"Matemáticas\", \"Lenguas\", \"Gemometria\", \"Historia del Arte\", \"Fisica\", \"Quimica\"]\n",
    "notas =[]\n",
    "for elem in subjects:\n",
    "    score = input(\"¿Qué nota has sacado en \" + elem + \"?\")\n",
    "    notas.append(score)\n",
    "for elem1 in range(len(subjects)):\n",
    "    print(\"En \" + str(subjects[elem1]) + \" has sacado \" + notas[elem1])\n",
    "\n"
   ]
  },
  {
   "cell_type": "code",
   "execution_count": 34,
   "metadata": {
    "tags": []
   },
   "outputs": [
    {
     "output_type": "stream",
     "name": "stdout",
     "text": "los números ganadores son [3, 6, 12, 13, 34, 45]\n"
    }
   ],
   "source": [
    "#Escribir un programa que pregunte al usuario los números ganadores de la lotería primitiva, los almacene en una lista y los muestre por pantalla ordenados de menor a mayor.\n",
    "\n",
    "\n",
    "numeros =[]\n",
    "for elem in range(6):\n",
    "    numeros.append(int(input(\"Introduce un numero ganador: \")))\n",
    "numeros.sort()\n",
    "print(\"los números ganadores son \" + str(numeros))\n"
   ]
  },
  {
   "cell_type": "code",
   "execution_count": null,
   "metadata": {},
   "outputs": [],
   "source": []
  }
 ],
 "metadata": {
  "language_info": {
   "codemirror_mode": {
    "name": "ipython",
    "version": 3
   },
   "file_extension": ".py",
   "mimetype": "text/x-python",
   "name": "python",
   "nbconvert_exporter": "python",
   "pygments_lexer": "ipython3",
   "version": "3.7.6-final"
  },
  "orig_nbformat": 2,
  "kernelspec": {
   "name": "python3",
   "display_name": "Python 3"
  }
 },
 "nbformat": 4,
 "nbformat_minor": 2
}