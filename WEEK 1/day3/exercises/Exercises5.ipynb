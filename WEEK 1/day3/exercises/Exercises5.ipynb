{
 "cells": [
  {
   "cell_type": "code",
   "execution_count": 1,
   "metadata": {
    "tags": []
   },
   "outputs": [
    {
     "output_type": "stream",
     "name": "stdout",
     "text": "Hola amiga\n"
    }
   ],
   "source": [
    "#Escribir una función que muestre por pantalla el saludo ¡Hola amiga! cada vez que se la invoque.\n",
    "\n",
    "def saludo ():\n",
    "    print(\"Hola amiga\")\n",
    "    return\n",
    "saludo()\n"
   ]
  },
  {
   "cell_type": "code",
   "execution_count": 4,
   "metadata": {
    "tags": []
   },
   "outputs": [
    {
     "output_type": "stream",
     "name": "stdout",
     "text": "hola Filipa\nhola Fernando\n"
    }
   ],
   "source": [
    "#Escribir una función a la que se le pase una cadena <nombre> y muestre por pantalla el saludo ¡hola <nombre>!.\n",
    "\n",
    "def saludo(nombre):\n",
    "    print(\"hola \" + nombre)\n",
    "    return\n",
    "\n",
    "saludo(\"Filipa\")\n",
    "saludo(\"Fernando\")"
   ]
  },
  {
   "cell_type": "code",
   "execution_count": 7,
   "metadata": {
    "tags": []
   },
   "outputs": [
    {
     "output_type": "stream",
     "name": "stdout",
     "text": "1100.0\n1210.0\n"
    }
   ],
   "source": [
    "#Escribir una función que calcule el total de una factura tras aplicarle el IVA. La función debe recibir la cantidad sin IVA y el porcentaje de IVA a aplicar, y devolver el total de la factura. Si se invoca la función sin pasarle el porcentaje de IVA, deberá aplicar un 21%.\n",
    "\n",
    "def Factura(importe, vat=21):\n",
    "    return importe + importe*vat/100\n",
    "\n",
    "print(Factura(1000,10))\n",
    "print(Factura(1000))"
   ]
  },
  {
   "cell_type": "code",
   "execution_count": null,
   "metadata": {},
   "outputs": [],
   "source": []
  }
 ],
 "metadata": {
  "language_info": {
   "codemirror_mode": {
    "name": "ipython",
    "version": 3
   },
   "file_extension": ".py",
   "mimetype": "text/x-python",
   "name": "python",
   "nbconvert_exporter": "python",
   "pygments_lexer": "ipython3",
   "version": "3.7.6-final"
  },
  "orig_nbformat": 2,
  "kernelspec": {
   "name": "python3",
   "display_name": "Python 3"
  }
 },
 "nbformat": 4,
 "nbformat_minor": 2
}