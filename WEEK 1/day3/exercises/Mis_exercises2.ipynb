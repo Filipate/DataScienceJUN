{
 "cells": [
  {
   "cell_type": "code",
   "execution_count": 2,
   "metadata": {
    "tags": []
   },
   "outputs": [
    {
     "output_type": "stream",
     "name": "stdout",
     "text": "Hola Python\n"
    }
   ],
   "source": [
    "a = \"Hola Python\"\n",
    "print(a)"
   ]
  },
  {
   "cell_type": "code",
   "execution_count": 3,
   "metadata": {
    "tags": []
   },
   "outputs": [
    {
     "output_type": "stream",
     "name": "stdout",
     "text": "Hola Filipa!\n"
    }
   ],
   "source": [
    "name = input(\"introduce un Nombre:\")\n",
    "print(\"Hola \" + name + \"!\")"
   ]
  },
  {
   "cell_type": "code",
   "execution_count": 4,
   "metadata": {
    "tags": []
   },
   "outputs": [
    {
     "output_type": "stream",
     "name": "stdout",
     "text": "Filipa\nFilipa\nFilipa\n\n"
    }
   ],
   "source": [
    "name = input(\"what's your name\")\n",
    "n =input(\"introduce un número entero: \")\n",
    "print((name + \"\\n\") * int(n))"
   ]
  },
  {
   "cell_type": "code",
   "execution_count": 5,
   "metadata": {
    "tags": []
   },
   "outputs": [
    {
     "output_type": "stream",
     "name": "stdout",
     "text": "Fernando tiene 8 letras\n"
    }
   ],
   "source": [
    "#Escribir un programa que pregunte el nombre del usuario en la consola y después de que el usuario lo introduzca muestre por pantalla <NOMBRE> tiene <n> letras, donde <NOMBRE> es el nombre de usuario en mayúsculas y <n> es el número de letras que tienen el nombre.\n",
    "\n",
    "n = input(\"Como te llamas\")\n",
    "x= len(n)\n",
    "print((n) + \" tiene \" + str(x) + \" letras\")"
   ]
  },
  {
   "cell_type": "code",
   "execution_count": 6,
   "metadata": {
    "tags": []
   },
   "outputs": [
    {
     "output_type": "stream",
     "name": "stdout",
     "text": "0.25\n"
    }
   ],
   "source": [
    "# Escribir un programa que realice la siguiente operación aritmética (3+22⋅5)2.\n",
    "\n",
    "print(((3+2)/(2*5))**2)"
   ]
  },
  {
   "cell_type": "code",
   "execution_count": 7,
   "metadata": {
    "tags": []
   },
   "outputs": [
    {
     "output_type": "stream",
     "name": "stdout",
     "text": "Tú salario es 160.0 euros por dia\n"
    }
   ],
   "source": [
    "# Escribe un programa que pregunte al usuario por el número de horas trabajadas y el coste por hora. Después debe mostrar por pantalla la paga que le corresponde.\n",
    "a = float(input(\"Número de horas trabajdas por dia: \"))\n",
    "b = float(input(\"precio por hora trabajada:\"))\n",
    "c = round(a * b, 3)\n",
    "print(\"Tú salario es \" + str(c) + \" euros por dia\")"
   ]
  },
  {
   "cell_type": "code",
   "execution_count": 10,
   "metadata": {
    "tags": []
   },
   "outputs": [
    {
     "output_type": "stream",
     "name": "stdout",
     "text": "Tu indice de masa corporal es 19.63\n"
    }
   ],
   "source": [
    "#Escribir un programa que pida al usuario su peso (en kg) y estatura (en metros), calcule el índice de masa corporal y lo almacene en una variable, y muestre por pantalla la frase Tu índice de masa corporal es <imc> donde <imc> es el índice de masa corporal calculado redondeado con dos decimales\n",
    "\n",
    "a = float(input(\"Introduce tu Peso (kg): \"))\n",
    "b = float(input(\"Introduce tu altura (m): \"))\n",
    "imc = round(float(a)/float(b)**2, 2) \n",
    "print(\"Tu indice de masa corporal es \" + str(imc))\n",
    "\n",
    "\n"
   ]
  },
  {
   "cell_type": "code",
   "execution_count": 15,
   "metadata": {
    "tags": []
   },
   "outputs": [
    {
     "output_type": "stream",
     "name": "stdout",
     "text": "15 entre 3 igual a 5 y un resto 0\n"
    }
   ],
   "source": [
    "#Escribir un programa que pida al usuario dos números enteros y muestre por pantalla la <n> entre <m> da un cociente <c> y un resto <r> donde <n> y <m> son los números introducidos por el usuario, y <c> y <r> son el cociente y el resto de la división entera respectivamente.\n",
    "\n",
    "n = input(\"dividendo: \")\n",
    "m = input(\"divisor: \")\n",
    "print( n + \" entre \" + m + \" igual a \" + str(int(n) // int(m)) + \" y un resto \" + str(int(n) % int(m)))\n"
   ]
  },
  {
   "cell_type": "code",
   "execution_count": 2,
   "metadata": {
    "tags": []
   },
   "outputs": [
    {
     "output_type": "stream",
     "name": "stdout",
     "text": "capital final: 732.05\n"
    }
   ],
   "source": [
    "#Escribir un programa que pregunte al usuario una cantidad a invertir, el interés porcentual anual y el número de años, y muestre por pantalla el capital obtenido en la inversión redondeado con dos decimales.\n",
    "\n",
    "a = float(input(\"Cantidad a invertir: \"))\n",
    "i = float(input(\"Interés anual: \"))\n",
    "y = int(input(\"Años: \"))\n",
    "print(\"capital final: \" + str(round(a * (i /100 +1) ** y, 2)))"
   ]
  },
  {
   "cell_type": "code",
   "execution_count": 4,
   "metadata": {
    "tags": []
   },
   "outputs": [
    {
     "output_type": "stream",
     "name": "stdout",
     "text": "peso total paquete: 1495\n"
    }
   ],
   "source": [
    "#Una juguetería tiene mucho éxito en dos de sus productos: payasos y muñecas. Suele hacer venta por correo y la empresa de logística les cobra por peso de cada paquete así que deben calcular el peso de los payasos y muñecas que saldrán en cada paquete a demanda. Cada payaso pesa 112 g y cada muñeca 75 g. Escribir un programa que lea el número de payasos y muñecas vendidos en el último pedido y calcule el peso total del paquete que será enviado\n",
    "\n",
    "\n",
    "n_payasos_vendidos = int(input(\"Payasos vendidos: \"))\n",
    "n_muñecas_vendidas = int(input(\"Muñecas vendidas: \"))\n",
    "peso_payasos = 112\n",
    "peso_muñecas = 75\n",
    "peso_total = n_payasos_vendidos * peso_payasos + n_muñecas_vendidas * peso_muñecas\n",
    "print(\"peso total paquete: \" + str(peso_total))\n"
   ]
  },
  {
   "cell_type": "code",
   "execution_count": 8,
   "metadata": {
    "tags": []
   },
   "outputs": [
    {
     "output_type": "stream",
     "name": "stdout",
     "text": "Total inversión despues de un año: 520.0\nTotal inversión despues de dos años: 540.8\nTotal inversión despues de tres años: 562.43\n"
    }
   ],
   "source": [
    "#Imagina que acabas de abrir una nueva cuenta de ahorros que te ofrece el 4% de interés al año. Estos ahorros debido a intereses, que no se cobran hasta finales de año, se te añaden al balance final de tu cuenta de ahorros. Escribir un programa que comience leyendo la cantidad de dinero depositada en la cuenta de ahorros, introducida por el usuario. Después el programa debe calcular y mostrar por pantalla la cantidad de ahorros tras el primer, segundo y tercer años. Redondear cada cantidad a dos decimales.\n",
    "\n",
    "a = float(input(\"cantidad de dinero invertida: \"))\n",
    "i = 0.04\n",
    "y = 3\n",
    "año1 = a * (i +1)\n",
    "print(\"Total inversión despues de un año: \" + str(round(año1, 2)))\n",
    "año2 = año1 * (i +1)\n",
    "print(\"Total inversión despues de dos años: \" + str(round(año2, 2)))\n",
    "año3 = año2 * (i +1)\n",
    "print(\"Total inversión despues de tres años: \" + str(round(año3, 2)))\n"
   ]
  },
  {
   "cell_type": "code",
   "execution_count": null,
   "metadata": {},
   "outputs": [],
   "source": [
    "a = float(input(\"cantidad de dinero invertida: \"))\n",
    "i = 0.04\n",
    "y = 3"
   ]
  }
 ],
 "metadata": {
  "language_info": {
   "codemirror_mode": {
    "name": "ipython",
    "version": 3
   },
   "file_extension": ".py",
   "mimetype": "text/x-python",
   "name": "python",
   "nbconvert_exporter": "python",
   "pygments_lexer": "ipython3",
   "version": "3.7.6-final"
  },
  "orig_nbformat": 2,
  "kernelspec": {
   "name": "python3",
   "display_name": "Python 3"
  }
 },
 "nbformat": 4,
 "nbformat_minor": 2
}