{
 "cells": [
  {
   "cell_type": "code",
   "execution_count": 2,
   "metadata": {
    "tags": []
   },
   "outputs": [
    {
     "output_type": "stream",
     "name": "stdout",
     "text": "Hola Python\n"
    }
   ],
   "source": [
    "a = \"Hola Python\"\n",
    "print(a)"
   ]
  },
  {
   "cell_type": "code",
   "execution_count": 3,
   "metadata": {
    "tags": []
   },
   "outputs": [
    {
     "output_type": "stream",
     "name": "stdout",
     "text": "Hola Filipa!\n"
    }
   ],
   "source": [
    "name = input(\"introduce un Nombre:\")\n",
    "print(\"Hola \" + name + \"!\")"
   ]
  },
  {
   "cell_type": "code",
   "execution_count": 4,
   "metadata": {
    "tags": []
   },
   "outputs": [
    {
     "output_type": "stream",
     "name": "stdout",
     "text": "Filipa\nFilipa\nFilipa\n\n"
    }
   ],
   "source": [
    "name = input(\"what's your name\")\n",
    "n =input(\"introduce un número entero: \")\n",
    "print((name + \"\\n\") * int(n))"
   ]
  },
  {
   "cell_type": "code",
   "execution_count": 5,
   "metadata": {
    "tags": []
   },
   "outputs": [
    {
     "output_type": "stream",
     "name": "stdout",
     "text": "Fernando tiene 8 letras\n"
    }
   ],
   "source": [
    "#Escribir un programa que pregunte el nombre del usuario en la consola y después de que el usuario lo introduzca muestre por pantalla <NOMBRE> tiene <n> letras, donde <NOMBRE> es el nombre de usuario en mayúsculas y <n> es el número de letras que tienen el nombre.\n",
    "\n",
    "n = input(\"Como te llamas\")\n",
    "x= len(n)\n",
    "print((n) + \" tiene \" + str(x) + \" letras\")"
   ]
  },
  {
   "cell_type": "code",
   "execution_count": 6,
   "metadata": {
    "tags": []
   },
   "outputs": [
    {
     "output_type": "stream",
     "name": "stdout",
     "text": "0.25\n"
    }
   ],
   "source": [
    "# Escribir un programa que realice la siguiente operación aritmética (3+22⋅5)2.\n",
    "\n",
    "print(((3+2)/(2*5))**2)"
   ]
  },
  {
   "cell_type": "code",
   "execution_count": 7,
   "metadata": {
    "tags": []
   },
   "outputs": [
    {
     "output_type": "stream",
     "name": "stdout",
     "text": "Tú salario es 160.0 euros por dia\n"
    }
   ],
   "source": [
    "# Escribe un programa que pregunte al usuario por el número de horas trabajadas y el coste por hora. Después debe mostrar por pantalla la paga que le corresponde.\n",
    "a = float(input(\"Número de horas trabajdas por dia: \"))\n",
    "b = float(input(\"precio por hora trabajada:\"))\n",
    "c = round(a * b, 3)\n",
    "print(\"Tú salario es \" + str(c) + \" euros por dia\")"
   ]
  },
  {
   "cell_type": "code",
   "execution_count": 10,
   "metadata": {
    "tags": []
   },
   "outputs": [
    {
     "output_type": "stream",
     "name": "stdout",
     "text": "Tu indice de masa corporal es 19.63\n"
    }
   ],
   "source": [
    "#Escribir un programa que pida al usuario su peso (en kg) y estatura (en metros), calcule el índice de masa corporal y lo almacene en una variable, y muestre por pantalla la frase Tu índice de masa corporal es <imc> donde <imc> es el índice de masa corporal calculado redondeado con dos decimales\n",
    "\n",
    "a = float(input(\"Introduce tu Peso (kg): \"))\n",
    "b = float(input(\"Introduce tu altura (m): \"))\n",
    "imc = round(float(a)/float(b)**2, 2) \n",
    "print(\"Tu indice de masa corporal es \" + str(imc))\n",
    "\n",
    "\n"
   ]
  },
  {
   "cell_type": "code",
   "execution_count": 15,
   "metadata": {
    "tags": []
   },
   "outputs": [
    {
     "output_type": "stream",
     "name": "stdout",
     "text": "15 entre 3 igual a 5 y un resto 0\n"
    }
   ],
   "source": [
    "#Escribir un programa que pida al usuario dos números enteros y muestre por pantalla la <n> entre <m> da un cociente <c> y un resto <r> donde <n> y <m> son los números introducidos por el usuario, y <c> y <r> son el cociente y el resto de la división entera respectivamente.\n",
    "\n",
    "n = input(\"dividendo: \")\n",
    "m = input(\"divisor: \")\n",
    "print( n + \" entre \" + m + \" igual a \" + str(int(n) // int(m)) + \" y un resto \" + str(int(n) % int(m)))\n"
   ]
  },
  {
   "cell_type": "code",
   "execution_count": null,
   "metadata": {},
   "outputs": [],
   "source": []
  }
 ],
 "metadata": {
  "language_info": {
   "codemirror_mode": {
    "name": "ipython",
    "version": 3
   },
   "file_extension": ".py",
   "mimetype": "text/x-python",
   "name": "python",
   "nbconvert_exporter": "python",
   "pygments_lexer": "ipython3",
   "version": "3.7.6-final"
  },
  "orig_nbformat": 2,
  "kernelspec": {
   "name": "python3",
   "display_name": "Python 3"
  }
 },
 "nbformat": 4,
 "nbformat_minor": 2
}