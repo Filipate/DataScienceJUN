{
 "cells": [
  {
   "cell_type": "code",
   "execution_count": 1,
   "metadata": {
    "tags": []
   },
   "outputs": [
    {
     "output_type": "stream",
     "name": "stdout",
     "text": "¡Hola mudon!\n"
    }
   ],
   "source": [
    "# Mostrar por pantalla la cadena \"¡Hola mundo!\"\n",
    "print(\"¡Hola mudon!\")\n"
   ]
  },
  {
   "cell_type": "code",
   "execution_count": 2,
   "metadata": {
    "tags": []
   },
   "outputs": [
    {
     "output_type": "stream",
     "name": "stdout",
     "text": "¡Hola mundo!\n"
    }
   ],
   "source": [
    "# Guardar la cadena \"¡Hola mundo!\" en la variable a\n",
    "a = \"¡Hola mundo!\"\n",
    "print(a) "
   ]
  },
  {
   "cell_type": "code",
   "execution_count": 14,
   "metadata": {
    "tags": []
   },
   "outputs": [
    {
     "output_type": "stream",
     "name": "stdout",
     "text": "Hola Filipa\n"
    }
   ],
   "source": [
    "# Preguntar el nombre del usuario y guardarlo en la variable nombre\n",
    "a = input(\"¿cual es tu nombre?: \")\n",
    "# Mostrar por pantalla el saludo con el nombre\n",
    "\n",
    "print(\"Hola\", a)"
   ]
  },
  {
   "cell_type": "code",
   "execution_count": 1,
   "metadata": {
    "tags": []
   },
   "outputs": [
    {
     "output_type": "stream",
     "name": "stdout",
     "text": "hello Filipa\n"
    }
   ],
   "source": [
    "a = input(\"what is your name?\")\n",
    "print(\"hello\", a)"
   ]
  },
  {
   "cell_type": "code",
   "execution_count": 13,
   "metadata": {
    "tags": []
   },
   "outputs": [
    {
     "output_type": "stream",
     "name": "stdout",
     "text": "Filipa\n3\nFilipa\nFilipa\nFilipa\n\n"
    }
   ],
   "source": [
    "# Escribir un programa que pregunte el nombre del usuario en la consola y un número entero e imprima por pantalla en líneas distintas el nombre del usuario tantas veces como el número introducido.\n",
    "name = input(\"what is your name?\")\n",
    "number = input(\"Enter an integer\")\n",
    "print(name)\n",
    "print(number)\n",
    "print((name +\"\\n\") * int(number))\n"
   ]
  },
  {
   "cell_type": "code",
   "execution_count": 32,
   "metadata": {
    "tags": []
   },
   "outputs": [
    {
     "output_type": "stream",
     "name": "stdout",
     "text": "FILIPA tiene 6 letras \n"
    }
   ],
   "source": [
    "#Escribir un programa que pregunte el nombre del usuario en la consola y después de que el usuario lo introduzca muestre por pantalla <NOMBRE> tiene <n> letras, donde <NOMBRE> es el nombre de usuario en mayúsculas y <n> es el número de letras que tienen el nombre.\n",
    "\n",
    "name = input(\"What is your name?\")\n",
    "\n",
    "print(name.upper() + \" tiene \" + str(len(name)) + \" letras \")\n",
    "\n",
    "\n"
   ]
  },
  {
   "cell_type": "code",
   "execution_count": null,
   "metadata": {},
   "outputs": [],
   "source": []
  }
 ],
 "metadata": {
  "language_info": {
   "codemirror_mode": {
    "name": "ipython",
    "version": 3
   },
   "file_extension": ".py",
   "mimetype": "text/x-python",
   "name": "python",
   "nbconvert_exporter": "python",
   "pygments_lexer": "ipython3",
   "version": "3.7.6-final"
  },
  "orig_nbformat": 2,
  "kernelspec": {
   "name": "python3",
   "display_name": "Python 3"
  }
 },
 "nbformat": 4,
 "nbformat_minor": 2
}