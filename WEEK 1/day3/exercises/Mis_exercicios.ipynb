{
 "cells": [
  {
   "cell_type": "code",
   "execution_count": 1,
   "metadata": {
    "tags": []
   },
   "outputs": [
    {
     "output_type": "stream",
     "name": "stdout",
     "text": "¡Hola mudon!\n"
    }
   ],
   "source": [
    "# Mostrar por pantalla la cadena \"¡Hola mundo!\"\n",
    "print(\"¡Hola mudon!\")\n"
   ]
  },
  {
   "cell_type": "code",
   "execution_count": 2,
   "metadata": {
    "tags": []
   },
   "outputs": [
    {
     "output_type": "stream",
     "name": "stdout",
     "text": "¡Hola mundo!\n"
    }
   ],
   "source": [
    "# Guardar la cadena \"¡Hola mundo!\" en la variable a\n",
    "a = \"¡Hola mundo!\"\n",
    "print(a) "
   ]
  },
  {
   "cell_type": "code",
   "execution_count": 14,
   "metadata": {
    "tags": []
   },
   "outputs": [
    {
     "output_type": "stream",
     "name": "stdout",
     "text": "Hola Filipa\n"
    }
   ],
   "source": [
    "# Preguntar el nombre del usuario y guardarlo en la variable nombre\n",
    "a = input(\"¿cual es tu nombre?: \")\n",
    "# Mostrar por pantalla el saludo con el nombre\n",
    "\n",
    "print(\"Hola\", a)"
   ]
  },
  {
   "cell_type": "code",
   "execution_count": 1,
   "metadata": {
    "tags": []
   },
   "outputs": [
    {
     "output_type": "stream",
     "name": "stdout",
     "text": "hello Filipa\n"
    }
   ],
   "source": [
    "a = input(\"what is your name?\")\n",
    "print(\"hello\", a)"
   ]
  },
  {
   "cell_type": "code",
   "execution_count": 13,
   "metadata": {
    "tags": []
   },
   "outputs": [
    {
     "output_type": "stream",
     "name": "stdout",
     "text": "Filipa\n3\nFilipa\nFilipa\nFilipa\n\n"
    }
   ],
   "source": [
    "# Escribir un programa que pregunte el nombre del usuario en la consola y un número entero e imprima por pantalla en líneas distintas el nombre del usuario tantas veces como el número introducido.\n",
    "name = input(\"what is your name?\")\n",
    "number = input(\"Enter an integer\")\n",
    "print(name)\n",
    "print(number)\n",
    "print((name +\"\\n\") * int(number))\n"
   ]
  },
  {
   "cell_type": "code",
   "execution_count": 32,
   "metadata": {
    "tags": []
   },
   "outputs": [
    {
     "output_type": "stream",
     "name": "stdout",
     "text": "FILIPA tiene 6 letras \n"
    }
   ],
   "source": [
    "#Escribir un programa que pregunte el nombre del usuario en la consola y después de que el usuario lo introduzca muestre por pantalla <NOMBRE> tiene <n> letras, donde <NOMBRE> es el nombre de usuario en mayúsculas y <n> es el número de letras que tienen el nombre.\n",
    "\n",
    "name = input(\"What is your name?\")\n",
    "\n",
    "print(name.upper() + \" tiene \" + str(len(name)) + \" letras \")\n",
    "\n",
    "\n"
   ]
  },
  {
   "cell_type": "code",
   "execution_count": 2,
   "metadata": {
    "tags": []
   },
   "outputs": [
    {
     "output_type": "stream",
     "name": "stdout",
     "text": "Genial\nGenial\nGenial\nGenial\nGenial\nGenial\nGenial\nGenial\nGenial\nGenial\n"
    }
   ],
   "source": [
    "#Escribir un programa que pida al usuario una palabra y la muestre 10 veces por pantalla.\n",
    "\n",
    "a = input(\"Introduce una palabra: \")\n",
    "for elem in range(10):\n",
    "    print(a)"
   ]
  },
  {
   "cell_type": "code",
   "execution_count": 4,
   "metadata": {
    "tags": []
   },
   "outputs": [
    {
     "output_type": "stream",
     "name": "stdout",
     "text": "has cumplido 1años\nhas cumplido 2años\nhas cumplido 3años\nhas cumplido 4años\nhas cumplido 5años\n"
    }
   ],
   "source": [
    "# Escribir un programa que pregunte al usuario su edad y muestre por pantalla todos los años que ha cumplido (desde 1 hasta su edad).\n",
    "a = int(input(\"cual es tu edad?\"))\n",
    "for elem in range(a):\n",
    "    print(\"has cumplido \" + str(elem+1) + \"años\")"
   ]
  },
  {
   "cell_type": "code",
   "execution_count": 5,
   "metadata": {
    "tags": []
   },
   "outputs": [
    {
     "output_type": "stream",
     "name": "stdout",
     "text": "1, 3, 5, 7,"
    }
   ],
   "source": [
    "#Escribir un programa que pida al usuario un número entero positivo y muestre por pantalla todos los números impares desde 1 hasta ese número separados por comas.\n",
    "a = int(input (\"Numero entero positivo: \"))\n",
    "for elem in range(1, a+1, 2):\n",
    "    print(elem, end=\", \")\n"
   ]
  },
  {
   "cell_type": "code",
   "execution_count": 8,
   "metadata": {
    "tags": []
   },
   "outputs": [
    {
     "output_type": "stream",
     "name": "stdout",
     "text": "13, 12, 11, 10, 9, 8, 7, 6, 5, 4, 3, 2, 1, 0,"
    }
   ],
   "source": [
    "#Escribir un programa que pida al usuario un número entero positivo y muestre por pantalla la cuenta atrás desde ese número hasta cero separados por comas.\n",
    "a = int(input(\"numero entero positivo: \"))\n",
    "for elem in range(a,-1, -1 ):\n",
    "    print(elem, end=\", \")"
   ]
  },
  {
   "cell_type": "code",
   "execution_count": 16,
   "metadata": {
    "tags": []
   },
   "outputs": [
    {
     "output_type": "stream",
     "name": "stdout",
     "text": "capital obtenido 1 años 1100.0\ncapital obtenido 2 años 1210.0\ncapital obtenido 3 años 1331.0\ncapital obtenido 4 años 1464.1\ncapital obtenido 5 años 1610.51\n"
    }
   ],
   "source": [
    "#Escribir un programa que pregunte al usuario una cantidad a invertir, el interés anual y el número de años, y muestre por pantalla el capital obtenido en la inversión cada año que dura la inversión.\n",
    "valor_a_invertir = float(input(\"cantidad a invertir? \"))\n",
    "interese_anual = float(input(\"interese porcentual anual?\"))\n",
    "years = int(input(\"en cuantos años\"))\n",
    "for elem in range(years):\n",
    "    valor_a_invertir *= 1 + interese_anual /100\n",
    "    print(\"capital obtenido \" + str(elem+1) + \" años \" + str(round(valor_a_invertir, 2)))"
   ]
  },
  {
   "cell_type": "code",
   "execution_count": 19,
   "metadata": {
    "tags": []
   },
   "outputs": [
    {
     "output_type": "stream",
     "name": "stdout",
     "text": "P\nPP\nPPP\nPPPP\nPPPPP\nPPPPPP\n"
    }
   ],
   "source": [
    "#Escribir un programa que pida al usuario un número entero y muestre por pantalla un triángulo rectángulo como el de más abajo, de altura el número introducido.\n",
    "\n",
    "n = int(input(\"numero entero: \"))\n",
    "for elem in range(n):\n",
    "    for elem_1 in range (elem+1):\n",
    "        print(\"P\", end=\"\")\n",
    "    print(\"\")\n"
   ]
  },
  {
   "cell_type": "code",
   "execution_count": 23,
   "metadata": {
    "tags": []
   },
   "outputs": [
    {
     "output_type": "stream",
     "name": "stdout",
     "text": "1\t2\t3\t4\t5\t6\t7\t8\t9\t10\t\n2\t4\t6\t8\t10\t12\t14\t16\t18\t20\t\n3\t6\t9\t12\t15\t18\t21\t24\t27\t30\t\n4\t8\t12\t16\t20\t24\t28\t32\t36\t40\t\n5\t10\t15\t20\t25\t30\t35\t40\t45\t50\t\n6\t12\t18\t24\t30\t36\t42\t48\t54\t60\t\n7\t14\t21\t28\t35\t42\t49\t56\t63\t70\t\n8\t16\t24\t32\t40\t48\t56\t64\t72\t80\t\n9\t18\t27\t36\t45\t54\t63\t72\t81\t90\t\n10\t20\t30\t40\t50\t60\t70\t80\t90\t100\t\n"
    }
   ],
   "source": [
    "#Escribir un programa que muestre por pantalla la tabla de multiplicar del 1 al 10.\n",
    "\n",
    "for elem in range(1, 11):\n",
    "    for elem1 in range(1, 11):\n",
    "        print (elem * elem1, end=\"\\t\")\n",
    "    print(\"\")\n"
   ]
  },
  {
   "cell_type": "code",
   "execution_count": null,
   "metadata": {},
   "outputs": [],
   "source": [
    "#Escribir un programa que pida al usuario un número entero y muestre por pantalla un triángulo rectángulo como el de más abajo.\n",
    "\n",
    "triangulo = int(input(\"escribe un numero entero\"))\n",
    "\n",
    "for elem in range(1, triangulo+1, 3):\n",
    "    for elem1 in range(elem, 0, -3):\n",
    "        print( elem1, end=\" \")\n",
    "    print(\"\")"
   ]
  },
  {
   "cell_type": "code",
   "execution_count": null,
   "metadata": {},
   "outputs": [],
   "source": [
    "# Crea una lista, llamada \"nombres\", con los nombres de los días de la semana\n",
    "nombres = [\"lunes\", \"martes\", \"miercoles\", \"jueves\", \"viernes\"]\n",
    "\n",
    "\n",
    "# Crea una lista de tuplas (orden, nombre del día), llamada \"dias_nombres\", para todos los días del año 2018\n",
    "\n",
    "# Las primeras tuplas serían [(1, \"lunes\"), (2, \"martes\"), ...]\n",
    "\n",
    "# Obtén mediante slicing las tuplas (orden, nombre del día) de los primeros 10 días de la lista 'dias_nombres\n",
    "\n",
    "# Obtén mediante slicing las tuplas (orden, nombre del día) de los últimos 10 días de la lista 'dias_nombres'\n",
    "\n",
    "# Obtén mediante slicing las tuplas (orden, nombre del día) de todos los domingos de la lista 'dias_nombres'\n",
    "\n",
    "# Ordena la lista 'dias_nombres' por el día de la semana\n",
    "\n",
    "# Obtén a partir de la lista anterior las tuplas correspondientes a los 10 últimos viernes# Ordena la lista 'dias_nombres' por el día de la semana\n",
    "\n",
    "# Obtén a partir de la lista anterior las tuplas correspondientes a los 10 últimos viernes\n",
    "\n",
    "# Cambia la lista 'dias_nombres' para que los nombres de los días 1 y 6 pasen a ser 'lunes-festivo' y 'sábado-festivo'\n",
    "\n"
   ]
  }
 ],
 "metadata": {
  "language_info": {
   "codemirror_mode": {
    "name": "ipython",
    "version": 3
   },
   "file_extension": ".py",
   "mimetype": "text/x-python",
   "name": "python",
   "nbconvert_exporter": "python",
   "pygments_lexer": "ipython3",
   "version": "3.7.6-final"
  },
  "orig_nbformat": 2,
  "kernelspec": {
   "name": "python3",
   "display_name": "Python 3"
  }
 },
 "nbformat": 4,
 "nbformat_minor": 2
}