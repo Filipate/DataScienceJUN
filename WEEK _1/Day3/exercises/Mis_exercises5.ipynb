{
 "cells": [
  {
   "cell_type": "code",
   "execution_count": 1,
   "metadata": {
    "tags": []
   },
   "outputs": [
    {
     "output_type": "stream",
     "name": "stdout",
     "text": "Hola amiga\n"
    }
   ],
   "source": [
    "#Escribir una función que muestre por pantalla el saludo ¡Hola amiga! cada vez que se la invoque.\n",
    "\n",
    "def saludo ():\n",
    "    print(\"Hola amiga\")\n",
    "    return\n",
    "saludo()\n"
   ]
  },
  {
   "cell_type": "code",
   "execution_count": 4,
   "metadata": {
    "tags": []
   },
   "outputs": [
    {
     "output_type": "stream",
     "name": "stdout",
     "text": "hola Filipa\nhola Fernando\n"
    }
   ],
   "source": [
    "#Escribir una función a la que se le pase una cadena <nombre> y muestre por pantalla el saludo ¡hola <nombre>!.\n",
    "\n",
    "def saludo(nombre):\n",
    "    print(\"hola \" + nombre)\n",
    "    return\n",
    "\n",
    "saludo(\"Filipa\")\n",
    "saludo(\"Fernando\")"
   ]
  },
  {
   "cell_type": "code",
   "execution_count": 7,
   "metadata": {
    "tags": []
   },
   "outputs": [
    {
     "output_type": "stream",
     "name": "stdout",
     "text": "1100.0\n1210.0\n"
    }
   ],
   "source": [
    "#Escribir una función que calcule el total de una factura tras aplicarle el IVA. La función debe recibir la cantidad sin IVA y el porcentaje de IVA a aplicar, y devolver el total de la factura. Si se invoca la función sin pasarle el porcentaje de IVA, deberá aplicar un 21%.\n",
    "\n",
    "def Factura(importe, vat=21):\n",
    "    return importe + importe*vat/100\n",
    "\n",
    "print(Factura(1000,10))\n",
    "print(Factura(1000))"
   ]
  },
  {
   "cell_type": "code",
   "execution_count": 3,
   "metadata": {
    "tags": []
   },
   "outputs": [
    {
     "output_type": "stream",
     "name": "stdout",
     "text": "2\n3628800\n"
    }
   ],
   "source": [
    "#Escribir una función que reciba un número entero positivo y devuelva su factorial.\n",
    "def factorial (n):\n",
    "    e = 1\n",
    "    for i in range(n):\n",
    "        e *= i+1 \n",
    "    return e\n",
    "\n",
    "print(factorial(2))\n",
    "print(factorial(10))\n"
   ]
  },
  {
   "cell_type": "code",
   "execution_count": 5,
   "metadata": {
    "tags": []
   },
   "outputs": [
    {
     "output_type": "stream",
     "name": "stdout",
     "text": "56.52\n"
    }
   ],
   "source": [
    "#Escribir una función que calcule el área de un círculo y otra que calcule el volumen de un cilindro usando la primera función.\n",
    "\n",
    "def area_circulo(radio):\n",
    "    pi=3.14\n",
    "    return 2*pi*radio**2\n",
    "\n",
    "print(area_circulo(3))"
   ]
  },
  {
   "cell_type": "code",
   "execution_count": 9,
   "metadata": {
    "tags": []
   },
   "outputs": [
    {
     "output_type": "stream",
     "name": "stdout",
     "text": "3.5\n"
    }
   ],
   "source": [
    "#Escribir una función que reciba una muestra de números en una lista y devuelva su media, varianza y desviación típica en un diccionario.\n",
    "\n",
    "def media(mostra):\n",
    "    return sum(mostra)/len(mostra)\n",
    "\n",
    "print(media([1,2,3,4,5,6]))"
   ]
  },
  {
   "cell_type": "code",
   "execution_count": 47,
   "metadata": {},
   "outputs": [],
   "source": [
    "libros = [\"El mal de Corcira\", \"Un mundo feliz\", \"Lolita\", \"Crimen y castigo\", \"Python from for to pro\",\\\n",
    "          \"El señor de los anillos\", \"Cien años de soledad\", \"Harry Potter\", \"Lectura Fácil\", \"Seda\",\\\n",
    "          \"La chica de nieve\", \"El día que se perdió la cordura\", \"Data Science\"]"
   ]
  },
  {
   "cell_type": "code",
   "execution_count": 2,
   "metadata": {},
   "outputs": [],
   "source": [
    "biblioteca = [(\"El mal de Corcira\",4),(\"Un mundo feliz\", 2),(\"Lolita\", 5),\\\n",
    "              (\"Crimen y castigo\",2),(\"Python from for to pro\", 0),(\"El señor de los anillos\", 6),\\\n",
    "              (\"Cien años de soledad\", 5),(\"Harry Potter\", 9),(\"Lectura Fácil\", 4),(\"Seda\", 2),\\\n",
    "              (\"La chica de nieve\", 6),(\"El día que se perdió la cordura\", 3), (\"Data Science\", 0)]"
   ]
  },
  {
   "cell_type": "code",
   "execution_count": 49,
   "metadata": {
    "tags": []
   },
   "outputs": [
    {
     "output_type": "stream",
     "name": "stdout",
     "text": "13\n"
    }
   ],
   "source": [
    "#¿Cuántos títulos diferentes tienen en esta biblioteca?\n",
    "\n",
    "a = len(libros)\n",
    "print(a)"
   ]
  },
  {
   "cell_type": "code",
   "execution_count": 50,
   "metadata": {},
   "outputs": [
    {
     "output_type": "execute_result",
     "data": {
      "text/plain": "4"
     },
     "metadata": {},
     "execution_count": 50
    }
   ],
   "source": [
    "# ¿Cuántas letras componen la palabra Seda?\n",
    "\n",
    "a = len(\"seda\")\n",
    "a"
   ]
  },
  {
   "cell_type": "code",
   "execution_count": 51,
   "metadata": {
    "tags": []
   },
   "outputs": [
    {
     "output_type": "stream",
     "name": "stdout",
     "text": "4\n"
    }
   ],
   "source": [
    "a = len(\"seda\")\n",
    "print(a)"
   ]
  },
  {
   "cell_type": "code",
   "execution_count": 52,
   "metadata": {
    "tags": []
   },
   "outputs": [
    {
     "output_type": "stream",
     "name": "stdout",
     "text": "4\n"
    }
   ],
   "source": [
    "print(len(biblioteca[9][0]))"
   ]
  },
  {
   "cell_type": "code",
   "execution_count": 27,
   "metadata": {
    "tags": []
   },
   "outputs": [
    {
     "output_type": "stream",
     "name": "stdout",
     "text": "('El mal de Corcira', 4)\n('Un mundo feliz', 2)\n('Lolita', 5)\n('Crimen y castigo', 2)\n('Python from for to pro', 0)\n('El señor de los anillos', 6)\n('Cien años de soledad', 5)\n('Harry Potter', 9)\n('Lectura Fácil', 4)\n('Seda', 2)\n('La chica de nieve', 6)\n('El día que se perdió la cordura', 3)\n('Data Science', 0)\n"
    }
   ],
   "source": [
    "for elem in biblioteca:\n",
    "    print(elem)"
   ]
  },
  {
   "cell_type": "code",
   "execution_count": 4,
   "metadata": {},
   "outputs": [],
   "source": [
    "for elem in biblioteca:\n",
    "    if elem[0] == \"seda\":\n",
    "        print(elem[1])"
   ]
  },
  {
   "cell_type": "code",
   "execution_count": 57,
   "metadata": {
    "tags": []
   },
   "outputs": [
    {
     "output_type": "stream",
     "name": "stdout",
     "text": "['El mal de Corcira', 'Un mundo feliz', 'Lolita', 'Crimen y castigo', 'Python from for to pro', 'El señor de los anillos', 'Cien años de soledad', 'Harry Potter', 'Lectura Fácil', 'Seda', 'La chica de nieve', 'El día que se perdió la cordura', 'Data Science', '1984']\n"
    }
   ],
   "source": [
    "#Quien registraba los libros antes de ti dejo pendiente de añadir a la lista libros la variable pendiente, además debió confundir el famoso libro de George Orwell 1984, con un número, asignándolo como un integer. ¿Puedes cambiarlo y pasar a string este elemento y añadirlo a libros?\n",
    "\n",
    "pendiente=str(1984)\n",
    "libros.append(pendiente)\n",
    "\n",
    "print(libros)\n",
    "\n"
   ]
  },
  {
   "cell_type": "code",
   "execution_count": 59,
   "metadata": {},
   "outputs": [],
   "source": [
    "#Te piden que añadas a esta lista el nuevo libro de Los Juegos del hambre que se titula Balada de pájaros cantores y serpientes. Has contado las unidades y han llegado 10.\n",
    "\n",
    "#a. Crea una variable con el título del libro, que se llame libro_1. Añade este elemento a la lista libros.\n",
    "\n",
    "#b. Crea una variable con el número de unidades, que se llame uds_1.\n",
    "\n",
    "#c. Crea una variable que sea una lista llamada nuevo_libro en el que su primer elemento sea libro_1 y el segundo uds_1.\n",
    "\n",
    "#d. Convierte a nuevo_libro a tupla. (muestra qué tipo es ahora esta variable)\n",
    "\n",
    "#e. Añade nuevo_libro a la lista bibliotecaTe piden que añadas a esta lista el nuevo libro de Los Juegos del hambre que se titula Balada de pájaros cantores y serpientes. Has contado las unidades y han llegado 10.\n",
    "\n",
    "\n",
    "\n",
    "\n",
    "\n"
   ]
  },
  {
   "cell_type": "code",
   "execution_count": 60,
   "metadata": {},
   "outputs": [],
   "source": [
    "libros_1=\"Balada de pájaros cantores y serpientes\"\n",
    "\n",
    "libros.append(libros_1)"
   ]
  },
  {
   "cell_type": "code",
   "execution_count": null,
   "metadata": {},
   "outputs": [],
   "source": []
  }
 ],
 "metadata": {
  "language_info": {
   "codemirror_mode": {
    "name": "ipython",
    "version": 3
   },
   "file_extension": ".py",
   "mimetype": "text/x-python",
   "name": "python",
   "nbconvert_exporter": "python",
   "pygments_lexer": "ipython3",
   "version": "3.7.6-final"
  },
  "orig_nbformat": 2,
  "kernelspec": {
   "name": "python3",
   "display_name": "Python 3"
  }
 },
 "nbformat": 4,
 "nbformat_minor": 2
}