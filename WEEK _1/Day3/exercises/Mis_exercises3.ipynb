{
 "cells": [
  {
   "cell_type": "code",
   "execution_count": 4,
   "metadata": {
    "tags": []
   },
   "outputs": [
    {
     "output_type": "stream",
     "name": "stdout",
     "text": "Eres menor de edad.\n"
    }
   ],
   "source": [
    "#Escribir un programa que pregunte al usuario su edad y muestre por pantalla si es mayor de edad o no.\n",
    "\n",
    "edad = int(input(\"Cuál es tu edad? \"))\n",
    "\n",
    "if edad < 18:\n",
    "    print(\"Eres menor de edad.\")\n",
    "else:\n",
    "    print(\"eres mayor de edad.\")\n",
    "\n",
    "\n"
   ]
  },
  {
   "cell_type": "code",
   "execution_count": 19,
   "metadata": {
    "tags": []
   },
   "outputs": [
    {
     "output_type": "stream",
     "name": "stdout",
     "text": "La contraseña coincide\n"
    }
   ],
   "source": [
    "#Escribir un programa que almacene la cadena de caracteres contraseña en una variable, pregunte al usuario por la contraseña e imprima por pantalla si la contraseña introducida por el usuario coincide con la guardada en la variable sin tener en cuenta mayúsculas y minúsculas\n",
    "\n",
    "contraseña = input(\"Introduce la contraseña:\")\n",
    "a= (\"contraseña\")\n",
    "\n",
    "if a == contraseña.lower():\n",
    "    print(\"La contraseña coincide\")\n",
    "else:\n",
    "    print(\"La contraseña no coincide\")"
   ]
  },
  {
   "cell_type": "code",
   "execution_count": 22,
   "metadata": {
    "tags": []
   },
   "outputs": [
    {
     "output_type": "stream",
     "name": "stdout",
     "text": "2.5\n"
    }
   ],
   "source": [
    "#Escribir un programa que pida al usuario dos números y devuelva su división. Si el usuario no introduce números debe devolver un aviso de error y si el divisor es cero también.\n",
    "\n",
    "a = float(input(\"dividendo\"))\n",
    "b = float(input(\"divisor\"))\n",
    "if b == 0:\n",
    "    print(\"Error!\")\n",
    "else:\n",
    "    print(a/b)\n",
    "\n",
    "\n"
   ]
  },
  {
   "cell_type": "code",
   "execution_count": 25,
   "metadata": {
    "tags": []
   },
   "outputs": [
    {
     "output_type": "stream",
     "name": "stdout",
     "text": "numero par\n"
    }
   ],
   "source": [
    "#Escribir un programa que pida al usuario un número entero y muestre por pantalla si es par o impar.\n",
    "\n",
    "a = float(input(\"numero entero\"))\n",
    "\n",
    "if a %2 == 0:\n",
    "    print(\"numero par\")\n",
    "if a %2 != 0:\n",
    "    print(\"numero impar\")\n"
   ]
  },
  {
   "cell_type": "code",
   "execution_count": 26,
   "metadata": {
    "tags": []
   },
   "outputs": [
    {
     "output_type": "stream",
     "name": "stdout",
     "text": "tienes que cotizar\n"
    }
   ],
   "source": [
    "#Para tributar un determinado impuesto se debe ser mayor de 16 años y tener unos ingresos superiores a 1000 € mensuales. Escribir un programa que pregunte al usuario su edad y sus ingresos mensuales y muestre por pantalla si el usuario tiene que tributar o no.\n",
    "\n",
    "a = int(input(\"edad? \"))\n",
    "b = float(input(\"cuales son tus ingresos mensuales? \"))\n",
    "if a > 16 and b >= 1000:\n",
    "    print(\"tienes que cotizar\")\n",
    "else:\n",
    "    print(\"no tienes que cotizar\")"
   ]
  },
  {
   "cell_type": "code",
   "execution_count": 29,
   "metadata": {
    "tags": []
   },
   "outputs": [
    {
     "output_type": "stream",
     "name": "stdout",
     "text": "pertenences al grupo: B\n"
    }
   ],
   "source": [
    "# Los alumnos de un curso se han dividido en dos grupos A y B de acuerdo al sexo y el nombre. El grupo A esta formado por las mujeres con un nombre anterior a la M y los hombres con un nombre posterior a la N y el grupo B por el resto. Escribir un programa que pregunte al usuario su nombre y sexo, y muestre por pantalla el grupo que le corresponde.\n",
    "\n",
    "nombre=input(\"Como te llamas? \")\n",
    "sexo=input(\"Cuál es tu sexo (M o H)? \")\n",
    "if sexo == \"M\":\n",
    "    if nombre.lower() < \"m\":\n",
    "            grupo =\"A\"\n",
    "    else:\n",
    "            grupo = \"B\"\n",
    "else:\n",
    "    if nombre.lower() > \"n\":\n",
    "            grupo =\"A\"\n",
    "    else:   \n",
    "            grupo =\"B\"\n",
    "print(\"pertenences al grupo: \" + grupo)\n"
   ]
  },
  {
   "cell_type": "code",
   "execution_count": 30,
   "metadata": {
    "tags": []
   },
   "outputs": [
    {
     "output_type": "stream",
     "name": "stdout",
     "text": "Tu tipo impositivo es 15%\n"
    }
   ],
   "source": [
    "#Escribir un programa que pregunte al usuario su renta anual y muestre por pantalla el tipo impositivo que le corresponde.\n",
    "\n",
    "renta_anual = float(input(\"Cuál es tu renta anual? \"))\n",
    "\n",
    "if renta_anual < 10000:\n",
    "    tax = 5\n",
    "elif renta_anual < 20000:\n",
    "    tax = 15\n",
    "elif renta_anual < 350000:\n",
    "    tax = 20\n",
    "elif renta_anual < 60000:\n",
    "    tax = 30\n",
    "else:\n",
    "    tax = 45\n",
    "print(\"Tu tipo impositivo es \" + str(tax) + \"%\")\n",
    "\n",
    "\n"
   ]
  },
  {
   "cell_type": "code",
   "execution_count": 37,
   "metadata": {},
   "outputs": [],
   "source": [
    "# Escribir un programa para una empresa que tiene salas de juegos para todas las edades y quiere calcular de forma automática el precio que debe cobrar a sus clientes por entrar. El programa debe preguntar al usuario la edad del cliente y mostrar el precio de la entrada. Si el cliente es menor de 4 años puede entrar gratis, si tiene entre 4 y 18 años debe pagar 5€ y si es mayor de 18 años, 10€.\n",
    "\n",
    "\n",
    "edad = int(input(\"Cuál es tu edad? \"))\n",
    "if edad < 4:\n",
    "    precio = 0\n",
    "elif edad <= 18:\n",
    "    precio = 4\n",
    "else:\n",
    "    precio = 10\n",
    "print:(\"El precio de la entrada es \",precio, \"€.\")"
   ]
  },
  {
   "cell_type": "code",
   "execution_count": 46,
   "metadata": {
    "tags": []
   },
   "outputs": [
    {
     "output_type": "stream",
     "name": "stdout",
     "text": "Bienvenido a nuestra pizzaria\ntipos de pizza\n\t1- Vegetariana\n\t2- No Vegetariana\n\nIngredientes no vegetarianos\n\t 1-Peperoni\n\t 2-Jamón\n\t 3-Salmón\n\nPeperoni\n"
    }
   ],
   "source": [
    "#Ingredientes vegetarianos: Pimiento y tofu. Ingredientes no vegetarianos: Peperoni, Jamón y Salmón. Escribir un programa que pregunte al usuario si quiere una pizza vegetariana o no, y en función de su respuesta le muestre un menú con los ingredientes disponibles para que elija. Solo se puede eligir un ingrediente además de la mozzarella y el tomate que están en todas la pizzas. Al final se debe mostrar por pantalla si la pizza elegida es vegetariana o no y todos los ingredientes que lleva.\n",
    "print(\"Bienvenido a nuestra pizzaria\")\n",
    "print(\"tipos de pizza\\n\\t1- Vegetariana\\n\\t2- No Vegetariana\\n\")\n",
    "\n",
    "tipo=input(\"introduce el número de pizza\")\n",
    "if tipo ==\"1\":\n",
    "    print(\"Ingredientes\\n\\t 1- pimiento\\n\\t 2- Tofu\\n\")\n",
    "    ingrediente=input(\"Introduce ingrediente:\")\n",
    "    if ingrediente == \"1\":\n",
    "        print(\"pimiento\")\n",
    "    else:\n",
    "        print(\"tofu\")\n",
    "else:\n",
    "    print(\"Ingredientes no vegetarianos\\n\\t 1-Peperoni\\n\\t 2-Jamón\\n\\t 3-Salmón\\n\")\n",
    "    ingrediente = input(\"Introduce ingrediente: \")\n",
    "    if ingrediente == \"1\":\n",
    "        print(\"Peperoni\")\n",
    "    elif ingrediente == \"2\":\n",
    "        print(\"Jamón\")\n",
    "    else:\n",
    "        print(\"salmón\")\n"
   ]
  },
  {
   "cell_type": "code",
   "execution_count": null,
   "metadata": {},
   "outputs": [],
   "source": []
  }
 ],
 "metadata": {
  "language_info": {
   "codemirror_mode": {
    "name": "ipython",
    "version": 3
   },
   "file_extension": ".py",
   "mimetype": "text/x-python",
   "name": "python",
   "nbconvert_exporter": "python",
   "pygments_lexer": "ipython3",
   "version": "3.7.6-final"
  },
  "orig_nbformat": 2,
  "kernelspec": {
   "name": "python3",
   "display_name": "Python 3"
  }
 },
 "nbformat": 4,
 "nbformat_minor": 2
}