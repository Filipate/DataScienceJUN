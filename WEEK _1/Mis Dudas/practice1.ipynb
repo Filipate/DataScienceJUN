{
 "metadata": {
  "language_info": {
   "codemirror_mode": {
    "name": "ipython",
    "version": 3
   },
   "file_extension": ".py",
   "mimetype": "text/x-python",
   "name": "python",
   "nbconvert_exporter": "python",
   "pygments_lexer": "ipython3",
   "version": "3.8.3-final"
  },
  "orig_nbformat": 2,
  "kernelspec": {
   "name": "python38364bitcbfd2998b9c747eaa6ef61b7425e754e",
   "display_name": "Python 3.8.3 64-bit"
  }
 },
 "nbformat": 4,
 "nbformat_minor": 2,
 "cells": [
  {
   "cell_type": "code",
   "execution_count": 1,
   "metadata": {
    "tags": []
   },
   "outputs": [
    {
     "output_type": "stream",
     "name": "stdout",
     "text": "La suma es 7\nLa resta es 3\nEl producto es 10\nEl cociente es 2\n"
    }
   ],
   "source": [
    "def sumar(a,b):\n",
    "    res = a + b\n",
    "    return res\n",
    "\n",
    "def restar(a,b):\n",
    "    res = a - b\n",
    "    return res\n",
    "\n",
    "def multiplicar(a,b):\n",
    "    res = a * b\n",
    "    return res\n",
    "\n",
    "def dividir(a,b):\n",
    "    res = a // b\n",
    "    return res\n",
    "\n",
    "#PROGRAMA PRINCIPAL\n",
    "numero1 = int(input(\"Escribe el primer número: \"))\n",
    "numero2 = int(input(\"Escribe el segundo número: \"))\n",
    "suma = sumar(numero1, numero2)\n",
    "resta = restar(numero1, numero2)\n",
    "producto = multiplicar(numero1, numero2)\n",
    "cociente = dividir(numero1, numero2)\n",
    "print(\"La suma es\", suma)\n",
    "print(\"La resta es\", resta)\n",
    "print(\"El producto es\", producto)\n",
    "print(\"El cociente es\", cociente)\n",
    "\n",
    "\n"
   ]
  },
  {
   "cell_type": "code",
   "execution_count": 4,
   "metadata": {
    "tags": []
   },
   "outputs": [
    {
     "output_type": "stream",
     "name": "stdout",
     "text": "La suma es 7\nLa resta es 3\nEl producto es 10\nEl cociente es 2\n"
    }
   ],
   "source": [
    "def sumar(a,b):\n",
    "    return a + b\n",
    "\n",
    "def restar(a,b):\n",
    "    return a - b\n",
    "\n",
    "def multiplicar(a,b):\n",
    "    return a * b\n",
    "\n",
    "def dividir(a,b):\n",
    "    return a//b\n",
    "\n",
    "#PROGRAMA PRINCIPAL\n",
    "numero1 = int(input(\"Escribe el primer número: \"))\n",
    "numero2 = int(input(\"Escribe el segundo número: \"))\n",
    "print(\"La suma es\", sumar(numero1, numero2))\n",
    "print(\"La resta es\", restar(numero1, numero2))\n",
    "print(\"El producto es\", multiplicar(numero1, numero2))\n",
    "print(\"El cociente es\", dividir(numero1, numero2))\n"
   ]
  },
  {
   "cell_type": "code",
   "execution_count": 7,
   "metadata": {
    "tags": []
   },
   "outputs": [
    {
     "output_type": "stream",
     "name": "stdout",
     "text": "El mayor es 9\n"
    }
   ],
   "source": [
    "# crear una funcion que recibe dos numeros y devuelve el mayor de ambos\n",
    "\n",
    "def devolver_mayor (a,b):\n",
    "    if a > b:\n",
    "        return a \n",
    "    else:\n",
    "        return b\n",
    "\n",
    "#PROGRAMA PRINCIPAL:\n",
    "num1 = int(input(\"dame un numero: \"))\n",
    "num2 = int(input(\"dame el otro numero: \"))\n",
    "\n",
    "\"\"\"\n",
    "mayor = devolver_mayor(num1, num2)\n",
    "print(\"El mayor es\", mayor)\n",
    "\"\"\"\n",
    "print(\"El mayor es\", devolver_mayor(num1, num2))"
   ]
  },
  {
   "cell_type": "code",
   "execution_count": 12,
   "metadata": {
    "tags": []
   },
   "outputs": [
    {
     "output_type": "stream",
     "name": "stdout",
     "text": "el mayor es: 5\n"
    }
   ],
   "source": [
    "#crear una funcion que recibe dos numeros y muestra el mayor o iguales.\n",
    "\n",
    "def mostrar_mayor (a, b):\n",
    "    if a > b:\n",
    "        print(\"el mayor es:\", a)\n",
    "    elif a < b:\n",
    "        print(\"el mayor es:\", b)\n",
    "    else:\n",
    "        print(\"son iguales\")\n",
    "\n",
    "#PROGRAMA PRINCIPAL\n",
    "number_1= int(input(\"introduce un numero: \"))\n",
    "number_2= int(input(\"introduce otro numero: \"))\n",
    "mostrar_mayor(number_1, number_2)"
   ]
  },
  {
   "cell_type": "code",
   "execution_count": 14,
   "metadata": {
    "tags": []
   },
   "outputs": [
    {
     "output_type": "stream",
     "name": "stdout",
     "text": "5 x 1 = 5\n5 x 2 = 10\n5 x 3 = 15\n5 x 4 = 20\n5 x 5 = 25\n5 x 6 = 30\n5 x 7 = 35\n5 x 8 = 40\n5 x 9 = 45\n5 x 10 = 50\n"
    }
   ],
   "source": [
    "#crear una función que recibe un numero y muestra su tabla de multiplicar.\n",
    "\n",
    "def mostrar_tabla_multiplicar (num):\n",
    "   for x in range(1,11):\n",
    "       print(num, \"x\", x, \"=\", num*x)\n",
    "\n",
    "#PROGRAMA PRINCIPAL\n",
    "numero= int(input(\"introduce un numero: \"))\n",
    "while numero < 1: #no me dan un positivo\n",
    "    numero= int(input(\"Error. Introduce otro numero: \"))\n",
    "\n",
    "mostrar_tabla_multiplicar(numero)"
   ]
  },
  {
   "cell_type": "code",
   "execution_count": 15,
   "metadata": {
    "tags": []
   },
   "outputs": [
    {
     "output_type": "stream",
     "name": "stdout",
     "text": "La suma es 15\n"
    }
   ],
   "source": [
    "#función: pedir 5 numeros y devolver su suma.\n",
    "\n",
    "def calcular_suma_numeros():\n",
    "    sumador = 0\n",
    "    for x in range(5):\n",
    "        numero = int(input(\"escribe numero: \"))\n",
    "        sumador = sumador + numero #acumulo en la variable sumador\n",
    "    return sumador\n",
    "\n",
    "print(\"La suma es\", calcular_suma_numeros())\n",
    "    \n"
   ]
  },
  {
   "cell_type": "code",
   "execution_count": 19,
   "metadata": {
    "tags": []
   },
   "outputs": [
    {
     "output_type": "stream",
     "name": "stdout",
     "text": "la suma de los pares es 6\nla suma de los impares es 9\n"
    }
   ],
   "source": [
    "#Pedir 5 números y sumar los pares por un lado y los impares por otro\n",
    "sumar_pares = 0\n",
    "sumar_impares = 0\n",
    "for x in range(5):\n",
    "    num = int(input(\"dame un numero: \"))\n",
    "    if num % 2 == 0: #si el número que acabas de leer es par \n",
    "        sumar_pares = sumar_pares + num\n",
    "    else: #si el número que acabas de leer es impar\n",
    "        sumar_impares = sumar_impares + num\n",
    "\n",
    "print(\"la suma de los pares es\", sumar_pares)\n",
    "print(\"la suma de los impares es\", sumar_impares)"
   ]
  },
  {
   "cell_type": "code",
   "execution_count": 24,
   "metadata": {
    "tags": []
   },
   "outputs": [
    {
     "output_type": "stream",
     "name": "stdout",
     "text": "la suma de los pares es 6\nla suma de los impares es 9\n"
    }
   ],
   "source": [
    "def sumar_pares_impares():\n",
    "    suma_pares = 0\n",
    "    suma_impares = 0\n",
    "    for x in range(5):\n",
    "        num = int(input(\"dame un numero: \"))\n",
    "        if num % 2 == 0: #si el número que acabas de leer es par \n",
    "            suma_pares = suma_pares + num\n",
    "        else: #si el número que acabas de leer es impar\n",
    "            suma_impares = suma_impares + num\n",
    "    return suma_pares, suma_impares\n",
    "\n",
    "#PROGRAMA PRINCIPAL\n",
    "sumador_pares, sumador_impares = sumar_pares_impares()\n",
    "print(\"la suma de los pares es\", sumador_pares)\n",
    "print(\"la suma de los impares es\", sumador_impares)"
   ]
  },
  {
   "cell_type": "code",
   "execution_count": 27,
   "metadata": {
    "tags": []
   },
   "outputs": [
    {
     "output_type": "stream",
     "name": "stdout",
     "text": "(2, 3)\nLos pares son 2\nlos impares son 3\n"
    }
   ],
   "source": [
    "def contar_pares_impares():\n",
    "    contador_pares =0\n",
    "    contador_impares=0\n",
    "    for i in range(2,7): # [2,3,4,5,6] \n",
    "        num = int(input(\"escribe un numero:\"))\n",
    "        if num % 2==0:\n",
    "            contador_pares = contador_pares + 1\n",
    "        else:\n",
    "            contador_impares = contador_impares + 1\n",
    "    return contador_pares, contador_impares\n",
    "\n",
    "contadores = contar_pares_impares() #lo almacena en formato tupla\n",
    "print(contadores)\n",
    "print(\"Los pares son\", contadores[0])\n",
    "print(\"los impares son\", contadores[1])"
   ]
  },
  {
   "cell_type": "code",
   "execution_count": 29,
   "metadata": {
    "tags": []
   },
   "outputs": [
    {
     "output_type": "stream",
     "name": "stdout",
     "text": "(1, 3, 2)\nLos pares son 1\nlos impares son 3\nLos nulos son 2\n"
    }
   ],
   "source": [
    "def contar_pares_impares():\n",
    "    contador_pares =0\n",
    "    contador_impares=0\n",
    "    contador_nulos = 0\n",
    "    for i in range(6): # [0,1,2,3,4,5] 6 elementos --> 6 repeticiones \n",
    "        num = int(input(\"escribe un numero:\"))\n",
    "        if num == 0:\n",
    "             contador_nulos = contador_nulos + 1\n",
    "        elif num % 2 == 0:\n",
    "            contador_pares = contador_pares + 1\n",
    "        else:\n",
    "            contador_impares = contador_impares + 1\n",
    "    return contador_pares, contador_impares, contador_nulos\n",
    "\n",
    "contadores = contar_pares_impares() #lo almacena en formato tupla\n",
    "print(contadores)\n",
    "print(\"Los pares son\", contadores[0])\n",
    "print(\"los impares son\", contadores[1])\n",
    "print(\"Los nulos son\", contadores[2])"
   ]
  },
  {
   "cell_type": "code",
   "execution_count": null,
   "metadata": {},
   "outputs": [],
   "source": []
  }
 ]
}