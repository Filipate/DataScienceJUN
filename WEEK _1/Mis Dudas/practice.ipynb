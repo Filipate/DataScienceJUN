{
 "cells": [
  {
   "cell_type": "code",
   "execution_count": 3,
   "metadata": {
    "tags": []
   },
   "outputs": [
    {
     "output_type": "stream",
     "name": "stdout",
     "text": "1 2 3 4 5 6 7 8 9 10 11 12 13 14 15 16 17 18 19 20 21 22 23 24 25 26 27 28 29 30 31 32 33 34 35 36 37 38 39 40 41 42 43 44 45 46 47 48 49 50 51 52 53 54 55 56 57 58 59 60 61 62 63 64 65 66 67 68 69 70 71 72 73 74 75 76 77 78 79 80 81 82 83 84 85 86 87 88 89 90 91 92 93 94 95 96 97 98 99 100"
    }
   ],
   "source": [
    "#Programa que muestra por pantalla los números entre el 1 y el 100.\n",
    "\n",
    "for i in range(1,101):\n",
    "    print(i, end = \" \")"
   ]
  },
  {
   "cell_type": "code",
   "execution_count": 4,
   "metadata": {
    "tags": []
   },
   "outputs": [
    {
     "output_type": "stream",
     "name": "stdout",
     "text": "2 4 6 8 10 12 14 16 18 20 22 24 26 28 30 32 34 36 38 40 42 44 46 48 50 52 54 56 58 60 62 64 66 68 70 72 74 76 78 80 82 84 86 88 90 92 94 96 98 100 102 104 106 108 110 112 114 116 118 120 122 124 126 128 130 132 134 136 138 140 142 144 146 148 150 152 154 156 158 160 162 164 166 168 170 172 174 176 178 180 182 184 186 188 190 192 194 196 198 200"
    }
   ],
   "source": [
    "#Programa que muestra por pantalla los pares entre 1 y 200.\n",
    "for i in range(1, 201):\n",
    "    if i %2==0:\n",
    "        print(i, end = \" \")"
   ]
  },
  {
   "cell_type": "code",
   "execution_count": 5,
   "metadata": {
    "tags": []
   },
   "outputs": [
    {
     "output_type": "stream",
     "name": "stdout",
     "text": "1 3 5 7 9 11 13 15 17 19 21 23 25 27 29 31 33 35 37 39 41 43 45 47 49 51 53 55 57 59 61 63 65 67 69 71 73 75 77 79 81 83 85 87 89 91 93 95 97 99"
    }
   ],
   "source": [
    "#Programa que muestra por pantalla los 100 primeros números impares.\n",
    "for i in range(1, 101):\n",
    "    if i %2 != 0: #==1\n",
    "        print(i, end = \" \")"
   ]
  },
  {
   "cell_type": "code",
   "execution_count": 6,
   "metadata": {
    "tags": []
   },
   "outputs": [
    {
     "output_type": "stream",
     "name": "stdout",
     "text": "1 al cuadrado es 1\n2 al cuadrado es 4\n3 al cuadrado es 9\n4 al cuadrado es 16\n5 al cuadrado es 25\n6 al cuadrado es 36\n7 al cuadrado es 49\n8 al cuadrado es 64\n9 al cuadrado es 81\n10 al cuadrado es 100\n11 al cuadrado es 121\n12 al cuadrado es 144\n13 al cuadrado es 169\n14 al cuadrado es 196\n15 al cuadrado es 225\n16 al cuadrado es 256\n17 al cuadrado es 289\n18 al cuadrado es 324\n19 al cuadrado es 361\n20 al cuadrado es 400\n"
    }
   ],
   "source": [
    "# cuadrado de los 20 primeros números\n",
    "for i in range(1, 21):\n",
    "    print(i,\"al cuadrado es\", i**2)"
   ]
  },
  {
   "cell_type": "code",
   "execution_count": 12,
   "metadata": {
    "tags": []
   },
   "outputs": [
    {
     "output_type": "stream",
     "name": "stdout",
     "text": "La suma es:  14\n"
    }
   ],
   "source": [
    "# 6.Programa que lee 5 números desde teclado y calcula la suma de todos ellos.\n",
    "\n",
    "\"\"\"\n",
    "acum= 0\n",
    "x=int(input(\"introduce un numero: \")\n",
    "acum = acum + x\n",
    "x=int(input(\"introduce un numero: \")\n",
    "acum = acum + x\n",
    "x=int(input(\"introduce un numero: \")\n",
    "acum = acum + x\n",
    "x=int(input(\"introduce un numero: \")\n",
    "acum = acum + x\n",
    "x=int(input(\"introduce un numero: \")\n",
    "acum = acum + x\n",
    "\"\"\"\n",
    "acum = 0\n",
    "for repeticion in range(5):\n",
    "    x = int(input(\"introduce un numero: \"))\n",
    "    acum = acum + x\n",
    "print(\"La suma es: \", acum)"
   ]
  },
  {
   "cell_type": "code",
   "execution_count": 15,
   "metadata": {
    "tags": []
   },
   "outputs": [
    {
     "output_type": "stream",
     "name": "stdout",
     "text": "suma numeros pares  6\nsuma numeros impares  4\n"
    }
   ],
   "source": [
    "# pedir 8 numeros al usuario y calcular la suma del pares y de los impares\n",
    "\n",
    "acum_pares = 0\n",
    "acum_impares = 0\n",
    "\n",
    "for i in range (4):\n",
    "    x = int(input(\"introduce un numero: \"))\n",
    "    if x % 2 ==0:\n",
    "        acum_pares = acum_pares + x\n",
    "    else:\n",
    "        acum_impares = acum_impares + x\n",
    "\n",
    "print(\"suma numeros pares \" , acum_pares)\n",
    "print(\"suma numeros impares \", acum_impares)"
   ]
  },
  {
   "cell_type": "code",
   "execution_count": 18,
   "metadata": {
    "tags": []
   },
   "outputs": [
    {
     "output_type": "stream",
     "name": "stdout",
     "text": "has introducido 2 numeros pares\n"
    }
   ],
   "source": [
    "# pedir 5 numeros al usuario y contar cuantos son pares\n",
    "\n",
    "contador_pares=0\n",
    "\n",
    "for i in range(5):\n",
    "    num= int(input(\"introduce un numero: \"))\n",
    "    if num % 2 == 0:\n",
    "        contador_pares = contador_pares +1 \n",
    "print( \"has introducido\", contador_pares,\"numeros pares\")\n",
    "\n"
   ]
  },
  {
   "cell_type": "code",
   "execution_count": 21,
   "metadata": {
    "tags": []
   },
   "outputs": [
    {
     "output_type": "stream",
     "name": "stdout",
     "text": "has introducido 1 ceros\nhas introducido 0 negativos\nhas introducido 4 positivos\n"
    }
   ],
   "source": [
    "# pedir 5 numeros al usuario y contar cuantos son positivos, negativos y zeros.\n",
    "\n",
    "cont_ceros =0\n",
    "cont_positivos =0\n",
    "cont_negativos =0\n",
    "\n",
    "for i in range(5):\n",
    "    numero = int(input(\"dame un numero: \"))\n",
    "    if numero > 0:\n",
    "        cont_positivos = cont_positivos + 1\n",
    "    elif numero < 0:\n",
    "        cont_negativos = cont_negativos + 1\n",
    "    else:\n",
    "        cont_ceros = cont_ceros + 1\n",
    "print(\"has introducido\", cont_ceros, \"ceros\")\n",
    "print(\"has introducido\", cont_negativos, \"negativos\")\n",
    "print(\"has introducido\", cont_positivos, \"positivos\")"
   ]
  },
  {
   "cell_type": "code",
   "execution_count": 23,
   "metadata": {
    "tags": []
   },
   "outputs": [
    {
     "output_type": "stream",
     "name": "stdout",
     "text": "la media es:  2.0\n"
    }
   ],
   "source": [
    "# pedir 5 numeros reales y calcular la media.\n",
    "\n",
    "sumador= 0.0\n",
    "\n",
    "for i in range(5):\n",
    "    number = float(input(\"dame un numero: \"))\n",
    "    sumador = sumador + number\n",
    "media = sumador / 5\n",
    "print(\"la media es: \", media)\n",
    "\n"
   ]
  },
  {
   "cell_type": "code",
   "execution_count": 25,
   "metadata": {
    "tags": []
   },
   "outputs": [
    {
     "output_type": "stream",
     "name": "stdout",
     "text": "Hay 3 alumnos mayores de 18\nLa edad media es:  31.8\n"
    }
   ],
   "source": [
    "# 8. Dadas las edades de 5 alumnos, contar cuantos son mayores de 18 años y calcular la edad media\n",
    "\n",
    "contador_mayores_18 = 0\n",
    "acum_edades =0\n",
    "\n",
    "for e in range(5):\n",
    "    edad = int(input(\"introduce tu edad: \"))\n",
    "    if edad >18:\n",
    "        contador_mayores_18 = contador_mayores_18 + 1\n",
    "    acum_edades = acum_edades + edad\n",
    "\n",
    "\n",
    "print(\"Hay\", contador_mayores_18,\"alumnos mayores de 18\")\n",
    "\n",
    "media = acum_edades / 5\n",
    "\n",
    "print(\"La edad media es: \", media)"
   ]
  },
  {
   "cell_type": "code",
   "execution_count": 28,
   "metadata": {
    "tags": []
   },
   "outputs": [
    {
     "output_type": "stream",
     "name": "stdout",
     "text": "6 x 1 = 6\n6 x 2 = 12\n6 x 3 = 18\n6 x 4 = 24\n6 x 5 = 30\n6 x 6 = 36\n6 x 7 = 42\n6 x 8 = 48\n6 x 9 = 54\n6 x 10 = 60\n"
    }
   ],
   "source": [
    "numero = int(input(\"inserta un numero: \"))\n",
    "\n",
    "for i in range(1, 11):\n",
    "    producto = numero * i\n",
    "    print(numero,\"x\",i,\"=\",producto)"
   ]
  },
  {
   "cell_type": "code",
   "execution_count": 32,
   "metadata": {
    "tags": []
   },
   "outputs": [
    {
     "output_type": "stream",
     "name": "stdout",
     "text": "1 2 3 4 5 6 7 8 9 10 11 12 13 14 15 16 17 18 19"
    }
   ],
   "source": [
    "numero = int(input(\"escribe un numero: \"))\n",
    "for i in range(1, numero+1):\n",
    "    print(i, end = \" \")"
   ]
  },
  {
   "cell_type": "code",
   "execution_count": 11,
   "metadata": {},
   "outputs": [],
   "source": [
    "#9. Programa que lee 10 números y cuenta cuantos han sido pares, cuantos impares y cuantos nulos."
   ]
  },
  {
   "cell_type": "code",
   "execution_count": 1,
   "metadata": {
    "tags": []
   },
   "outputs": [
    {
     "output_type": "stream",
     "name": "stdout",
     "text": "la suma es  7\n"
    }
   ],
   "source": [
    "#while - pedir numeros hasta que el usuario introduzca un negativo o un cero y calcular la suma de todos.\n",
    "\n",
    "suma = 0\n",
    "numero = int(input(\"Introduce un numero: \"))\n",
    "\n",
    "while numero >0:\n",
    "    suma = suma + numero \n",
    "    # se el numero entra una vez y yo no pido otro se me queda un bucle infinito (porque el input está del while, así que ya no me vuelve a pedir otro numero - así que hay que volver a pedir el numero).\n",
    "    numero = int(input(\"Introduce un numero: \"))\n",
    "print(\"la suma es \", suma)"
   ]
  },
  {
   "cell_type": "code",
   "execution_count": 3,
   "metadata": {
    "tags": []
   },
   "outputs": [
    {
     "output_type": "stream",
     "name": "stdout",
     "text": "has escrito  3 numeros positivos y  2 numeros negativos\n"
    }
   ],
   "source": [
    "# pedir numeros hasta que el usuario introduzca un cero y contar los positivos y los negativos.\n",
    "\n",
    "cont_positivos=0\n",
    "cont_negativos=0\n",
    "numero = int(input(\"Introduce un numero: \"))\n",
    "\n",
    "while numero != 0:\n",
    "    if numero >0:\n",
    "        cont_positivos = cont_positivos + 1 #cont_positivos += 1\n",
    "    else:\n",
    "        cont_negativos = cont_negativos + 1\n",
    "    numero = int(input(\"Introduce otro numero: \"))\n",
    "\n",
    "print(\"has escrito \", cont_positivos, \"numeros positivos y \", cont_negativos, \"numeros negativos\")"
   ]
  },
  {
   "cell_type": "code",
   "execution_count": 4,
   "metadata": {
    "tags": []
   },
   "outputs": [
    {
     "output_type": "stream",
     "name": "stdout",
     "text": "HAS ACERTADO\n"
    }
   ],
   "source": [
    "# juego adivina un numero\n",
    "NUMERO_ADIVINAR = 6\n",
    "\n",
    "num =int(input(\"Dame un numero: \"))\n",
    "while num != NUMERO_ADIVINAR:\n",
    "    num = int(input(\"Has fallado. Dame otro número: \"))\n",
    "print(\"HAS ACERTADO\")     "
   ]
  },
  {
   "cell_type": "code",
   "execution_count": 5,
   "metadata": {
    "tags": []
   },
   "outputs": [
    {
     "output_type": "stream",
     "name": "stdout",
     "text": "te has quedado corto\nte has pasado\nHAS ACERTADO\n"
    }
   ],
   "source": [
    "# juego adivina un numero con pista\n",
    "NUMERO_ADIVINAR = 6\n",
    "\n",
    "num =int(input(\"Dame un numero: \"))\n",
    "while num != NUMERO_ADIVINAR:\n",
    "    if num > NUMERO_ADIVINAR:\n",
    "        print(\"te has pasado\")\n",
    "    else:\n",
    "        print(\"te has quedado corto\")\n",
    "    num = int(input(\"Has fallado. Dame otro número: \"))\n",
    "print(\"HAS ACERTADO\")"
   ]
  },
  {
   "cell_type": "code",
   "execution_count": 8,
   "metadata": {
    "tags": []
   },
   "outputs": [
    {
     "output_type": "stream",
     "name": "stdout",
     "text": "5 x 1  =  5\n5 x 2  =  10\n5 x 3  =  15\n5 x 4  =  20\n5 x 5  =  25\n5 x 6  =  30\n5 x 7  =  35\n5 x 8  =  40\n5 x 9  =  45\n5 x 10  =  50\n"
    }
   ],
   "source": [
    "# pide un numero, mientras no está entre uno y diez lo sigo pediendo.\n",
    "\n",
    "numero = int(input(\"Introduce un numero: \"))\n",
    "while numero <1 or numero >10: #mientras no esté en 1 y 10\n",
    "    numero = int(input(\"Error!! Introduce otro numero: \"))\n",
    "#ya rengo un valor entre 1 y 10\n",
    "for i in range(1,11):\n",
    "    res = i * numero\n",
    "    print(numero, \"x\", i, \" = \", res)\n"
   ]
  },
  {
   "cell_type": "code",
   "execution_count": 12,
   "metadata": {
    "tags": []
   },
   "outputs": [
    {
     "output_type": "stream",
     "name": "stdout",
     "text": "La suma es:  7\n"
    }
   ],
   "source": [
    "#crear una lista y sumar sus elemento. Mostrar suma por pantalla.\n",
    "\n",
    "lista = [ 3, 7, 9, 8 ,10]\n",
    "sum=0\n",
    "for elem in lista:\n",
    "    sum= sum + elem\n",
    "print(\"La suma es: \", suma)   \n"
   ]
  },
  {
   "cell_type": "code",
   "execution_count": 14,
   "metadata": {
    "tags": []
   },
   "outputs": [
    {
     "output_type": "stream",
     "name": "stdout",
     "text": "[3, 7, 9, 8, 10]\nhay  2 pares y 3 impares\n"
    }
   ],
   "source": [
    "# contar pares y impares en una lista\n",
    "\n",
    "lista = [ 3, 7, 9, 8 ,10]\n",
    "cont_pares = 0\n",
    "cont_impares = 0\n",
    "print(lista)\n",
    "for elem in lista:\n",
    "    if elem %2==0:\n",
    "        cont_pares = cont_pares +1\n",
    "    else:\n",
    "        cont_impares = cont_impares +1\n",
    "print(\"hay \", cont_pares, \"pares y\", cont_impares, \"impares\" )\n"
   ]
  },
  {
   "cell_type": "code",
   "execution_count": 24,
   "metadata": {
    "tags": []
   },
   "outputs": [
    {
     "output_type": "stream",
     "name": "stdout",
     "text": "[3, 7, -9, 8, 10, -7, 13, -4]\n[3, 7, -9, 8, 10, -7, 13, -4]\n3\n[3, 7, -9]\n[-7, 13, -4]\n[-7, 13, -4]\n"
    }
   ],
   "source": [
    "lista = [ 3, 7, -9, 8 ,10, -7, 13, -4]\n",
    "\n",
    "print(lista)\n",
    "print(lista[:])\n",
    "print(lista[0])\n",
    "print(lista[:3])\n",
    "print(lista[-3:])\n",
    "print(lista[len(lista)-3:])"
   ]
  },
  {
   "cell_type": "code",
   "execution_count": null,
   "metadata": {},
   "outputs": [],
   "source": []
  }
 ],
 "metadata": {
  "language_info": {
   "codemirror_mode": {
    "name": "ipython",
    "version": 3
   },
   "file_extension": ".py",
   "mimetype": "text/x-python",
   "name": "python",
   "nbconvert_exporter": "python",
   "pygments_lexer": "ipython3",
   "version": "3.8.3-final"
  },
  "orig_nbformat": 2,
  "kernelspec": {
   "name": "python38364bitcbfd2998b9c747eaa6ef61b7425e754e",
   "display_name": "Python 3.8.3 64-bit"
  }
 },
 "nbformat": 4,
 "nbformat_minor": 2
}