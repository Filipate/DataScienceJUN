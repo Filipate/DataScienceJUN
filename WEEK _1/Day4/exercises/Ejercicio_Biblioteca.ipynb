{
 "cells": [
  {
   "cell_type": "markdown",
   "metadata": {},
   "source": [
    "# Ejercicio La Biblioteca | Precurso DSJUN20 | The Bridge"
   ]
  },
  {
   "cell_type": "markdown",
   "metadata": {},
   "source": [
    "![biblioteca](https://static2.abc.es/media/familia/2018/11/02/AdobeStock_210538561-kJTF--620x349@abc.jpg)"
   ]
  },
  {
   "cell_type": "markdown",
   "metadata": {},
   "source": [
    "Es tu primer día de trabajo en la Biblioteca de tu barrio y ya tienes tu primera tarea. Te acaban de pasar una lista con libros y la lista de unidades disponibles."
   ]
  },
  {
   "cell_type": "code",
   "execution_count": 1,
   "metadata": {},
   "outputs": [],
   "source": [
    "libros = [\"El mal de Corcira\", \"Un mundo feliz\", \"Lolita\", \"Crimen y castigo\", \"Python from for to pro\",\\\n",
    "          \"El señor de los anillos\", \"Cien años de soledad\", \"Harry Potter\", \"Lectura Fácil\", \"Seda\",\\\n",
    "          \"La chica de nieve\", \"El día que se perdió la cordura\", \"Data Science\"]"
   ]
  },
  {
   "cell_type": "code",
   "execution_count": 2,
   "metadata": {},
   "outputs": [],
   "source": [
    "biblioteca = [(\"El mal de Corcira\",4),(\"Un mundo feliz\", 2),(\"Lolita\", 5),\\\n",
    "              (\"Crimen y castigo\",2),(\"Python from for to pro\", 0),(\"El señor de los anillos\", 6),\\\n",
    "              (\"Cien años de soledad\", 5),(\"Harry Potter\", 9),(\"Lectura Fácil\", 4),(\"Seda\", 2),\\\n",
    "              (\"La chica de nieve\", 6),(\"El día que se perdió la cordura\", 3), (\"Data Science\", 0)]"
   ]
  },
  {
   "cell_type": "markdown",
   "metadata": {},
   "source": [
    "1. ¿Cuántos títulos diferentes tienen en esta biblioteca?"
   ]
  },
  {
   "cell_type": "code",
   "execution_count": 3,
   "metadata": {
    "tags": []
   },
   "outputs": [
    {
     "output_type": "stream",
     "name": "stdout",
     "text": "13\n"
    }
   ],
   "source": [
    "#your code here creo una variable a para convertir la lista en un set puesto que el set no repite elementos. luego imprimo la variable con len para que me de el numero.\n",
    "a=set(libros)\n",
    "\n",
    "print(len(a))\n"
   ]
  },
  {
   "cell_type": "code",
   "execution_count": 4,
   "metadata": {
    "tags": []
   },
   "outputs": [
    {
     "output_type": "stream",
     "name": "stdout",
     "text": "4\n"
    }
   ],
   "source": [
    "#your code here\n",
    "x = len(\"Seda\")\n",
    "print(x)"
   ]
  },
  {
   "cell_type": "code",
   "execution_count": 5,
   "metadata": {
    "tags": []
   },
   "outputs": [
    {
     "output_type": "stream",
     "name": "stdout",
     "text": "4\n"
    }
   ],
   "source": [
    "print(len(biblioteca[9][0]))"
   ]
  },
  {
   "cell_type": "code",
   "execution_count": 6,
   "metadata": {
    "tags": []
   },
   "outputs": [
    {
     "output_type": "stream",
     "name": "stdout",
     "text": "('El mal de Corcira', 4)\n('Un mundo feliz', 2)\n('Lolita', 5)\n('Crimen y castigo', 2)\n('Python from for to pro', 0)\n('El señor de los anillos', 6)\n('Cien años de soledad', 5)\n('Harry Potter', 9)\n('Lectura Fácil', 4)\n('Seda', 2)\n('La chica de nieve', 6)\n('El día que se perdió la cordura', 3)\n('Data Science', 0)\n"
    }
   ],
   "source": [
    "for _ in biblioteca:\n",
    "    print(_)"
   ]
  },
  {
   "cell_type": "code",
   "execution_count": 7,
   "metadata": {
    "tags": []
   },
   "outputs": [
    {
     "output_type": "stream",
     "name": "stdout",
     "text": "4\n"
    }
   ],
   "source": [
    "for u in biblioteca:\n",
    "    if u[0] == \"Seda\":\n",
    "        print(len(u[0]))"
   ]
  },
  {
   "cell_type": "markdown",
   "metadata": {},
   "source": [
    "3. ¿Cuántas unidades hay del libro *Seda*?"
   ]
  },
  {
   "cell_type": "code",
   "execution_count": 8,
   "metadata": {
    "tags": []
   },
   "outputs": [
    {
     "output_type": "stream",
     "name": "stdout",
     "text": "2\n"
    }
   ],
   "source": [
    "#your code here # con bucle for recorro toda la lista, y le digo que para u que representa a los elementos de la lista, la recorra y cuando encuentte la tupla que tiene seda compare la posición 0 que es la del str y si coincide con la palabra seda imprima la posición 1 que es num de la tupla. \n",
    "for u in biblioteca:\n",
    "    if u[0] == \"Seda\":\n",
    "        print(u[1])"
   ]
  },
  {
   "cell_type": "markdown",
   "metadata": {},
   "source": [
    "4. Quien registraba los libros antes de ti dejo pendiente de añadir a la lista **libros** la variable **pendiente**, además debió confundir el famoso libro de George Orwell *1984*, con un número, asignándolo como un integer.\n",
    "¿Puedes cambiarlo y pasar a string este elemento y añadirlo a **libros**?"
   ]
  },
  {
   "cell_type": "code",
   "execution_count": 9,
   "metadata": {},
   "outputs": [],
   "source": [
    "pendiente = 1984"
   ]
  },
  {
   "cell_type": "code",
   "execution_count": 10,
   "metadata": {
    "tags": []
   },
   "outputs": [
    {
     "output_type": "stream",
     "name": "stdout",
     "text": "['El mal de Corcira', 'Un mundo feliz', 'Lolita', 'Crimen y castigo', 'Python from for to pro', 'El señor de los anillos', 'Cien años de soledad', 'Harry Potter', 'Lectura Fácil', 'Seda', 'La chica de nieve', 'El día que se perdió la cordura', 'Data Science', '1984']\n"
    }
   ],
   "source": [
    "pendiente=str(1984)\n",
    "libros.append(pendiente)\n",
    "print(libros)"
   ]
  },
  {
   "cell_type": "markdown",
   "metadata": {},
   "source": [
    "5. Te piden que añadas a esta lista el nuevo libro de Los Juegos del hambre que se titula *Balada de pájaros cantores y serpientes*. Has contado las unidades y han llegado 10. \n",
    "\n",
    "    a. Crea una variable con el título del libro, que se llame **libro_1**. Añade este elemento a la lista **libros**.\n",
    "\n",
    "    b. Crea una variable con el número de unidades, que se llame **uds_1**.\n",
    "\n",
    "    c. Crea una variable que sea una lista llamada **nuevo_libro** en el que su primer elemento sea **libro_1** y el segundo **uds_1**. \n",
    "\n",
    "    d. Convierte a **nuevo_libro** a tupla.\n",
    "    (muestra qué tipo es ahora esta variable)\n",
    "\n",
    "    e. Añade **nuevo_libro** a la lista **biblioteca** "
   ]
  },
  {
   "cell_type": "code",
   "execution_count": 11,
   "metadata": {
    "tags": []
   },
   "outputs": [
    {
     "output_type": "stream",
     "name": "stdout",
     "text": "[('El mal de Corcira', 4), ('Un mundo feliz', 2), ('Lolita', 5), ('Crimen y castigo', 2), ('Python from for to pro', 0), ('El señor de los anillos', 6), ('Cien años de soledad', 5), ('Harry Potter', 9), ('Lectura Fácil', 4), ('Seda', 2), ('La chica de nieve', 6), ('El día que se perdió la cordura', 3), ('Data Science', 0), ('Balada de pájaros cantores y serpientes', 10)]\n"
    }
   ],
   "source": [
    "#your code here\n",
    "libro_1 = \"Balada de pájaros cantores y serpientes\"\n",
    "libros.append(libro_1) #con esto ya meto en la lista libros la variable libro_1 que tiene el titulo que quiero añadir.\n",
    "uds_1=10\n",
    "nuevo_libro=(libro_1,uds_1)\n",
    "biblioteca.append(nuevo_libro)\n",
    "print(biblioteca) #creo una nueva variable con las variables que he creado antes libro y unds. \n",
    "# creamos una variable con el titulo nuevo, luego otra variable con las unidades, luego en una variable nueva de tipo tupla la creamos con la info de las anteriores variables, asi me da ya un atupla con titulo y unds. Luego añado esa nueva variable que es una tupa a mi lista biblioteca.BaseException"
   ]
  },
  {
   "cell_type": "code",
   "execution_count": 12,
   "metadata": {
    "tags": []
   },
   "outputs": [
    {
     "output_type": "stream",
     "name": "stdout",
     "text": "<class 'list'>\n<class 'tuple'>\n"
    }
   ],
   "source": [
    "nuevo_libro = [libro_1, uds_1]\n",
    "print(type(nuevo_libro))\n",
    "nuevo_libro = tuple(nuevo_libro)\n",
    "print(type(nuevo_libro))"
   ]
  },
  {
   "cell_type": "code",
   "execution_count": 13,
   "metadata": {},
   "outputs": [
    {
     "output_type": "execute_result",
     "data": {
      "text/plain": "[('El mal de Corcira', 4),\n ('Un mundo feliz', 2),\n ('Lolita', 5),\n ('Crimen y castigo', 2),\n ('Python from for to pro', 0),\n ('El señor de los anillos', 6),\n ('Cien años de soledad', 5),\n ('Harry Potter', 9),\n ('Lectura Fácil', 4),\n ('Seda', 2),\n ('La chica de nieve', 6),\n ('El día que se perdió la cordura', 3),\n ('Data Science', 0),\n ('Balada de pájaros cantores y serpientes', 10),\n ('Balada de pájaros cantores y serpientes', 10)]"
     },
     "metadata": {},
     "execution_count": 13
    }
   ],
   "source": [
    "biblioteca.append(nuevo_libro)\n",
    "biblioteca"
   ]
  },
  {
   "cell_type": "code",
   "execution_count": 14,
   "metadata": {
    "tags": []
   },
   "outputs": [
    {
     "output_type": "stream",
     "name": "stdout",
     "text": "<class 'tuple'>\n"
    },
    {
     "output_type": "execute_result",
     "data": {
      "text/plain": "('Balada de pájaros cantores y serpientes', 10)"
     },
     "metadata": {},
     "execution_count": 14
    }
   ],
   "source": [
    "nuevo_libro2 = (libro_1, uds_1)\n",
    "print(type(nuevo_libro2))\n",
    "nuevo_libro2\n"
   ]
  },
  {
   "cell_type": "code",
   "execution_count": 15,
   "metadata": {},
   "outputs": [
    {
     "output_type": "execute_result",
     "data": {
      "text/plain": "str"
     },
     "metadata": {},
     "execution_count": 15
    }
   ],
   "source": [
    "type(nuevo_libro2[0])"
   ]
  },
  {
   "cell_type": "markdown",
   "metadata": {},
   "source": [
    "6. Acaban de traer una unidad más de *El mal de Corcira*, añade una unidad más al segundo elemento del primer elemento de la lista **biblioteca**."
   ]
  },
  {
   "cell_type": "code",
   "execution_count": 16,
   "metadata": {},
   "outputs": [
    {
     "output_type": "execute_result",
     "data": {
      "text/plain": "[('El mal de Corcira', 4),\n ('Un mundo feliz', 2),\n ('Lolita', 5),\n ('Crimen y castigo', 2),\n ('Python from for to pro', 0),\n ('El señor de los anillos', 6),\n ('Cien años de soledad', 5),\n ('Harry Potter', 9),\n ('Lectura Fácil', 4),\n ('Seda', 2),\n ('La chica de nieve', 6),\n ('El día que se perdió la cordura', 3),\n ('Data Science', 0),\n ('Balada de pájaros cantores y serpientes', 10),\n ('Balada de pájaros cantores y serpientes', 10)]"
     },
     "metadata": {},
     "execution_count": 16
    }
   ],
   "source": [
    "biblioteca"
   ]
  },
  {
   "cell_type": "code",
   "execution_count": 17,
   "metadata": {},
   "outputs": [
    {
     "output_type": "execute_result",
     "data": {
      "text/plain": "('El mal de Corcira', 4)"
     },
     "metadata": {},
     "execution_count": 17
    }
   ],
   "source": [
    "t = (biblioteca[0])\n",
    "t"
   ]
  },
  {
   "cell_type": "code",
   "execution_count": 18,
   "metadata": {},
   "outputs": [
    {
     "output_type": "error",
     "ename": "TypeError",
     "evalue": "'tuple' object does not support item assignment",
     "traceback": [
      "\u001b[0;31m---------------------------------------------------------------------------\u001b[0m",
      "\u001b[0;31mTypeError\u001b[0m                                 Traceback (most recent call last)",
      "\u001b[0;32m<ipython-input-18-445218799e53>\u001b[0m in \u001b[0;36m<module>\u001b[0;34m\u001b[0m\n\u001b[0;32m----> 1\u001b[0;31m \u001b[0mt\u001b[0m\u001b[0;34m[\u001b[0m\u001b[0;36m1\u001b[0m\u001b[0;34m]\u001b[0m \u001b[0;34m=\u001b[0m \u001b[0mt\u001b[0m\u001b[0;34m[\u001b[0m\u001b[0;36m1\u001b[0m\u001b[0;34m]\u001b[0m \u001b[0;34m+\u001b[0m \u001b[0;36m1\u001b[0m\u001b[0;34m\u001b[0m\u001b[0;34m\u001b[0m\u001b[0m\n\u001b[0m\u001b[1;32m      2\u001b[0m \u001b[0mt\u001b[0m\u001b[0;34m\u001b[0m\u001b[0;34m\u001b[0m\u001b[0m\n",
      "\u001b[0;31mTypeError\u001b[0m: 'tuple' object does not support item assignment"
     ]
    }
   ],
   "source": [
    "t[1] = t[1] + 1\n",
    "t"
   ]
  },
  {
   "cell_type": "code",
   "execution_count": 19,
   "metadata": {},
   "outputs": [
    {
     "output_type": "execute_result",
     "data": {
      "text/plain": "('El mal de Corcira', 4)"
     },
     "metadata": {},
     "execution_count": 19
    }
   ],
   "source": [
    "t = tuple(t)\n",
    "t"
   ]
  },
  {
   "cell_type": "code",
   "execution_count": 20,
   "metadata": {},
   "outputs": [
    {
     "output_type": "execute_result",
     "data": {
      "text/plain": "[('El mal de Corcira', 4),\n ('Un mundo feliz', 2),\n ('Lolita', 5),\n ('Crimen y castigo', 2),\n ('Python from for to pro', 0),\n ('El señor de los anillos', 6),\n ('Cien años de soledad', 5),\n ('Harry Potter', 9),\n ('Lectura Fácil', 4),\n ('Seda', 2),\n ('La chica de nieve', 6),\n ('El día que se perdió la cordura', 3),\n ('Data Science', 0),\n ('Balada de pájaros cantores y serpientes', 10),\n ('Balada de pájaros cantores y serpientes', 10)]"
     },
     "metadata": {},
     "execution_count": 20
    }
   ],
   "source": [
    "biblioteca[0] = t\n",
    "biblioteca"
   ]
  },
  {
   "cell_type": "markdown",
   "metadata": {},
   "source": [
    "Busca en google este error y explica porqué no se puede añadir una unidad más. ¿Se te ocurre cómo podrías alterar este dato?"
   ]
  },
  {
   "cell_type": "code",
   "execution_count": 21,
   "metadata": {},
   "outputs": [],
   "source": [
    "#your comment here"
   ]
  },
  {
   "cell_type": "markdown",
   "metadata": {},
   "source": [
    "Convierte la tupla en una lista para poder modificar el segundo elemento y añadir esta unidad. Asigna la tupla convertida a lista a la variable **tup_to_list** haz los cambios, agrega la unidad y vuelve a añadir la lista ya convertida en tupla a la lista **biblioteca**."
   ]
  },
  {
   "cell_type": "code",
   "execution_count": 22,
   "metadata": {},
   "outputs": [],
   "source": [
    "#your code here"
   ]
  },
  {
   "cell_type": "markdown",
   "metadata": {},
   "source": [
    "Ahora, tenemos dos tuplas con el libro *El mal de Corcira*, pero esto no es lo que queremos. Elimina el primer elemento de la lista **biblioteca**.\n",
    "\n",
    "Hint: https://www.programiz.com/python-programming/methods/list/remove"
   ]
  },
  {
   "cell_type": "code",
   "execution_count": 23,
   "metadata": {},
   "outputs": [
    {
     "output_type": "execute_result",
     "data": {
      "text/plain": "[('El mal de Corcira', 4),\n ('Un mundo feliz', 2),\n ('Lolita', 5),\n ('Crimen y castigo', 2),\n ('Python from for to pro', 0),\n ('El señor de los anillos', 6),\n ('Cien años de soledad', 5),\n ('Harry Potter', 9),\n ('Lectura Fácil', 4),\n ('Seda', 2),\n ('La chica de nieve', 6),\n ('El día que se perdió la cordura', 3),\n ('Data Science', 0),\n ('Balada de pájaros cantores y serpientes', 10),\n ('Balada de pájaros cantores y serpientes', 10),\n ('El mal de Corcira', 5)]"
     },
     "metadata": {},
     "execution_count": 23
    }
   ],
   "source": [
    "#your code here\n",
    "y = ('El mal de Corcira', 5)\n",
    "biblioteca.append(y)\n",
    "biblioteca"
   ]
  },
  {
   "cell_type": "code",
   "execution_count": 24,
   "metadata": {},
   "outputs": [
    {
     "output_type": "execute_result",
     "data": {
      "text/plain": "('El mal de Corcira', 5)"
     },
     "metadata": {},
     "execution_count": 24
    }
   ],
   "source": [
    "biblioteca.pop()"
   ]
  },
  {
   "cell_type": "code",
   "execution_count": 25,
   "metadata": {},
   "outputs": [
    {
     "output_type": "error",
     "ename": "ValueError",
     "evalue": "list.remove(x): x not in list",
     "traceback": [
      "\u001b[0;31m---------------------------------------------------------------------------\u001b[0m",
      "\u001b[0;31mValueError\u001b[0m                                Traceback (most recent call last)",
      "\u001b[0;32m<ipython-input-25-731b7610817f>\u001b[0m in \u001b[0;36m<module>\u001b[0;34m\u001b[0m\n\u001b[1;32m      1\u001b[0m \u001b[0mi\u001b[0m \u001b[0;34m=\u001b[0m \u001b[0;34m(\u001b[0m\u001b[0;34m'El mal de Corcira'\u001b[0m\u001b[0;34m,\u001b[0m \u001b[0;36m5\u001b[0m\u001b[0;34m)\u001b[0m\u001b[0;34m\u001b[0m\u001b[0;34m\u001b[0m\u001b[0m\n\u001b[0;32m----> 2\u001b[0;31m \u001b[0mbiblioteca\u001b[0m\u001b[0;34m.\u001b[0m\u001b[0mremove\u001b[0m\u001b[0;34m(\u001b[0m\u001b[0mi\u001b[0m\u001b[0;34m)\u001b[0m\u001b[0;34m\u001b[0m\u001b[0;34m\u001b[0m\u001b[0m\n\u001b[0m",
      "\u001b[0;31mValueError\u001b[0m: list.remove(x): x not in list"
     ]
    }
   ],
   "source": [
    "i = ('El mal de Corcira', 5)\n",
    "biblioteca.remove(i)\n"
   ]
  },
  {
   "cell_type": "code",
   "execution_count": 26,
   "metadata": {},
   "outputs": [
    {
     "output_type": "execute_result",
     "data": {
      "text/plain": "[('El mal de Corcira', 4),\n ('Un mundo feliz', 2),\n ('Lolita', 5),\n ('Crimen y castigo', 2),\n ('Python from for to pro', 0),\n ('El señor de los anillos', 6),\n ('Cien años de soledad', 5),\n ('Harry Potter', 9),\n ('Lectura Fácil', 4),\n ('Seda', 2),\n ('La chica de nieve', 6),\n ('El día que se perdió la cordura', 3),\n ('Data Science', 0),\n ('Balada de pájaros cantores y serpientes', 10),\n ('Balada de pájaros cantores y serpientes', 10)]"
     },
     "metadata": {},
     "execution_count": 26
    }
   ],
   "source": [
    "biblioteca"
   ]
  },
  {
   "cell_type": "markdown",
   "metadata": {},
   "source": [
    "7. Te han pedido que localices los títulos de los libros de los que no disponen de unidades. Es decir, su segundo elemento, es igual a 0. "
   ]
  },
  {
   "cell_type": "code",
   "execution_count": 27,
   "metadata": {},
   "outputs": [
    {
     "output_type": "execute_result",
     "data": {
      "text/plain": "[('El mal de Corcira', 4),\n ('Un mundo feliz', 2),\n ('Lolita', 5),\n ('Crimen y castigo', 2),\n ('Python from for to pro', 0),\n ('El señor de los anillos', 6),\n ('Cien años de soledad', 5),\n ('Harry Potter', 9),\n ('Lectura Fácil', 4),\n ('Seda', 2),\n ('La chica de nieve', 6),\n ('El día que se perdió la cordura', 3),\n ('Data Science', 0),\n ('Balada de pájaros cantores y serpientes', 10),\n ('Balada de pájaros cantores y serpientes', 10)]"
     },
     "metadata": {},
     "execution_count": 27
    }
   ],
   "source": [
    "biblioteca"
   ]
  },
  {
   "cell_type": "code",
   "execution_count": 28,
   "metadata": {
    "tags": []
   },
   "outputs": [
    {
     "output_type": "stream",
     "name": "stdout",
     "text": "Python from for to pro\nData Science\n"
    }
   ],
   "source": [
    "for elem in biblioteca:\n",
    "    if elem[1] == 0:\n",
    "        print(elem[0]) #con corchetes 1 elijo que el for que recorre toda la lista evalue que el dato unds sea =0"
   ]
  },
  {
   "cell_type": "markdown",
   "metadata": {},
   "source": [
    "Bonus:\n",
    "¿Cómo meterías estos dos elementos en una lista llamada **missing**?"
   ]
  },
  {
   "cell_type": "code",
   "execution_count": 29,
   "metadata": {
    "tags": []
   },
   "outputs": [
    {
     "output_type": "stream",
     "name": "stdout",
     "text": "['Python from for to pro']\n['Python from for to pro', 'Data Science']\n"
    }
   ],
   "source": [
    "#your code here\n",
    "missing = [] #creo la lista vacia donde voy a meter los valores\n",
    "\n",
    "for elem in biblioteca: #utilizo for porque recorre toda la lista para comprobar todos los elementos\n",
    "    if elem[1] == 0:  # pongo condición de que la posición 1 de cada elemento (que son tuplas) si es igual a 0 qie me lo guarde en otra variable.\n",
    "        libro_sin_unidad = elem[0] \n",
    "        missing.append(libro_sin_unidad)\n",
    "        print(missing)\n",
    "        "
   ]
  },
  {
   "cell_type": "code",
   "execution_count": null,
   "metadata": {},
   "outputs": [],
   "source": []
  }
 ],
 "metadata": {
  "kernelspec": {
   "display_name": "Python 3",
   "language": "python",
   "name": "python3"
  },
  "language_info": {
   "codemirror_mode": {
    "name": "ipython",
    "version": 3
   },
   "file_extension": ".py",
   "mimetype": "text/x-python",
   "name": "python",
   "nbconvert_exporter": "python",
   "pygments_lexer": "ipython3",
   "version": "3.7.6-final"
  }
 },
 "nbformat": 4,
 "nbformat_minor": 4
}