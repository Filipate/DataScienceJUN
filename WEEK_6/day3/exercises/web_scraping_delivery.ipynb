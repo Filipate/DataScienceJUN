{
 "metadata": {
  "language_info": {
   "codemirror_mode": {
    "name": "ipython",
    "version": 3
   },
   "file_extension": ".py",
   "mimetype": "text/x-python",
   "name": "python",
   "nbconvert_exporter": "python",
   "pygments_lexer": "ipython3",
   "version": "3.8.3-final"
  },
  "orig_nbformat": 2,
  "kernelspec": {
   "name": "python38364bitcbfd2998b9c747eaa6ef61b7425e754e",
   "display_name": "Python 3.8.3 64-bit"
  }
 },
 "nbformat": 4,
 "nbformat_minor": 2,
 "cells": [
  {
   "cell_type": "code",
   "execution_count": null,
   "metadata": {},
   "outputs": [],
   "source": []
  },
  {
   "cell_type": "markdown",
   "metadata": {},
   "source": [
    "### 1. From HTML\n",
    "\n",
    "*Using only beautiful soap*\n",
    "\n",
    "Save in a dataframe the next information using web scraping. Each row of the dataframe must have in different columns:\n",
    "\n",
    "- The name of the title\n",
    "- The id of the div where is the value scraped. If there is not id, then the value is must be numpy.nan\n",
    "- The name of the tag where is the value scraped.\n",
    "- The next scraped values in different rows: \n",
    "    - The value: \"Este es el segundo párrafo\"  --> Row 1\n",
    "    - The url https://pagina1.xyz/ --> Row 2\n",
    "    - The url https://pagina4.xyz/ --> Row 3\n",
    "    - The url https://pagina5.xyz/ --> Row 4\n",
    "    - The value \"links footer-links\" --> Row 5\n",
    "    - The value \"Este párrafo está en el footer\" --> Row 6"
   ]
  },
  {
   "cell_type": "code",
   "execution_count": 55,
   "metadata": {
    "tags": []
   },
   "outputs": [
    {
     "output_type": "stream",
     "name": "stdout",
     "text": "<title>Página de prueba</title>\nPágina de prueba\n"
    }
   ],
   "source": [
    "from bs4 import BeautifulSoup\n",
    "import pandas as pd\n",
    "import numpy as np\n",
    "\n",
    "#To show beautiful html\n",
    "#def show_html(html_str):\n",
    "    #print(BeautifulSoup(str(html_str), 'html.parser').prettify()) #es la funcion que muestra la pagina web en un formato\n",
    "\n",
    "html = \"\"\"<html lang=\"es\">\n",
    "<head>\n",
    "    <meta charset=\"UTF-8\">\n",
    "    <title>Página de prueba</title>\n",
    "</head>\n",
    "<body>\n",
    "<div id=\"main\" class=\"full-width\">\n",
    "    <h1>El título de la página</h1>\n",
    "    <p>Este es el primer párrafo</p>\n",
    "    <p>Este es el segundo párrafo</p>\n",
    "    <div id=\"innerDiv\">\n",
    "        <div class=\"links\">\n",
    "            <a href=\"https://pagina1.xyz/\">Enlace 1</a>\n",
    "            <a href=\"https://pagina2.xyz/\">Enlace 2</a>\n",
    "        </div>\n",
    "        <div class=\"right\">\n",
    "            <div class=\"links\">\n",
    "                <a href=\"https://pagina3.xyz/\">Enlace 3</a>\n",
    "                <a href=\"https://pagina4.xyz/\">Enlace 4</a>\n",
    "            </div>\n",
    "        </div>\n",
    "    </div>\n",
    "    <div id=\"footer\">\n",
    "        <!-- El footer -->\n",
    "        <p>Este párrafo está en el footer</p>\n",
    "        <div class=\"links footer-links\">\n",
    "            <a href=\"https://pagina5.xyz/\">Enlace 5</a>\n",
    "        </div>\n",
    "    </div>\n",
    "</div>\n",
    "</body>\n",
    "</html>\"\"\"\n",
    "\n",
    "# Create a BeautifulSoup object\n",
    "soup = BeautifulSoup(html, 'html.parser')\n",
    "#show_html(soup.text)\n",
    "\n",
    "print(soup.title)\n",
    "print(soup.title.contents[0])\n",
    "\n"
   ]
  },
  {
   "cell_type": "code",
   "execution_count": 26,
   "metadata": {
    "tags": []
   },
   "outputs": [
    {
     "output_type": "execute_result",
     "data": {
      "text/plain": "'main'"
     },
     "metadata": {},
     "execution_count": 26
    }
   ],
   "source": [
    "div_main = soup.div\n",
    "div_main[\"id\"]"
   ]
  },
  {
   "cell_type": "code",
   "execution_count": 81,
   "metadata": {},
   "outputs": [
    {
     "output_type": "execute_result",
     "data": {
      "text/plain": "<div id=\"footer\">\n<!-- El footer -->\n<p>Este párrafo está en el footer</p>\n<div class=\"links footer-links\">\n<a href=\"https://pagina5.xyz/\">Enlace 5</a>\n</div>\n</div>"
     },
     "metadata": {},
     "execution_count": 81
    }
   ],
   "source": [
    "soup.find(id=\"footer\")\n"
   ]
  },
  {
   "cell_type": "code",
   "execution_count": 27,
   "metadata": {},
   "outputs": [
    {
     "output_type": "execute_result",
     "data": {
      "text/plain": "{'id': 'main', 'class': ['full-width']}"
     },
     "metadata": {},
     "execution_count": 27
    }
   ],
   "source": [
    "div= div_main.attrs\n",
    "div\n"
   ]
  },
  {
   "cell_type": "code",
   "execution_count": 74,
   "metadata": {
    "tags": []
   },
   "outputs": [
    {
     "output_type": "stream",
     "name": "stdout",
     "text": "[<div class=\"full-width\" id=\"main\">\n<h1>El título de la página</h1>\n<p>Este es el primer párrafo</p>\n<p>Este es el segundo párrafo</p>\n<div id=\"innerDiv\">\n<div class=\"links\">\n<a href=\"https://pagina1.xyz/\">Enlace 1</a>\n<a href=\"https://pagina2.xyz/\">Enlace 2</a>\n</div>\n<div class=\"right\">\n<div class=\"links\">\n<a href=\"https://pagina3.xyz/\">Enlace 3</a>\n<a href=\"https://pagina4.xyz/\">Enlace 4</a>\n</div>\n</div>\n</div>\n<div id=\"footer\">\n<!-- El footer -->\n<p>Este párrafo está en el footer</p>\n<div class=\"links footer-links\">\n<a href=\"https://pagina5.xyz/\">Enlace 5</a>\n</div>\n</div>\n</div>, <div id=\"innerDiv\">\n<div class=\"links\">\n<a href=\"https://pagina1.xyz/\">Enlace 1</a>\n<a href=\"https://pagina2.xyz/\">Enlace 2</a>\n</div>\n<div class=\"right\">\n<div class=\"links\">\n<a href=\"https://pagina3.xyz/\">Enlace 3</a>\n<a href=\"https://pagina4.xyz/\">Enlace 4</a>\n</div>\n</div>\n</div>, <div class=\"links\">\n<a href=\"https://pagina1.xyz/\">Enlace 1</a>\n<a href=\"https://pagina2.xyz/\">Enlace 2</a>\n</div>, <div class=\"right\">\n<div class=\"links\">\n<a href=\"https://pagina3.xyz/\">Enlace 3</a>\n<a href=\"https://pagina4.xyz/\">Enlace 4</a>\n</div>\n</div>, <div class=\"links\">\n<a href=\"https://pagina3.xyz/\">Enlace 3</a>\n<a href=\"https://pagina4.xyz/\">Enlace 4</a>\n</div>, <div id=\"footer\">\n<!-- El footer -->\n<p>Este párrafo está en el footer</p>\n<div class=\"links footer-links\">\n<a href=\"https://pagina5.xyz/\">Enlace 5</a>\n</div>\n</div>, <div class=\"links footer-links\">\n<a href=\"https://pagina5.xyz/\">Enlace 5</a>\n</div>]\n"
    }
   ],
   "source": [
    "div = soup.find_all(\"div\")\n",
    "print(div)"
   ]
  },
  {
   "cell_type": "code",
   "execution_count": 28,
   "metadata": {},
   "outputs": [
    {
     "output_type": "execute_result",
     "data": {
      "text/plain": "'Este es el primer párrafo'"
     },
     "metadata": {},
     "execution_count": 28
    }
   ],
   "source": [
    "primero_parrafo = soup.p\n",
    "texto = primero_parrafo.string\n",
    "row1= texto\n",
    "row1\n"
   ]
  },
  {
   "cell_type": "code",
   "execution_count": 29,
   "metadata": {
    "tags": []
   },
   "outputs": [
    {
     "output_type": "stream",
     "name": "stdout",
     "text": "[<p>Este es el primer párrafo</p>, <p>Este es el segundo párrafo</p>, <p>Este párrafo está en el footer</p>]\n"
    }
   ],
   "source": [
    "#print(soup.contents)\n",
    "#tags = []\n",
    "#for elem in soup:\n",
    "    #tags.append(elem)\n",
    "    #print(tags)\n",
    "\n",
    "#for elem in tags:\n",
    "    #print(elem)\n",
    "\n",
    "parrafos = soup.findAll('p')\n",
    "print(parrafos)\n"
   ]
  },
  {
   "cell_type": "code",
   "execution_count": 30,
   "metadata": {
    "tags": []
   },
   "outputs": [
    {
     "output_type": "stream",
     "name": "stdout",
     "text": "['Este es el primer párrafo', 'Este es el segundo párrafo', 'Este párrafo está en el footer']\n"
    }
   ],
   "source": [
    "lista_parrafos = []\n",
    "for parrafo in parrafos:\n",
    "    lista_parrafos.append(parrafo.contents[0])\n",
    "print(lista_parrafos)"
   ]
  },
  {
   "cell_type": "code",
   "execution_count": 31,
   "metadata": {},
   "outputs": [
    {
     "output_type": "execute_result",
     "data": {
      "text/plain": "<div class=\"links\">\n<a href=\"https://pagina1.xyz/\">Enlace 1</a>\n<a href=\"https://pagina2.xyz/\">Enlace 2</a>\n</div>"
     },
     "metadata": {},
     "execution_count": 31
    }
   ],
   "source": [
    "soup.div.div.div"
   ]
  },
  {
   "cell_type": "code",
   "execution_count": 32,
   "metadata": {
    "tags": []
   },
   "outputs": [
    {
     "output_type": "stream",
     "name": "stdout",
     "text": "[<a href=\"https://pagina1.xyz/\">Enlace 1</a>]\n"
    }
   ],
   "source": [
    "enlaces = soup.find_all(\"a\", limit =1)\n",
    "print(enlaces)"
   ]
  },
  {
   "cell_type": "code",
   "execution_count": 56,
   "metadata": {
    "tags": []
   },
   "outputs": [
    {
     "output_type": "stream",
     "name": "stdout",
     "text": "https://pagina1.xyz/\n"
    }
   ],
   "source": [
    "\n",
    "for enlace in enlaces:\n",
    "    row = enlace.get('href')\n",
    "    print(row)"
   ]
  },
  {
   "cell_type": "code",
   "execution_count": 57,
   "metadata": {
    "tags": []
   },
   "outputs": [
    {
     "output_type": "stream",
     "name": "stdout",
     "text": "[<a href=\"https://pagina1.xyz/\">Enlace 1</a>, <a href=\"https://pagina2.xyz/\">Enlace 2</a>, <a href=\"https://pagina3.xyz/\">Enlace 3</a>, <a href=\"https://pagina4.xyz/\">Enlace 4</a>, <a href=\"https://pagina5.xyz/\">Enlace 5</a>]\n"
    }
   ],
   "source": [
    "list_enlaces=[]\n",
    "for enlace in enlaces1:\n",
    "    list_enlaces.append(enlace)\n",
    "print(list_enlaces)"
   ]
  },
  {
   "cell_type": "code",
   "execution_count": 34,
   "metadata": {
    "tags": []
   },
   "outputs": [
    {
     "output_type": "stream",
     "name": "stdout",
     "text": "[<a href=\"https://pagina1.xyz/\">Enlace 1</a>, <a href=\"https://pagina2.xyz/\">Enlace 2</a>, <a href=\"https://pagina3.xyz/\">Enlace 3</a>, <a href=\"https://pagina4.xyz/\">Enlace 4</a>, <a href=\"https://pagina5.xyz/\">Enlace 5</a>]\n"
    }
   ],
   "source": [
    "enlaces1 = soup.findAll('a')\n",
    "print(enlaces1)"
   ]
  },
  {
   "cell_type": "code",
   "execution_count": 60,
   "metadata": {},
   "outputs": [
    {
     "output_type": "execute_result",
     "data": {
      "text/plain": "[<a href=\"https://pagina1.xyz/\">Enlace 1</a>,\n <a href=\"https://pagina2.xyz/\">Enlace 2</a>,\n <a href=\"https://pagina3.xyz/\">Enlace 3</a>,\n <a href=\"https://pagina4.xyz/\">Enlace 4</a>,\n <a href=\"https://pagina5.xyz/\">Enlace 5</a>]"
     },
     "metadata": {},
     "execution_count": 60
    }
   ],
   "source": [
    "enlaces1"
   ]
  },
  {
   "cell_type": "code",
   "execution_count": 67,
   "metadata": {},
   "outputs": [
    {
     "output_type": "execute_result",
     "data": {
      "text/plain": "[<a href=\"https://pagina1.xyz/\">Enlace 1</a>,\n <a href=\"https://pagina3.xyz/\">Enlace 3</a>,\n <a href=\"https://pagina5.xyz/\">Enlace 5</a>]"
     },
     "metadata": {},
     "execution_count": 67
    }
   ],
   "source": [
    "enlaces2=enlaces1[0:6:2]\n",
    "enlaces2"
   ]
  },
  {
   "cell_type": "code",
   "execution_count": 68,
   "metadata": {
    "tags": []
   },
   "outputs": [
    {
     "output_type": "stream",
     "name": "stdout",
     "text": "https://pagina1.xyz/\nhttps://pagina3.xyz/\nhttps://pagina5.xyz/\n"
    }
   ],
   "source": [
    "\n",
    "for enlace in enlaces2:\n",
    "    row = enlace.get('href')\n",
    "    print(row)"
   ]
  },
  {
   "cell_type": "code",
   "execution_count": 72,
   "metadata": {},
   "outputs": [
    {
     "output_type": "error",
     "ename": "TypeError",
     "evalue": "'list' object is not callable",
     "traceback": [
      "\u001b[0;31m---------------------------------------------------------------------------\u001b[0m",
      "\u001b[0;31mTypeError\u001b[0m                                 Traceback (most recent call last)",
      "\u001b[0;32m<ipython-input-72-5e969bc4a478>\u001b[0m in \u001b[0;36m<module>\u001b[0;34m\u001b[0m\n\u001b[0;32m----> 1\u001b[0;31m \u001b[0mlist\u001b[0m\u001b[0;34m(\u001b[0m\u001b[0mrow\u001b[0m\u001b[0;34m)\u001b[0m\u001b[0;34m\u001b[0m\u001b[0;34m\u001b[0m\u001b[0m\n\u001b[0m",
      "\u001b[0;31mTypeError\u001b[0m: 'list' object is not callable"
     ]
    }
   ],
   "source": [
    "ro"
   ]
  },
  {
   "cell_type": "code",
   "execution_count": 53,
   "metadata": {},
   "outputs": [
    {
     "output_type": "execute_result",
     "data": {
      "text/plain": "<a href=\"https://pagina1.xyz/\">Enlace 1</a>"
     },
     "metadata": {},
     "execution_count": 53
    }
   ],
   "source": [
    "enlaces2 = enlaces1[0]\n",
    "enlaces2"
   ]
  },
  {
   "cell_type": "code",
   "execution_count": 64,
   "metadata": {},
   "outputs": [
    {
     "output_type": "execute_result",
     "data": {
      "text/plain": "<a href=\"https://pagina3.xyz/\">Enlace 3</a>"
     },
     "metadata": {},
     "execution_count": 64
    }
   ],
   "source": [
    "enlaces3 = enlaces1[2]\n",
    "enlaces3"
   ]
  },
  {
   "cell_type": "code",
   "execution_count": 65,
   "metadata": {},
   "outputs": [
    {
     "output_type": "execute_result",
     "data": {
      "text/plain": "<a href=\"https://pagina5.xyz/\">Enlace 5</a>"
     },
     "metadata": {},
     "execution_count": 65
    }
   ],
   "source": [
    "enlaces4 = enlaces1[4]\n",
    "enlaces4"
   ]
  },
  {
   "cell_type": "code",
   "execution_count": 38,
   "metadata": {},
   "outputs": [],
   "source": [
    "list=[\"pagina1\",\"pag2\",\"pagina3\",\"pag4\",\"pagina5\"]"
   ]
  },
  {
   "cell_type": "code",
   "execution_count": 39,
   "metadata": {
    "tags": []
   },
   "outputs": [
    {
     "output_type": "error",
     "ename": "TypeError",
     "evalue": "'in <string>' requires string as left operand, not Tag",
     "traceback": [
      "\u001b[0;31m---------------------------------------------------------------------------\u001b[0m",
      "\u001b[0;31mTypeError\u001b[0m                                 Traceback (most recent call last)",
      "\u001b[0;32m<ipython-input-39-672a5341285d>\u001b[0m in \u001b[0;36m<module>\u001b[0;34m\u001b[0m\n\u001b[1;32m      1\u001b[0m \u001b[0;32mfor\u001b[0m \u001b[0melem\u001b[0m \u001b[0;32min\u001b[0m \u001b[0mlist\u001b[0m\u001b[0;34m:\u001b[0m\u001b[0;34m\u001b[0m\u001b[0;34m\u001b[0m\u001b[0m\n\u001b[1;32m      2\u001b[0m     \u001b[0;32mfor\u001b[0m \u001b[0mi\u001b[0m \u001b[0;32min\u001b[0m \u001b[0mlist_enlaces\u001b[0m\u001b[0;34m:\u001b[0m\u001b[0;34m\u001b[0m\u001b[0;34m\u001b[0m\u001b[0m\n\u001b[0;32m----> 3\u001b[0;31m         \u001b[0;32mif\u001b[0m \u001b[0mi\u001b[0m \u001b[0;32min\u001b[0m \u001b[0melem\u001b[0m\u001b[0;34m:\u001b[0m\u001b[0;34m\u001b[0m\u001b[0;34m\u001b[0m\u001b[0m\n\u001b[0m\u001b[1;32m      4\u001b[0m             \u001b[0mlista_enlaces1\u001b[0m\u001b[0;34m.\u001b[0m\u001b[0mappend\u001b[0m\u001b[0;34m(\u001b[0m\u001b[0melem\u001b[0m\u001b[0;34m)\u001b[0m\u001b[0;34m\u001b[0m\u001b[0;34m\u001b[0m\u001b[0m\n\u001b[1;32m      5\u001b[0m \u001b[0;34m\u001b[0m\u001b[0m\n",
      "\u001b[0;31mTypeError\u001b[0m: 'in <string>' requires string as left operand, not Tag"
     ]
    }
   ],
   "source": [
    "\n",
    "for elem in list:\n",
    "    for i in list_enlaces:\n",
    "        if i in elem:\n",
    "            lista_enlaces1.append(elem)\n",
    "    \n",
    "\n",
    "lista_enlaces1=[]\n",
    "output = lista_enlaces1\n",
    "output"
   ]
  },
  {
   "cell_type": "markdown",
   "metadata": {},
   "source": [
    "### 1. From Amazon\n",
    "\n",
    "*Using  beautiful soap and/or regex*\n",
    "\n",
    "Save in a dataframe the next information using web scraping. Using product pages from Amazon, do the following: \n",
    "\n",
    "- Get the product name from the web and save it in a column called \"item_name\"\n",
    "- Get the price from the web and save it in a column called \"item_price\"\n",
    "\n",
    "While you are doing the exercise, document the steps you are doing. Try to do the program for generic pages. If you cannot do it generic, explain the reasons. \n",
    "\n",
    "-------------------------------\n",
    "\n",
    "**Example:** \n",
    "\n",
    "url = https://www.amazon.es/Tommy-Hilfiger-UM0UM00054-Camiseta-Hombre/dp/B01MYD0T1F/ref=sr_1_1?dchild=1&pf_rd_p=58224bec-cac9-4dd2-a42a-61b1db609c2d&pf_rd_r=VZQ1JTQXFVRZ9E9VSKX4&qid=1595364419&s=apparel&sr=1-1\n",
    "\n",
    "*item_name* --> \"Tommy Hilfiger Logo Camiseta de Cuello Redondo,Perfecta para El Tiempo Libre para Hombre\"\n",
    "\n",
    "*item_price* --> [[18,99 € - 46,59 €]] or one of the options.\n",
    "\n",
    "\n"
   ]
  },
  {
   "cell_type": "code",
   "execution_count": null,
   "metadata": {},
   "outputs": [],
   "source": []
  }
 ]
}