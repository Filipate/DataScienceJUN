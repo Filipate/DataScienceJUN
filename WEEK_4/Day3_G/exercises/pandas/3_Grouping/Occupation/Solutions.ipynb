{
 "cells": [
  {
   "cell_type": "markdown",
   "metadata": {},
   "source": [
    "# Occupation"
   ]
  },
  {
   "cell_type": "markdown",
   "metadata": {},
   "source": [
    "### Introduction:\n",
    "\n",
    "\n",
    "### Step 1. Import the necessary libraries"
   ]
  },
  {
   "cell_type": "code",
   "execution_count": 110,
   "metadata": {
    "collapsed": false
   },
   "outputs": [],
   "source": [
    "import pandas as pd"
   ]
  },
  {
   "cell_type": "markdown",
   "metadata": {},
   "source": [
    "### Step 2. Import the dataset from this [address](https://raw.githubusercontent.com/justmarkham/DAT8/master/data/u.user). "
   ]
  },
  {
   "cell_type": "code",
   "execution_count": 111,
   "metadata": {},
   "outputs": [],
   "source": [
    "address=(\"https://raw.githubusercontent.com/justmarkham/DAT8/master/data/u.user\")"
   ]
  },
  {
   "cell_type": "markdown",
   "metadata": {},
   "source": [
    "### Step 3. Assign it to a variable called users."
   ]
  },
  {
   "cell_type": "code",
   "execution_count": 112,
   "metadata": {},
   "outputs": [
    {
     "output_type": "execute_result",
     "data": {
      "text/plain": "     user_id  age gender     occupation zip_code\n0          1   24      M     technician    85711\n1          2   53      F          other    94043\n2          3   23      M         writer    32067\n3          4   24      M     technician    43537\n4          5   33      F          other    15213\n..       ...  ...    ...            ...      ...\n938      939   26      F        student    33319\n939      940   32      M  administrator    02215\n940      941   20      M        student    97229\n941      942   48      F      librarian    78209\n942      943   22      M        student    77841\n\n[943 rows x 5 columns]",
      "text/html": "<div>\n<style scoped>\n    .dataframe tbody tr th:only-of-type {\n        vertical-align: middle;\n    }\n\n    .dataframe tbody tr th {\n        vertical-align: top;\n    }\n\n    .dataframe thead th {\n        text-align: right;\n    }\n</style>\n<table border=\"1\" class=\"dataframe\">\n  <thead>\n    <tr style=\"text-align: right;\">\n      <th></th>\n      <th>user_id</th>\n      <th>age</th>\n      <th>gender</th>\n      <th>occupation</th>\n      <th>zip_code</th>\n    </tr>\n  </thead>\n  <tbody>\n    <tr>\n      <th>0</th>\n      <td>1</td>\n      <td>24</td>\n      <td>M</td>\n      <td>technician</td>\n      <td>85711</td>\n    </tr>\n    <tr>\n      <th>1</th>\n      <td>2</td>\n      <td>53</td>\n      <td>F</td>\n      <td>other</td>\n      <td>94043</td>\n    </tr>\n    <tr>\n      <th>2</th>\n      <td>3</td>\n      <td>23</td>\n      <td>M</td>\n      <td>writer</td>\n      <td>32067</td>\n    </tr>\n    <tr>\n      <th>3</th>\n      <td>4</td>\n      <td>24</td>\n      <td>M</td>\n      <td>technician</td>\n      <td>43537</td>\n    </tr>\n    <tr>\n      <th>4</th>\n      <td>5</td>\n      <td>33</td>\n      <td>F</td>\n      <td>other</td>\n      <td>15213</td>\n    </tr>\n    <tr>\n      <th>...</th>\n      <td>...</td>\n      <td>...</td>\n      <td>...</td>\n      <td>...</td>\n      <td>...</td>\n    </tr>\n    <tr>\n      <th>938</th>\n      <td>939</td>\n      <td>26</td>\n      <td>F</td>\n      <td>student</td>\n      <td>33319</td>\n    </tr>\n    <tr>\n      <th>939</th>\n      <td>940</td>\n      <td>32</td>\n      <td>M</td>\n      <td>administrator</td>\n      <td>02215</td>\n    </tr>\n    <tr>\n      <th>940</th>\n      <td>941</td>\n      <td>20</td>\n      <td>M</td>\n      <td>student</td>\n      <td>97229</td>\n    </tr>\n    <tr>\n      <th>941</th>\n      <td>942</td>\n      <td>48</td>\n      <td>F</td>\n      <td>librarian</td>\n      <td>78209</td>\n    </tr>\n    <tr>\n      <th>942</th>\n      <td>943</td>\n      <td>22</td>\n      <td>M</td>\n      <td>student</td>\n      <td>77841</td>\n    </tr>\n  </tbody>\n</table>\n<p>943 rows × 5 columns</p>\n</div>"
     },
     "metadata": {},
     "execution_count": 112
    }
   ],
   "source": [
    "users=pd.read_csv(\"https://raw.githubusercontent.com/justmarkham/DAT8/master/data/u.user\", sep= \"|\")\n",
    "users"
   ]
  },
  {
   "cell_type": "code",
   "execution_count": 113,
   "metadata": {},
   "outputs": [
    {
     "output_type": "execute_result",
     "data": {
      "text/plain": "         age gender     occupation zip_code\nuser_id                                    \n1         24      M     technician    85711\n2         53      F          other    94043\n3         23      M         writer    32067\n4         24      M     technician    43537\n5         33      F          other    15213\n...      ...    ...            ...      ...\n939       26      F        student    33319\n940       32      M  administrator    02215\n941       20      M        student    97229\n942       48      F      librarian    78209\n943       22      M        student    77841\n\n[943 rows x 4 columns]",
      "text/html": "<div>\n<style scoped>\n    .dataframe tbody tr th:only-of-type {\n        vertical-align: middle;\n    }\n\n    .dataframe tbody tr th {\n        vertical-align: top;\n    }\n\n    .dataframe thead th {\n        text-align: right;\n    }\n</style>\n<table border=\"1\" class=\"dataframe\">\n  <thead>\n    <tr style=\"text-align: right;\">\n      <th></th>\n      <th>age</th>\n      <th>gender</th>\n      <th>occupation</th>\n      <th>zip_code</th>\n    </tr>\n    <tr>\n      <th>user_id</th>\n      <th></th>\n      <th></th>\n      <th></th>\n      <th></th>\n    </tr>\n  </thead>\n  <tbody>\n    <tr>\n      <th>1</th>\n      <td>24</td>\n      <td>M</td>\n      <td>technician</td>\n      <td>85711</td>\n    </tr>\n    <tr>\n      <th>2</th>\n      <td>53</td>\n      <td>F</td>\n      <td>other</td>\n      <td>94043</td>\n    </tr>\n    <tr>\n      <th>3</th>\n      <td>23</td>\n      <td>M</td>\n      <td>writer</td>\n      <td>32067</td>\n    </tr>\n    <tr>\n      <th>4</th>\n      <td>24</td>\n      <td>M</td>\n      <td>technician</td>\n      <td>43537</td>\n    </tr>\n    <tr>\n      <th>5</th>\n      <td>33</td>\n      <td>F</td>\n      <td>other</td>\n      <td>15213</td>\n    </tr>\n    <tr>\n      <th>...</th>\n      <td>...</td>\n      <td>...</td>\n      <td>...</td>\n      <td>...</td>\n    </tr>\n    <tr>\n      <th>939</th>\n      <td>26</td>\n      <td>F</td>\n      <td>student</td>\n      <td>33319</td>\n    </tr>\n    <tr>\n      <th>940</th>\n      <td>32</td>\n      <td>M</td>\n      <td>administrator</td>\n      <td>02215</td>\n    </tr>\n    <tr>\n      <th>941</th>\n      <td>20</td>\n      <td>M</td>\n      <td>student</td>\n      <td>97229</td>\n    </tr>\n    <tr>\n      <th>942</th>\n      <td>48</td>\n      <td>F</td>\n      <td>librarian</td>\n      <td>78209</td>\n    </tr>\n    <tr>\n      <th>943</th>\n      <td>22</td>\n      <td>M</td>\n      <td>student</td>\n      <td>77841</td>\n    </tr>\n  </tbody>\n</table>\n<p>943 rows × 4 columns</p>\n</div>"
     },
     "metadata": {},
     "execution_count": 113
    }
   ],
   "source": [
    "users=pd.read_csv(\"https://raw.githubusercontent.com/justmarkham/DAT8/master/data/u.user\", sep=\"|\",index_col=\"user_id\")\n",
    "users"
   ]
  },
  {
   "cell_type": "markdown",
   "metadata": {},
   "source": [
    "### Step 4. Discover what is the mean age per occupation"
   ]
  },
  {
   "cell_type": "code",
   "execution_count": 114,
   "metadata": {
    "collapsed": false
   },
   "outputs": [
    {
     "output_type": "execute_result",
     "data": {
      "text/plain": "occupation\nadministrator    38.746835\nartist           31.392857\ndoctor           43.571429\neducator         42.010526\nengineer         36.388060\nentertainment    29.222222\nexecutive        38.718750\nhealthcare       41.562500\nhomemaker        32.571429\nlawyer           36.750000\nlibrarian        40.000000\nmarketing        37.615385\nnone             26.555556\nother            34.523810\nprogrammer       33.121212\nretired          63.071429\nsalesman         35.666667\nscientist        35.548387\nstudent          22.081633\ntechnician       33.148148\nwriter           36.311111\nName: age, dtype: float64"
     },
     "metadata": {},
     "execution_count": 114
    }
   ],
   "source": [
    "users.groupby(\"occupation\").age.mean()"
   ]
  },
  {
   "cell_type": "markdown",
   "metadata": {},
   "source": [
    "### Step 5. Discover the Male ratio per occupation and sort it from the most to the least"
   ]
  },
  {
   "cell_type": "code",
   "execution_count": 115,
   "metadata": {
    "collapsed": false
   },
   "outputs": [
    {
     "output_type": "execute_result",
     "data": {
      "text/plain": "         age gender     occupation zip_code\nuser_id                                    \n1         24      M     technician    85711\n2         53      F          other    94043\n3         23      M         writer    32067\n4         24      M     technician    43537\n5         33      F          other    15213\n...      ...    ...            ...      ...\n939       26      F        student    33319\n940       32      M  administrator    02215\n941       20      M        student    97229\n942       48      F      librarian    78209\n943       22      M        student    77841\n\n[943 rows x 4 columns]",
      "text/html": "<div>\n<style scoped>\n    .dataframe tbody tr th:only-of-type {\n        vertical-align: middle;\n    }\n\n    .dataframe tbody tr th {\n        vertical-align: top;\n    }\n\n    .dataframe thead th {\n        text-align: right;\n    }\n</style>\n<table border=\"1\" class=\"dataframe\">\n  <thead>\n    <tr style=\"text-align: right;\">\n      <th></th>\n      <th>age</th>\n      <th>gender</th>\n      <th>occupation</th>\n      <th>zip_code</th>\n    </tr>\n    <tr>\n      <th>user_id</th>\n      <th></th>\n      <th></th>\n      <th></th>\n      <th></th>\n    </tr>\n  </thead>\n  <tbody>\n    <tr>\n      <th>1</th>\n      <td>24</td>\n      <td>M</td>\n      <td>technician</td>\n      <td>85711</td>\n    </tr>\n    <tr>\n      <th>2</th>\n      <td>53</td>\n      <td>F</td>\n      <td>other</td>\n      <td>94043</td>\n    </tr>\n    <tr>\n      <th>3</th>\n      <td>23</td>\n      <td>M</td>\n      <td>writer</td>\n      <td>32067</td>\n    </tr>\n    <tr>\n      <th>4</th>\n      <td>24</td>\n      <td>M</td>\n      <td>technician</td>\n      <td>43537</td>\n    </tr>\n    <tr>\n      <th>5</th>\n      <td>33</td>\n      <td>F</td>\n      <td>other</td>\n      <td>15213</td>\n    </tr>\n    <tr>\n      <th>...</th>\n      <td>...</td>\n      <td>...</td>\n      <td>...</td>\n      <td>...</td>\n    </tr>\n    <tr>\n      <th>939</th>\n      <td>26</td>\n      <td>F</td>\n      <td>student</td>\n      <td>33319</td>\n    </tr>\n    <tr>\n      <th>940</th>\n      <td>32</td>\n      <td>M</td>\n      <td>administrator</td>\n      <td>02215</td>\n    </tr>\n    <tr>\n      <th>941</th>\n      <td>20</td>\n      <td>M</td>\n      <td>student</td>\n      <td>97229</td>\n    </tr>\n    <tr>\n      <th>942</th>\n      <td>48</td>\n      <td>F</td>\n      <td>librarian</td>\n      <td>78209</td>\n    </tr>\n    <tr>\n      <th>943</th>\n      <td>22</td>\n      <td>M</td>\n      <td>student</td>\n      <td>77841</td>\n    </tr>\n  </tbody>\n</table>\n<p>943 rows × 4 columns</p>\n</div>"
     },
     "metadata": {},
     "execution_count": 115
    }
   ],
   "source": [
    "df= users.copy()\n",
    "df"
   ]
  },
  {
   "cell_type": "code",
   "execution_count": 116,
   "metadata": {},
   "outputs": [
    {
     "output_type": "execute_result",
     "data": {
      "text/plain": "        age  occupation  zip_code\ngender                           \nF       273         273       273\nM       670         670       670",
      "text/html": "<div>\n<style scoped>\n    .dataframe tbody tr th:only-of-type {\n        vertical-align: middle;\n    }\n\n    .dataframe tbody tr th {\n        vertical-align: top;\n    }\n\n    .dataframe thead th {\n        text-align: right;\n    }\n</style>\n<table border=\"1\" class=\"dataframe\">\n  <thead>\n    <tr style=\"text-align: right;\">\n      <th></th>\n      <th>age</th>\n      <th>occupation</th>\n      <th>zip_code</th>\n    </tr>\n    <tr>\n      <th>gender</th>\n      <th></th>\n      <th></th>\n      <th></th>\n    </tr>\n  </thead>\n  <tbody>\n    <tr>\n      <th>F</th>\n      <td>273</td>\n      <td>273</td>\n      <td>273</td>\n    </tr>\n    <tr>\n      <th>M</th>\n      <td>670</td>\n      <td>670</td>\n      <td>670</td>\n    </tr>\n  </tbody>\n</table>\n</div>"
     },
     "metadata": {},
     "execution_count": 116
    }
   ],
   "source": [
    "df.groupby(\"gender\").count()"
   ]
  },
  {
   "cell_type": "code",
   "execution_count": 117,
   "metadata": {},
   "outputs": [
    {
     "output_type": "execute_result",
     "data": {
      "text/plain": "         age gender     occupation zip_code  nueva_col\nuser_id                                               \n1         24      M     technician    85711          1\n2         53      F          other    94043          0\n3         23      M         writer    32067          1\n4         24      M     technician    43537          1\n5         33      F          other    15213          0\n...      ...    ...            ...      ...        ...\n939       26      F        student    33319          0\n940       32      M  administrator    02215          1\n941       20      M        student    97229          1\n942       48      F      librarian    78209          0\n943       22      M        student    77841          1\n\n[943 rows x 5 columns]",
      "text/html": "<div>\n<style scoped>\n    .dataframe tbody tr th:only-of-type {\n        vertical-align: middle;\n    }\n\n    .dataframe tbody tr th {\n        vertical-align: top;\n    }\n\n    .dataframe thead th {\n        text-align: right;\n    }\n</style>\n<table border=\"1\" class=\"dataframe\">\n  <thead>\n    <tr style=\"text-align: right;\">\n      <th></th>\n      <th>age</th>\n      <th>gender</th>\n      <th>occupation</th>\n      <th>zip_code</th>\n      <th>nueva_col</th>\n    </tr>\n    <tr>\n      <th>user_id</th>\n      <th></th>\n      <th></th>\n      <th></th>\n      <th></th>\n      <th></th>\n    </tr>\n  </thead>\n  <tbody>\n    <tr>\n      <th>1</th>\n      <td>24</td>\n      <td>M</td>\n      <td>technician</td>\n      <td>85711</td>\n      <td>1</td>\n    </tr>\n    <tr>\n      <th>2</th>\n      <td>53</td>\n      <td>F</td>\n      <td>other</td>\n      <td>94043</td>\n      <td>0</td>\n    </tr>\n    <tr>\n      <th>3</th>\n      <td>23</td>\n      <td>M</td>\n      <td>writer</td>\n      <td>32067</td>\n      <td>1</td>\n    </tr>\n    <tr>\n      <th>4</th>\n      <td>24</td>\n      <td>M</td>\n      <td>technician</td>\n      <td>43537</td>\n      <td>1</td>\n    </tr>\n    <tr>\n      <th>5</th>\n      <td>33</td>\n      <td>F</td>\n      <td>other</td>\n      <td>15213</td>\n      <td>0</td>\n    </tr>\n    <tr>\n      <th>...</th>\n      <td>...</td>\n      <td>...</td>\n      <td>...</td>\n      <td>...</td>\n      <td>...</td>\n    </tr>\n    <tr>\n      <th>939</th>\n      <td>26</td>\n      <td>F</td>\n      <td>student</td>\n      <td>33319</td>\n      <td>0</td>\n    </tr>\n    <tr>\n      <th>940</th>\n      <td>32</td>\n      <td>M</td>\n      <td>administrator</td>\n      <td>02215</td>\n      <td>1</td>\n    </tr>\n    <tr>\n      <th>941</th>\n      <td>20</td>\n      <td>M</td>\n      <td>student</td>\n      <td>97229</td>\n      <td>1</td>\n    </tr>\n    <tr>\n      <th>942</th>\n      <td>48</td>\n      <td>F</td>\n      <td>librarian</td>\n      <td>78209</td>\n      <td>0</td>\n    </tr>\n    <tr>\n      <th>943</th>\n      <td>22</td>\n      <td>M</td>\n      <td>student</td>\n      <td>77841</td>\n      <td>1</td>\n    </tr>\n  </tbody>\n</table>\n<p>943 rows × 5 columns</p>\n</div>"
     },
     "metadata": {},
     "execution_count": 117
    }
   ],
   "source": [
    "def gender_to_numeric(x):\n",
    "    if x == \"M\":\n",
    "        return 1\n",
    "    if x ==\"F\":\n",
    "        return 0\n",
    "\n",
    "users[\"nueva_col\"]=users[\"gender\"].apply(gender_to_numeric)\n",
    "users"
   ]
  },
  {
   "cell_type": "code",
   "execution_count": 118,
   "metadata": {},
   "outputs": [
    {
     "output_type": "execute_result",
     "data": {
      "text/plain": "occupation\nadministrator     43\nartist            15\ndoctor             7\neducator          69\nengineer          65\nentertainment     16\nexecutive         29\nhealthcare         5\nhomemaker          1\nlawyer            10\nlibrarian         22\nmarketing         16\nnone               5\nother             69\nprogrammer        60\nretired           13\nsalesman           9\nscientist         28\nstudent          136\ntechnician        26\nwriter            26\nName: nueva_col, dtype: int64"
     },
     "metadata": {},
     "execution_count": 118
    }
   ],
   "source": [
    "users.groupby(\"occupation\").nueva_col.sum()"
   ]
  },
  {
   "cell_type": "code",
   "execution_count": 119,
   "metadata": {},
   "outputs": [
    {
     "output_type": "execute_result",
     "data": {
      "text/plain": "student          196\nother            105\neducator          95\nadministrator     79\nengineer          67\nprogrammer        66\nlibrarian         51\nwriter            45\nexecutive         32\nscientist         31\nartist            28\ntechnician        27\nmarketing         26\nentertainment     18\nhealthcare        16\nretired           14\nsalesman          12\nlawyer            12\nnone               9\ndoctor             7\nhomemaker          7\nName: occupation, dtype: int64"
     },
     "metadata": {},
     "execution_count": 119
    }
   ],
   "source": [
    "users.occupation.value_counts()"
   ]
  },
  {
   "cell_type": "code",
   "execution_count": 120,
   "metadata": {},
   "outputs": [
    {
     "output_type": "execute_result",
     "data": {
      "text/plain": "doctor           100.0%\nengineer         97.01%\ntechnician        96.3%\nretired          92.86%\nprogrammer       90.91%\nexecutive        90.62%\nscientist        90.32%\nentertainment    88.89%\nlawyer           83.33%\nsalesman          75.0%\neducator         72.63%\nstudent          69.39%\nother            65.71%\nmarketing        61.54%\nwriter           57.78%\nnone             55.56%\nadministrator    54.43%\nartist           53.57%\nlibrarian        43.14%\nhealthcare       31.25%\nhomemaker        14.29%\ndtype: object"
     },
     "metadata": {},
     "execution_count": 120
    }
   ],
   "source": [
    "a = (users.groupby('occupation').nueva_col.sum() / users.occupation.value_counts()) * 100 \n",
    "# sort to the most male \n",
    "a = a.sort_values(ascending = False).round(2)\n",
    "a.astype(str) + \"%\"\n"
   ]
  },
  {
   "cell_type": "markdown",
   "metadata": {},
   "source": [
    "### Step 6. For each occupation, calculate the minimum and maximum ages"
   ]
  },
  {
   "cell_type": "code",
   "execution_count": 121,
   "metadata": {},
   "outputs": [
    {
     "output_type": "execute_result",
     "data": {
      "text/plain": "         age gender     occupation zip_code  nueva_col\nuser_id                                               \n1         24      M     technician    85711          1\n2         53      F          other    94043          0\n3         23      M         writer    32067          1\n4         24      M     technician    43537          1\n5         33      F          other    15213          0\n...      ...    ...            ...      ...        ...\n939       26      F        student    33319          0\n940       32      M  administrator    02215          1\n941       20      M        student    97229          1\n942       48      F      librarian    78209          0\n943       22      M        student    77841          1\n\n[943 rows x 5 columns]",
      "text/html": "<div>\n<style scoped>\n    .dataframe tbody tr th:only-of-type {\n        vertical-align: middle;\n    }\n\n    .dataframe tbody tr th {\n        vertical-align: top;\n    }\n\n    .dataframe thead th {\n        text-align: right;\n    }\n</style>\n<table border=\"1\" class=\"dataframe\">\n  <thead>\n    <tr style=\"text-align: right;\">\n      <th></th>\n      <th>age</th>\n      <th>gender</th>\n      <th>occupation</th>\n      <th>zip_code</th>\n      <th>nueva_col</th>\n    </tr>\n    <tr>\n      <th>user_id</th>\n      <th></th>\n      <th></th>\n      <th></th>\n      <th></th>\n      <th></th>\n    </tr>\n  </thead>\n  <tbody>\n    <tr>\n      <th>1</th>\n      <td>24</td>\n      <td>M</td>\n      <td>technician</td>\n      <td>85711</td>\n      <td>1</td>\n    </tr>\n    <tr>\n      <th>2</th>\n      <td>53</td>\n      <td>F</td>\n      <td>other</td>\n      <td>94043</td>\n      <td>0</td>\n    </tr>\n    <tr>\n      <th>3</th>\n      <td>23</td>\n      <td>M</td>\n      <td>writer</td>\n      <td>32067</td>\n      <td>1</td>\n    </tr>\n    <tr>\n      <th>4</th>\n      <td>24</td>\n      <td>M</td>\n      <td>technician</td>\n      <td>43537</td>\n      <td>1</td>\n    </tr>\n    <tr>\n      <th>5</th>\n      <td>33</td>\n      <td>F</td>\n      <td>other</td>\n      <td>15213</td>\n      <td>0</td>\n    </tr>\n    <tr>\n      <th>...</th>\n      <td>...</td>\n      <td>...</td>\n      <td>...</td>\n      <td>...</td>\n      <td>...</td>\n    </tr>\n    <tr>\n      <th>939</th>\n      <td>26</td>\n      <td>F</td>\n      <td>student</td>\n      <td>33319</td>\n      <td>0</td>\n    </tr>\n    <tr>\n      <th>940</th>\n      <td>32</td>\n      <td>M</td>\n      <td>administrator</td>\n      <td>02215</td>\n      <td>1</td>\n    </tr>\n    <tr>\n      <th>941</th>\n      <td>20</td>\n      <td>M</td>\n      <td>student</td>\n      <td>97229</td>\n      <td>1</td>\n    </tr>\n    <tr>\n      <th>942</th>\n      <td>48</td>\n      <td>F</td>\n      <td>librarian</td>\n      <td>78209</td>\n      <td>0</td>\n    </tr>\n    <tr>\n      <th>943</th>\n      <td>22</td>\n      <td>M</td>\n      <td>student</td>\n      <td>77841</td>\n      <td>1</td>\n    </tr>\n  </tbody>\n</table>\n<p>943 rows × 5 columns</p>\n</div>"
     },
     "metadata": {},
     "execution_count": 121
    }
   ],
   "source": [
    "users"
   ]
  },
  {
   "cell_type": "code",
   "execution_count": 122,
   "metadata": {
    "collapsed": false
   },
   "outputs": [
    {
     "output_type": "execute_result",
     "data": {
      "text/plain": "               min  max\noccupation             \nadministrator   21   70\nartist          19   48\ndoctor          28   64\neducator        23   63\nengineer        22   70\nentertainment   15   50\nexecutive       22   69\nhealthcare      22   62\nhomemaker       20   50\nlawyer          21   53\nlibrarian       23   69\nmarketing       24   55\nnone            11   55\nother           13   64\nprogrammer      20   63\nretired         51   73\nsalesman        18   66\nscientist       23   55\nstudent          7   42\ntechnician      21   55\nwriter          18   60",
      "text/html": "<div>\n<style scoped>\n    .dataframe tbody tr th:only-of-type {\n        vertical-align: middle;\n    }\n\n    .dataframe tbody tr th {\n        vertical-align: top;\n    }\n\n    .dataframe thead th {\n        text-align: right;\n    }\n</style>\n<table border=\"1\" class=\"dataframe\">\n  <thead>\n    <tr style=\"text-align: right;\">\n      <th></th>\n      <th>min</th>\n      <th>max</th>\n    </tr>\n    <tr>\n      <th>occupation</th>\n      <th></th>\n      <th></th>\n    </tr>\n  </thead>\n  <tbody>\n    <tr>\n      <th>administrator</th>\n      <td>21</td>\n      <td>70</td>\n    </tr>\n    <tr>\n      <th>artist</th>\n      <td>19</td>\n      <td>48</td>\n    </tr>\n    <tr>\n      <th>doctor</th>\n      <td>28</td>\n      <td>64</td>\n    </tr>\n    <tr>\n      <th>educator</th>\n      <td>23</td>\n      <td>63</td>\n    </tr>\n    <tr>\n      <th>engineer</th>\n      <td>22</td>\n      <td>70</td>\n    </tr>\n    <tr>\n      <th>entertainment</th>\n      <td>15</td>\n      <td>50</td>\n    </tr>\n    <tr>\n      <th>executive</th>\n      <td>22</td>\n      <td>69</td>\n    </tr>\n    <tr>\n      <th>healthcare</th>\n      <td>22</td>\n      <td>62</td>\n    </tr>\n    <tr>\n      <th>homemaker</th>\n      <td>20</td>\n      <td>50</td>\n    </tr>\n    <tr>\n      <th>lawyer</th>\n      <td>21</td>\n      <td>53</td>\n    </tr>\n    <tr>\n      <th>librarian</th>\n      <td>23</td>\n      <td>69</td>\n    </tr>\n    <tr>\n      <th>marketing</th>\n      <td>24</td>\n      <td>55</td>\n    </tr>\n    <tr>\n      <th>none</th>\n      <td>11</td>\n      <td>55</td>\n    </tr>\n    <tr>\n      <th>other</th>\n      <td>13</td>\n      <td>64</td>\n    </tr>\n    <tr>\n      <th>programmer</th>\n      <td>20</td>\n      <td>63</td>\n    </tr>\n    <tr>\n      <th>retired</th>\n      <td>51</td>\n      <td>73</td>\n    </tr>\n    <tr>\n      <th>salesman</th>\n      <td>18</td>\n      <td>66</td>\n    </tr>\n    <tr>\n      <th>scientist</th>\n      <td>23</td>\n      <td>55</td>\n    </tr>\n    <tr>\n      <th>student</th>\n      <td>7</td>\n      <td>42</td>\n    </tr>\n    <tr>\n      <th>technician</th>\n      <td>21</td>\n      <td>55</td>\n    </tr>\n    <tr>\n      <th>writer</th>\n      <td>18</td>\n      <td>60</td>\n    </tr>\n  </tbody>\n</table>\n</div>"
     },
     "metadata": {},
     "execution_count": 122
    }
   ],
   "source": [
    "users.groupby(\"occupation\").age.agg([\"min\",\"max\"])"
   ]
  },
  {
   "cell_type": "markdown",
   "metadata": {},
   "source": [
    "### Step 7. For each combination of occupation and gender, calculate the mean age"
   ]
  },
  {
   "cell_type": "code",
   "execution_count": 123,
   "metadata": {
    "collapsed": false
   },
   "outputs": [
    {
     "output_type": "execute_result",
     "data": {
      "text/plain": "                            age\noccupation    gender           \nadministrator F       40.638889\n              M       37.162791\nartist        F       30.307692\n              M       32.333333\ndoctor        M       43.571429\neducator      F       39.115385\n              M       43.101449\nengineer      F       29.500000\n              M       36.600000\nentertainment F       31.000000\n              M       29.000000\nexecutive     F       44.000000\n              M       38.172414\nhealthcare    F       39.818182\n              M       45.400000\nhomemaker     F       34.166667\n              M       23.000000\nlawyer        F       39.500000\n              M       36.200000\nlibrarian     F       40.000000\n              M       40.000000\nmarketing     F       37.200000\n              M       37.875000\nnone          F       36.500000\n              M       18.600000\nother         F       35.472222\n              M       34.028986\nprogrammer    F       32.166667\n              M       33.216667\nretired       F       70.000000\n              M       62.538462\nsalesman      F       27.000000\n              M       38.555556\nscientist     F       28.333333\n              M       36.321429\nstudent       F       20.750000\n              M       22.669118\ntechnician    F       38.000000\n              M       32.961538\nwriter        F       37.631579\n              M       35.346154",
      "text/html": "<div>\n<style scoped>\n    .dataframe tbody tr th:only-of-type {\n        vertical-align: middle;\n    }\n\n    .dataframe tbody tr th {\n        vertical-align: top;\n    }\n\n    .dataframe thead th {\n        text-align: right;\n    }\n</style>\n<table border=\"1\" class=\"dataframe\">\n  <thead>\n    <tr style=\"text-align: right;\">\n      <th></th>\n      <th></th>\n      <th>age</th>\n    </tr>\n    <tr>\n      <th>occupation</th>\n      <th>gender</th>\n      <th></th>\n    </tr>\n  </thead>\n  <tbody>\n    <tr>\n      <th rowspan=\"2\" valign=\"top\">administrator</th>\n      <th>F</th>\n      <td>40.638889</td>\n    </tr>\n    <tr>\n      <th>M</th>\n      <td>37.162791</td>\n    </tr>\n    <tr>\n      <th rowspan=\"2\" valign=\"top\">artist</th>\n      <th>F</th>\n      <td>30.307692</td>\n    </tr>\n    <tr>\n      <th>M</th>\n      <td>32.333333</td>\n    </tr>\n    <tr>\n      <th>doctor</th>\n      <th>M</th>\n      <td>43.571429</td>\n    </tr>\n    <tr>\n      <th rowspan=\"2\" valign=\"top\">educator</th>\n      <th>F</th>\n      <td>39.115385</td>\n    </tr>\n    <tr>\n      <th>M</th>\n      <td>43.101449</td>\n    </tr>\n    <tr>\n      <th rowspan=\"2\" valign=\"top\">engineer</th>\n      <th>F</th>\n      <td>29.500000</td>\n    </tr>\n    <tr>\n      <th>M</th>\n      <td>36.600000</td>\n    </tr>\n    <tr>\n      <th rowspan=\"2\" valign=\"top\">entertainment</th>\n      <th>F</th>\n      <td>31.000000</td>\n    </tr>\n    <tr>\n      <th>M</th>\n      <td>29.000000</td>\n    </tr>\n    <tr>\n      <th rowspan=\"2\" valign=\"top\">executive</th>\n      <th>F</th>\n      <td>44.000000</td>\n    </tr>\n    <tr>\n      <th>M</th>\n      <td>38.172414</td>\n    </tr>\n    <tr>\n      <th rowspan=\"2\" valign=\"top\">healthcare</th>\n      <th>F</th>\n      <td>39.818182</td>\n    </tr>\n    <tr>\n      <th>M</th>\n      <td>45.400000</td>\n    </tr>\n    <tr>\n      <th rowspan=\"2\" valign=\"top\">homemaker</th>\n      <th>F</th>\n      <td>34.166667</td>\n    </tr>\n    <tr>\n      <th>M</th>\n      <td>23.000000</td>\n    </tr>\n    <tr>\n      <th rowspan=\"2\" valign=\"top\">lawyer</th>\n      <th>F</th>\n      <td>39.500000</td>\n    </tr>\n    <tr>\n      <th>M</th>\n      <td>36.200000</td>\n    </tr>\n    <tr>\n      <th rowspan=\"2\" valign=\"top\">librarian</th>\n      <th>F</th>\n      <td>40.000000</td>\n    </tr>\n    <tr>\n      <th>M</th>\n      <td>40.000000</td>\n    </tr>\n    <tr>\n      <th rowspan=\"2\" valign=\"top\">marketing</th>\n      <th>F</th>\n      <td>37.200000</td>\n    </tr>\n    <tr>\n      <th>M</th>\n      <td>37.875000</td>\n    </tr>\n    <tr>\n      <th rowspan=\"2\" valign=\"top\">none</th>\n      <th>F</th>\n      <td>36.500000</td>\n    </tr>\n    <tr>\n      <th>M</th>\n      <td>18.600000</td>\n    </tr>\n    <tr>\n      <th rowspan=\"2\" valign=\"top\">other</th>\n      <th>F</th>\n      <td>35.472222</td>\n    </tr>\n    <tr>\n      <th>M</th>\n      <td>34.028986</td>\n    </tr>\n    <tr>\n      <th rowspan=\"2\" valign=\"top\">programmer</th>\n      <th>F</th>\n      <td>32.166667</td>\n    </tr>\n    <tr>\n      <th>M</th>\n      <td>33.216667</td>\n    </tr>\n    <tr>\n      <th rowspan=\"2\" valign=\"top\">retired</th>\n      <th>F</th>\n      <td>70.000000</td>\n    </tr>\n    <tr>\n      <th>M</th>\n      <td>62.538462</td>\n    </tr>\n    <tr>\n      <th rowspan=\"2\" valign=\"top\">salesman</th>\n      <th>F</th>\n      <td>27.000000</td>\n    </tr>\n    <tr>\n      <th>M</th>\n      <td>38.555556</td>\n    </tr>\n    <tr>\n      <th rowspan=\"2\" valign=\"top\">scientist</th>\n      <th>F</th>\n      <td>28.333333</td>\n    </tr>\n    <tr>\n      <th>M</th>\n      <td>36.321429</td>\n    </tr>\n    <tr>\n      <th rowspan=\"2\" valign=\"top\">student</th>\n      <th>F</th>\n      <td>20.750000</td>\n    </tr>\n    <tr>\n      <th>M</th>\n      <td>22.669118</td>\n    </tr>\n    <tr>\n      <th rowspan=\"2\" valign=\"top\">technician</th>\n      <th>F</th>\n      <td>38.000000</td>\n    </tr>\n    <tr>\n      <th>M</th>\n      <td>32.961538</td>\n    </tr>\n    <tr>\n      <th rowspan=\"2\" valign=\"top\">writer</th>\n      <th>F</th>\n      <td>37.631579</td>\n    </tr>\n    <tr>\n      <th>M</th>\n      <td>35.346154</td>\n    </tr>\n  </tbody>\n</table>\n</div>"
     },
     "metadata": {},
     "execution_count": 123
    }
   ],
   "source": [
    "users.groupby([\"occupation\",\"gender\"]).mean().loc[:,:\"age\"]"
   ]
  },
  {
   "cell_type": "code",
   "execution_count": 124,
   "metadata": {},
   "outputs": [
    {
     "output_type": "execute_result",
     "data": {
      "text/plain": "occupation     gender\nadministrator  F         40.638889\n               M         37.162791\nartist         F         30.307692\n               M         32.333333\ndoctor         M         43.571429\neducator       F         39.115385\n               M         43.101449\nengineer       F         29.500000\n               M         36.600000\nentertainment  F         31.000000\n               M         29.000000\nexecutive      F         44.000000\n               M         38.172414\nhealthcare     F         39.818182\n               M         45.400000\nhomemaker      F         34.166667\n               M         23.000000\nlawyer         F         39.500000\n               M         36.200000\nlibrarian      F         40.000000\n               M         40.000000\nmarketing      F         37.200000\n               M         37.875000\nnone           F         36.500000\n               M         18.600000\nother          F         35.472222\n               M         34.028986\nprogrammer     F         32.166667\n               M         33.216667\nretired        F         70.000000\n               M         62.538462\nsalesman       F         27.000000\n               M         38.555556\nscientist      F         28.333333\n               M         36.321429\nstudent        F         20.750000\n               M         22.669118\ntechnician     F         38.000000\n               M         32.961538\nwriter         F         37.631579\n               M         35.346154\nName: age, dtype: float64"
     },
     "metadata": {},
     "execution_count": 124
    }
   ],
   "source": [
    "users.groupby([\"occupation\",\"gender\"]).age.mean()"
   ]
  },
  {
   "cell_type": "markdown",
   "metadata": {},
   "source": [
    "### Step 8.  For each occupation present the percentage of women and men"
   ]
  },
  {
   "cell_type": "code",
   "execution_count": 125,
   "metadata": {
    "collapsed": false
   },
   "outputs": [
    {
     "output_type": "execute_result",
     "data": {
      "text/plain": "gender            F      M\noccupation                \nadministrator  36.0   43.0\nartist         13.0   15.0\ndoctor          NaN    7.0\neducator       26.0   69.0\nengineer        2.0   65.0\nentertainment   2.0   16.0\nexecutive       3.0   29.0\nhealthcare     11.0    5.0\nhomemaker       6.0    1.0\nlawyer          2.0   10.0\nlibrarian      29.0   22.0\nmarketing      10.0   16.0\nnone            4.0    5.0\nother          36.0   69.0\nprogrammer      6.0   60.0\nretired         1.0   13.0\nsalesman        3.0    9.0\nscientist       3.0   28.0\nstudent        60.0  136.0\ntechnician      1.0   26.0\nwriter         19.0   26.0",
      "text/html": "<div>\n<style scoped>\n    .dataframe tbody tr th:only-of-type {\n        vertical-align: middle;\n    }\n\n    .dataframe tbody tr th {\n        vertical-align: top;\n    }\n\n    .dataframe thead th {\n        text-align: right;\n    }\n</style>\n<table border=\"1\" class=\"dataframe\">\n  <thead>\n    <tr style=\"text-align: right;\">\n      <th>gender</th>\n      <th>F</th>\n      <th>M</th>\n    </tr>\n    <tr>\n      <th>occupation</th>\n      <th></th>\n      <th></th>\n    </tr>\n  </thead>\n  <tbody>\n    <tr>\n      <th>administrator</th>\n      <td>36.0</td>\n      <td>43.0</td>\n    </tr>\n    <tr>\n      <th>artist</th>\n      <td>13.0</td>\n      <td>15.0</td>\n    </tr>\n    <tr>\n      <th>doctor</th>\n      <td>NaN</td>\n      <td>7.0</td>\n    </tr>\n    <tr>\n      <th>educator</th>\n      <td>26.0</td>\n      <td>69.0</td>\n    </tr>\n    <tr>\n      <th>engineer</th>\n      <td>2.0</td>\n      <td>65.0</td>\n    </tr>\n    <tr>\n      <th>entertainment</th>\n      <td>2.0</td>\n      <td>16.0</td>\n    </tr>\n    <tr>\n      <th>executive</th>\n      <td>3.0</td>\n      <td>29.0</td>\n    </tr>\n    <tr>\n      <th>healthcare</th>\n      <td>11.0</td>\n      <td>5.0</td>\n    </tr>\n    <tr>\n      <th>homemaker</th>\n      <td>6.0</td>\n      <td>1.0</td>\n    </tr>\n    <tr>\n      <th>lawyer</th>\n      <td>2.0</td>\n      <td>10.0</td>\n    </tr>\n    <tr>\n      <th>librarian</th>\n      <td>29.0</td>\n      <td>22.0</td>\n    </tr>\n    <tr>\n      <th>marketing</th>\n      <td>10.0</td>\n      <td>16.0</td>\n    </tr>\n    <tr>\n      <th>none</th>\n      <td>4.0</td>\n      <td>5.0</td>\n    </tr>\n    <tr>\n      <th>other</th>\n      <td>36.0</td>\n      <td>69.0</td>\n    </tr>\n    <tr>\n      <th>programmer</th>\n      <td>6.0</td>\n      <td>60.0</td>\n    </tr>\n    <tr>\n      <th>retired</th>\n      <td>1.0</td>\n      <td>13.0</td>\n    </tr>\n    <tr>\n      <th>salesman</th>\n      <td>3.0</td>\n      <td>9.0</td>\n    </tr>\n    <tr>\n      <th>scientist</th>\n      <td>3.0</td>\n      <td>28.0</td>\n    </tr>\n    <tr>\n      <th>student</th>\n      <td>60.0</td>\n      <td>136.0</td>\n    </tr>\n    <tr>\n      <th>technician</th>\n      <td>1.0</td>\n      <td>26.0</td>\n    </tr>\n    <tr>\n      <th>writer</th>\n      <td>19.0</td>\n      <td>26.0</td>\n    </tr>\n  </tbody>\n</table>\n</div>"
     },
     "metadata": {},
     "execution_count": 125
    }
   ],
   "source": [
    "s=pd.pivot_table(data=users, values=\"age\", index=\"occupation\", columns=\"gender\", aggfunc=\"count\")\n",
    "s"
   ]
  },
  {
   "cell_type": "code",
   "execution_count": 126,
   "metadata": {},
   "outputs": [
    {
     "output_type": "execute_result",
     "data": {
      "text/plain": "gender            F      M\noccupation                \nadministrator  36.0   43.0\nartist         13.0   15.0\ndoctor          0.0    7.0\neducator       26.0   69.0\nengineer        2.0   65.0\nentertainment   2.0   16.0\nexecutive       3.0   29.0\nhealthcare     11.0    5.0\nhomemaker       6.0    1.0\nlawyer          2.0   10.0\nlibrarian      29.0   22.0\nmarketing      10.0   16.0\nnone            4.0    5.0\nother          36.0   69.0\nprogrammer      6.0   60.0\nretired         1.0   13.0\nsalesman        3.0    9.0\nscientist       3.0   28.0\nstudent        60.0  136.0\ntechnician      1.0   26.0\nwriter         19.0   26.0",
      "text/html": "<div>\n<style scoped>\n    .dataframe tbody tr th:only-of-type {\n        vertical-align: middle;\n    }\n\n    .dataframe tbody tr th {\n        vertical-align: top;\n    }\n\n    .dataframe thead th {\n        text-align: right;\n    }\n</style>\n<table border=\"1\" class=\"dataframe\">\n  <thead>\n    <tr style=\"text-align: right;\">\n      <th>gender</th>\n      <th>F</th>\n      <th>M</th>\n    </tr>\n    <tr>\n      <th>occupation</th>\n      <th></th>\n      <th></th>\n    </tr>\n  </thead>\n  <tbody>\n    <tr>\n      <th>administrator</th>\n      <td>36.0</td>\n      <td>43.0</td>\n    </tr>\n    <tr>\n      <th>artist</th>\n      <td>13.0</td>\n      <td>15.0</td>\n    </tr>\n    <tr>\n      <th>doctor</th>\n      <td>0.0</td>\n      <td>7.0</td>\n    </tr>\n    <tr>\n      <th>educator</th>\n      <td>26.0</td>\n      <td>69.0</td>\n    </tr>\n    <tr>\n      <th>engineer</th>\n      <td>2.0</td>\n      <td>65.0</td>\n    </tr>\n    <tr>\n      <th>entertainment</th>\n      <td>2.0</td>\n      <td>16.0</td>\n    </tr>\n    <tr>\n      <th>executive</th>\n      <td>3.0</td>\n      <td>29.0</td>\n    </tr>\n    <tr>\n      <th>healthcare</th>\n      <td>11.0</td>\n      <td>5.0</td>\n    </tr>\n    <tr>\n      <th>homemaker</th>\n      <td>6.0</td>\n      <td>1.0</td>\n    </tr>\n    <tr>\n      <th>lawyer</th>\n      <td>2.0</td>\n      <td>10.0</td>\n    </tr>\n    <tr>\n      <th>librarian</th>\n      <td>29.0</td>\n      <td>22.0</td>\n    </tr>\n    <tr>\n      <th>marketing</th>\n      <td>10.0</td>\n      <td>16.0</td>\n    </tr>\n    <tr>\n      <th>none</th>\n      <td>4.0</td>\n      <td>5.0</td>\n    </tr>\n    <tr>\n      <th>other</th>\n      <td>36.0</td>\n      <td>69.0</td>\n    </tr>\n    <tr>\n      <th>programmer</th>\n      <td>6.0</td>\n      <td>60.0</td>\n    </tr>\n    <tr>\n      <th>retired</th>\n      <td>1.0</td>\n      <td>13.0</td>\n    </tr>\n    <tr>\n      <th>salesman</th>\n      <td>3.0</td>\n      <td>9.0</td>\n    </tr>\n    <tr>\n      <th>scientist</th>\n      <td>3.0</td>\n      <td>28.0</td>\n    </tr>\n    <tr>\n      <th>student</th>\n      <td>60.0</td>\n      <td>136.0</td>\n    </tr>\n    <tr>\n      <th>technician</th>\n      <td>1.0</td>\n      <td>26.0</td>\n    </tr>\n    <tr>\n      <th>writer</th>\n      <td>19.0</td>\n      <td>26.0</td>\n    </tr>\n  </tbody>\n</table>\n</div>"
     },
     "metadata": {},
     "execution_count": 126
    }
   ],
   "source": [
    "s = s.fillna(0)\n",
    "s"
   ]
  },
  {
   "cell_type": "code",
   "execution_count": 127,
   "metadata": {},
   "outputs": [
    {
     "output_type": "execute_result",
     "data": {
      "text/plain": "gender            F      M  Total\noccupation                       \nadministrator  36.0   43.0   79.0\nartist         13.0   15.0   28.0\ndoctor          0.0    7.0    7.0\neducator       26.0   69.0   95.0\nengineer        2.0   65.0   67.0\nentertainment   2.0   16.0   18.0\nexecutive       3.0   29.0   32.0\nhealthcare     11.0    5.0   16.0\nhomemaker       6.0    1.0    7.0\nlawyer          2.0   10.0   12.0\nlibrarian      29.0   22.0   51.0\nmarketing      10.0   16.0   26.0\nnone            4.0    5.0    9.0\nother          36.0   69.0  105.0\nprogrammer      6.0   60.0   66.0\nretired         1.0   13.0   14.0\nsalesman        3.0    9.0   12.0\nscientist       3.0   28.0   31.0\nstudent        60.0  136.0  196.0\ntechnician      1.0   26.0   27.0\nwriter         19.0   26.0   45.0",
      "text/html": "<div>\n<style scoped>\n    .dataframe tbody tr th:only-of-type {\n        vertical-align: middle;\n    }\n\n    .dataframe tbody tr th {\n        vertical-align: top;\n    }\n\n    .dataframe thead th {\n        text-align: right;\n    }\n</style>\n<table border=\"1\" class=\"dataframe\">\n  <thead>\n    <tr style=\"text-align: right;\">\n      <th>gender</th>\n      <th>F</th>\n      <th>M</th>\n      <th>Total</th>\n    </tr>\n    <tr>\n      <th>occupation</th>\n      <th></th>\n      <th></th>\n      <th></th>\n    </tr>\n  </thead>\n  <tbody>\n    <tr>\n      <th>administrator</th>\n      <td>36.0</td>\n      <td>43.0</td>\n      <td>79.0</td>\n    </tr>\n    <tr>\n      <th>artist</th>\n      <td>13.0</td>\n      <td>15.0</td>\n      <td>28.0</td>\n    </tr>\n    <tr>\n      <th>doctor</th>\n      <td>0.0</td>\n      <td>7.0</td>\n      <td>7.0</td>\n    </tr>\n    <tr>\n      <th>educator</th>\n      <td>26.0</td>\n      <td>69.0</td>\n      <td>95.0</td>\n    </tr>\n    <tr>\n      <th>engineer</th>\n      <td>2.0</td>\n      <td>65.0</td>\n      <td>67.0</td>\n    </tr>\n    <tr>\n      <th>entertainment</th>\n      <td>2.0</td>\n      <td>16.0</td>\n      <td>18.0</td>\n    </tr>\n    <tr>\n      <th>executive</th>\n      <td>3.0</td>\n      <td>29.0</td>\n      <td>32.0</td>\n    </tr>\n    <tr>\n      <th>healthcare</th>\n      <td>11.0</td>\n      <td>5.0</td>\n      <td>16.0</td>\n    </tr>\n    <tr>\n      <th>homemaker</th>\n      <td>6.0</td>\n      <td>1.0</td>\n      <td>7.0</td>\n    </tr>\n    <tr>\n      <th>lawyer</th>\n      <td>2.0</td>\n      <td>10.0</td>\n      <td>12.0</td>\n    </tr>\n    <tr>\n      <th>librarian</th>\n      <td>29.0</td>\n      <td>22.0</td>\n      <td>51.0</td>\n    </tr>\n    <tr>\n      <th>marketing</th>\n      <td>10.0</td>\n      <td>16.0</td>\n      <td>26.0</td>\n    </tr>\n    <tr>\n      <th>none</th>\n      <td>4.0</td>\n      <td>5.0</td>\n      <td>9.0</td>\n    </tr>\n    <tr>\n      <th>other</th>\n      <td>36.0</td>\n      <td>69.0</td>\n      <td>105.0</td>\n    </tr>\n    <tr>\n      <th>programmer</th>\n      <td>6.0</td>\n      <td>60.0</td>\n      <td>66.0</td>\n    </tr>\n    <tr>\n      <th>retired</th>\n      <td>1.0</td>\n      <td>13.0</td>\n      <td>14.0</td>\n    </tr>\n    <tr>\n      <th>salesman</th>\n      <td>3.0</td>\n      <td>9.0</td>\n      <td>12.0</td>\n    </tr>\n    <tr>\n      <th>scientist</th>\n      <td>3.0</td>\n      <td>28.0</td>\n      <td>31.0</td>\n    </tr>\n    <tr>\n      <th>student</th>\n      <td>60.0</td>\n      <td>136.0</td>\n      <td>196.0</td>\n    </tr>\n    <tr>\n      <th>technician</th>\n      <td>1.0</td>\n      <td>26.0</td>\n      <td>27.0</td>\n    </tr>\n    <tr>\n      <th>writer</th>\n      <td>19.0</td>\n      <td>26.0</td>\n      <td>45.0</td>\n    </tr>\n  </tbody>\n</table>\n</div>"
     },
     "metadata": {},
     "execution_count": 127
    }
   ],
   "source": [
    "s[\"Total\"]= s[\"M\"]+ s[\"F\"]\n",
    "s"
   ]
  },
  {
   "cell_type": "code",
   "execution_count": 128,
   "metadata": {},
   "outputs": [
    {
     "output_type": "execute_result",
     "data": {
      "text/plain": "gender              F       M  Total\noccupation                          \nadministrator  45.57%  54.43%   79.0\nartist         46.43%  53.57%   28.0\ndoctor           0.0%  100.0%    7.0\neducator       27.37%  72.63%   95.0\nengineer        2.99%  97.01%   67.0\nentertainment  11.11%  88.89%   18.0\nexecutive       9.38%  90.62%   32.0\nhealthcare     68.75%  31.25%   16.0\nhomemaker      85.71%  14.29%    7.0\nlawyer         16.67%  83.33%   12.0\nlibrarian      56.86%  43.14%   51.0\nmarketing      38.46%  61.54%   26.0\nnone           44.44%  55.56%    9.0\nother          34.29%  65.71%  105.0\nprogrammer      9.09%  90.91%   66.0\nretired         7.14%  92.86%   14.0\nsalesman        25.0%   75.0%   12.0\nscientist       9.68%  90.32%   31.0\nstudent        30.61%  69.39%  196.0\ntechnician       3.7%   96.3%   27.0\nwriter         42.22%  57.78%   45.0",
      "text/html": "<div>\n<style scoped>\n    .dataframe tbody tr th:only-of-type {\n        vertical-align: middle;\n    }\n\n    .dataframe tbody tr th {\n        vertical-align: top;\n    }\n\n    .dataframe thead th {\n        text-align: right;\n    }\n</style>\n<table border=\"1\" class=\"dataframe\">\n  <thead>\n    <tr style=\"text-align: right;\">\n      <th>gender</th>\n      <th>F</th>\n      <th>M</th>\n      <th>Total</th>\n    </tr>\n    <tr>\n      <th>occupation</th>\n      <th></th>\n      <th></th>\n      <th></th>\n    </tr>\n  </thead>\n  <tbody>\n    <tr>\n      <th>administrator</th>\n      <td>45.57%</td>\n      <td>54.43%</td>\n      <td>79.0</td>\n    </tr>\n    <tr>\n      <th>artist</th>\n      <td>46.43%</td>\n      <td>53.57%</td>\n      <td>28.0</td>\n    </tr>\n    <tr>\n      <th>doctor</th>\n      <td>0.0%</td>\n      <td>100.0%</td>\n      <td>7.0</td>\n    </tr>\n    <tr>\n      <th>educator</th>\n      <td>27.37%</td>\n      <td>72.63%</td>\n      <td>95.0</td>\n    </tr>\n    <tr>\n      <th>engineer</th>\n      <td>2.99%</td>\n      <td>97.01%</td>\n      <td>67.0</td>\n    </tr>\n    <tr>\n      <th>entertainment</th>\n      <td>11.11%</td>\n      <td>88.89%</td>\n      <td>18.0</td>\n    </tr>\n    <tr>\n      <th>executive</th>\n      <td>9.38%</td>\n      <td>90.62%</td>\n      <td>32.0</td>\n    </tr>\n    <tr>\n      <th>healthcare</th>\n      <td>68.75%</td>\n      <td>31.25%</td>\n      <td>16.0</td>\n    </tr>\n    <tr>\n      <th>homemaker</th>\n      <td>85.71%</td>\n      <td>14.29%</td>\n      <td>7.0</td>\n    </tr>\n    <tr>\n      <th>lawyer</th>\n      <td>16.67%</td>\n      <td>83.33%</td>\n      <td>12.0</td>\n    </tr>\n    <tr>\n      <th>librarian</th>\n      <td>56.86%</td>\n      <td>43.14%</td>\n      <td>51.0</td>\n    </tr>\n    <tr>\n      <th>marketing</th>\n      <td>38.46%</td>\n      <td>61.54%</td>\n      <td>26.0</td>\n    </tr>\n    <tr>\n      <th>none</th>\n      <td>44.44%</td>\n      <td>55.56%</td>\n      <td>9.0</td>\n    </tr>\n    <tr>\n      <th>other</th>\n      <td>34.29%</td>\n      <td>65.71%</td>\n      <td>105.0</td>\n    </tr>\n    <tr>\n      <th>programmer</th>\n      <td>9.09%</td>\n      <td>90.91%</td>\n      <td>66.0</td>\n    </tr>\n    <tr>\n      <th>retired</th>\n      <td>7.14%</td>\n      <td>92.86%</td>\n      <td>14.0</td>\n    </tr>\n    <tr>\n      <th>salesman</th>\n      <td>25.0%</td>\n      <td>75.0%</td>\n      <td>12.0</td>\n    </tr>\n    <tr>\n      <th>scientist</th>\n      <td>9.68%</td>\n      <td>90.32%</td>\n      <td>31.0</td>\n    </tr>\n    <tr>\n      <th>student</th>\n      <td>30.61%</td>\n      <td>69.39%</td>\n      <td>196.0</td>\n    </tr>\n    <tr>\n      <th>technician</th>\n      <td>3.7%</td>\n      <td>96.3%</td>\n      <td>27.0</td>\n    </tr>\n    <tr>\n      <th>writer</th>\n      <td>42.22%</td>\n      <td>57.78%</td>\n      <td>45.0</td>\n    </tr>\n  </tbody>\n</table>\n</div>"
     },
     "metadata": {},
     "execution_count": 128
    }
   ],
   "source": [
    "s[\"F\"]=round(((s[\"F\"]/s[\"Total\"])*100),2).astype(str)+\"%\"\n",
    "s[\"M\"]=round(((s[\"M\"]/s[\"Total\"])*100),2).astype(str)+\"%\"\n",
    "s"
   ]
  },
  {
   "cell_type": "code",
   "execution_count": 129,
   "metadata": {},
   "outputs": [
    {
     "output_type": "execute_result",
     "data": {
      "text/plain": "gender              F       M\noccupation                   \nadministrator  45.57%  54.43%\nartist         46.43%  53.57%\ndoctor           0.0%  100.0%\neducator       27.37%  72.63%\nengineer        2.99%  97.01%\nentertainment  11.11%  88.89%\nexecutive       9.38%  90.62%\nhealthcare     68.75%  31.25%\nhomemaker      85.71%  14.29%\nlawyer         16.67%  83.33%\nlibrarian      56.86%  43.14%\nmarketing      38.46%  61.54%\nnone           44.44%  55.56%\nother          34.29%  65.71%\nprogrammer      9.09%  90.91%\nretired         7.14%  92.86%\nsalesman        25.0%   75.0%\nscientist       9.68%  90.32%\nstudent        30.61%  69.39%\ntechnician       3.7%   96.3%\nwriter         42.22%  57.78%",
      "text/html": "<div>\n<style scoped>\n    .dataframe tbody tr th:only-of-type {\n        vertical-align: middle;\n    }\n\n    .dataframe tbody tr th {\n        vertical-align: top;\n    }\n\n    .dataframe thead th {\n        text-align: right;\n    }\n</style>\n<table border=\"1\" class=\"dataframe\">\n  <thead>\n    <tr style=\"text-align: right;\">\n      <th>gender</th>\n      <th>F</th>\n      <th>M</th>\n    </tr>\n    <tr>\n      <th>occupation</th>\n      <th></th>\n      <th></th>\n    </tr>\n  </thead>\n  <tbody>\n    <tr>\n      <th>administrator</th>\n      <td>45.57%</td>\n      <td>54.43%</td>\n    </tr>\n    <tr>\n      <th>artist</th>\n      <td>46.43%</td>\n      <td>53.57%</td>\n    </tr>\n    <tr>\n      <th>doctor</th>\n      <td>0.0%</td>\n      <td>100.0%</td>\n    </tr>\n    <tr>\n      <th>educator</th>\n      <td>27.37%</td>\n      <td>72.63%</td>\n    </tr>\n    <tr>\n      <th>engineer</th>\n      <td>2.99%</td>\n      <td>97.01%</td>\n    </tr>\n    <tr>\n      <th>entertainment</th>\n      <td>11.11%</td>\n      <td>88.89%</td>\n    </tr>\n    <tr>\n      <th>executive</th>\n      <td>9.38%</td>\n      <td>90.62%</td>\n    </tr>\n    <tr>\n      <th>healthcare</th>\n      <td>68.75%</td>\n      <td>31.25%</td>\n    </tr>\n    <tr>\n      <th>homemaker</th>\n      <td>85.71%</td>\n      <td>14.29%</td>\n    </tr>\n    <tr>\n      <th>lawyer</th>\n      <td>16.67%</td>\n      <td>83.33%</td>\n    </tr>\n    <tr>\n      <th>librarian</th>\n      <td>56.86%</td>\n      <td>43.14%</td>\n    </tr>\n    <tr>\n      <th>marketing</th>\n      <td>38.46%</td>\n      <td>61.54%</td>\n    </tr>\n    <tr>\n      <th>none</th>\n      <td>44.44%</td>\n      <td>55.56%</td>\n    </tr>\n    <tr>\n      <th>other</th>\n      <td>34.29%</td>\n      <td>65.71%</td>\n    </tr>\n    <tr>\n      <th>programmer</th>\n      <td>9.09%</td>\n      <td>90.91%</td>\n    </tr>\n    <tr>\n      <th>retired</th>\n      <td>7.14%</td>\n      <td>92.86%</td>\n    </tr>\n    <tr>\n      <th>salesman</th>\n      <td>25.0%</td>\n      <td>75.0%</td>\n    </tr>\n    <tr>\n      <th>scientist</th>\n      <td>9.68%</td>\n      <td>90.32%</td>\n    </tr>\n    <tr>\n      <th>student</th>\n      <td>30.61%</td>\n      <td>69.39%</td>\n    </tr>\n    <tr>\n      <th>technician</th>\n      <td>3.7%</td>\n      <td>96.3%</td>\n    </tr>\n    <tr>\n      <th>writer</th>\n      <td>42.22%</td>\n      <td>57.78%</td>\n    </tr>\n  </tbody>\n</table>\n</div>"
     },
     "metadata": {},
     "execution_count": 129
    }
   ],
   "source": [
    "s.drop(\"Total\",axis=1, inplace=True)\n",
    "s"
   ]
  },
  {
   "cell_type": "code",
   "execution_count": null,
   "metadata": {},
   "outputs": [],
   "source": []
  }
 ],
 "metadata": {
  "kernelspec": {
   "display_name": "Python 3.8.3 64-bit",
   "language": "python",
   "name": "python38364bitcbfd2998b9c747eaa6ef61b7425e754e"
  },
  "language_info": {
   "codemirror_mode": {
    "name": "ipython",
    "version": 2
   },
   "file_extension": ".py",
   "mimetype": "text/x-python",
   "name": "python",
   "nbconvert_exporter": "python",
   "pygments_lexer": "ipython2",
   "version": "3.8.3-final"
  }
 },
 "nbformat": 4,
 "nbformat_minor": 0
}