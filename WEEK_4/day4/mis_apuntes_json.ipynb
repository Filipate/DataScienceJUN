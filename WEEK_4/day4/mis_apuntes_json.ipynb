{
 "cells": [
  {
   "cell_type": "code",
   "execution_count": null,
   "metadata": {},
   "outputs": [],
   "source": [
    "# un Json, tiene una forma muy paarecida a un diccionario con diferentes atributos(keys), cada un con sus valores: atributo, \"squadName\" : \"Super hero Squad\", valor. Tiene varios atributos y  tiene un atributo que se llama members, o sea, se abren corchetes [] y empieza otra colección/lista{} de Jsons, con varios elementos. Cada uno de eses elementos que contiene es un json, cada uno de ese jsons, tiene age, name (o sea varios atributos), hasta que llega al ultimo \"powers\" y vemos que tiene otra colección de valores o strings."
   ]
  },
  {
   "cell_type": "code",
   "execution_count": null,
   "metadata": {},
   "outputs": [],
   "source": [
    "import request \n",
    "import jason\n",
    "import pandas as pd"
   ]
  }
 ],
 "metadata": {
  "language_info": {
   "codemirror_mode": {
    "name": "ipython",
    "version": 3
   },
   "file_extension": ".py",
   "mimetype": "text/x-python",
   "name": "python",
   "nbconvert_exporter": "python",
   "pygments_lexer": "ipython3",
   "version": 3
  },
  "orig_nbformat": 2
 },
 "nbformat": 4,
 "nbformat_minor": 2
}